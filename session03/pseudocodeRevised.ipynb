{
 "cells": [
  {
   "cell_type": "markdown",
   "id": "bcdf1435",
   "metadata": {},
   "source": [
    "\n",
    "```\n",
    "Let n be the number of rows of A\n",
    "X := A\n",
    "Y := I\n",
    "for i in 1:(n-1)\n",
    "    for j in (i+1):n\n",
    "        if X[j,i] != 0\n",
    "            if X[i,i] == 0\n",
    "                X := Pij @ X\n",
    "                Y := Pij @ Y\n",
    "            end \n",
    "            l := X[j,i]/X[i,i]\n",
    "            Eji := I\n",
    "            Eji[j,i] := –l\n",
    "            X := Eji @ X\n",
    "            Y := Eji @ Y\n",
    "        end\n",
    "     end\n",
    "end\n",
    "\n",
    "for i in n:2\n",
    "    for j in (i-1):1\n",
    "          u := X[j,i]/X[i,i]\n",
    "          Eji := I\n",
    "          Eji[j,i] := –u\n",
    "          X := Eji @ X\n",
    "          Y := Eji @ Y\n",
    "    end\n",
    "end\n",
    "\n",
    "D := I\n",
    "\n",
    "for i in 1:n\n",
    "    D[i,i] = 1/X[i,i]\n",
    "end\n",
    "\n",
    "Y := D @ Y\n",
    "\n",
    "return Y\n",
    "\n",
    "```"
   ]
  },
  {
   "cell_type": "code",
   "execution_count": null,
   "id": "a2b248ef",
   "metadata": {},
   "outputs": [],
   "source": []
  }
 ],
 "metadata": {
  "kernelspec": {
   "display_name": "Python 3 (linearAlgebra)",
   "language": "python",
   "name": "linearalgebra"
  },
  "language_info": {
   "codemirror_mode": {
    "name": "ipython",
    "version": 3
   },
   "file_extension": ".py",
   "mimetype": "text/x-python",
   "name": "python",
   "nbconvert_exporter": "python",
   "pygments_lexer": "ipython3",
   "version": "3.9.11"
  },
  "varInspector": {
   "cols": {
    "lenName": 16,
    "lenType": 16,
    "lenVar": 40
   },
   "kernels_config": {
    "python": {
     "delete_cmd_postfix": "",
     "delete_cmd_prefix": "del ",
     "library": "var_list.py",
     "varRefreshCmd": "print(var_dic_list())"
    },
    "r": {
     "delete_cmd_postfix": ") ",
     "delete_cmd_prefix": "rm(",
     "library": "var_list.r",
     "varRefreshCmd": "cat(var_dic_list()) "
    }
   },
   "types_to_exclude": [
    "module",
    "function",
    "builtin_function_or_method",
    "instance",
    "_Feature"
   ],
   "window_display": false
  }
 },
 "nbformat": 4,
 "nbformat_minor": 5
}
