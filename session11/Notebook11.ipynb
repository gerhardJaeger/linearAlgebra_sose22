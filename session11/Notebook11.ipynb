{
 "cells": [
  {
   "cell_type": "code",
   "execution_count": 1,
   "id": "6b6d3e8a",
   "metadata": {
    "slideshow": {
     "slide_type": "skip"
    }
   },
   "outputs": [],
   "source": [
    "import sympy\n",
    "from sympy import Matrix, Rational, sqrt, symbols, zeros, simplify\n",
    "import numpy as np\n",
    "import matplotlib.pyplot as plt\n",
    "import ipywidgets as widgets\n",
    "from ipywidgets import interact, interactive, fixed, interact_manual\n",
    "import matplotlib.pyplot as plt\n",
    "%matplotlib notebook\n"
   ]
  },
  {
   "cell_type": "markdown",
   "id": "17d690f6",
   "metadata": {
    "slideshow": {
     "slide_type": "slide"
    }
   },
   "source": [
    "# Linear algebra\n",
    "\n",
    "## Session 11: \n",
    "\n",
    "## Gerhard Jäger\n",
    "\n",
    "### July 20, 2022"
   ]
  },
  {
   "cell_type": "code",
   "execution_count": 26,
   "id": "d7b6b9df",
   "metadata": {
    "slideshow": {
     "slide_type": "slide"
    }
   },
   "outputs": [],
   "source": [
    "A = np.array([\n",
    "    [1,2],\n",
    "    [2,1]\n",
    "])"
   ]
  },
  {
   "cell_type": "code",
   "execution_count": 27,
   "id": "1ee158eb",
   "metadata": {
    "hide_input": true,
    "scrolled": false
   },
   "outputs": [
    {
     "data": {
      "application/javascript": [
       "/* Put everything inside the global mpl namespace */\n",
       "/* global mpl */\n",
       "window.mpl = {};\n",
       "\n",
       "mpl.get_websocket_type = function () {\n",
       "    if (typeof WebSocket !== 'undefined') {\n",
       "        return WebSocket;\n",
       "    } else if (typeof MozWebSocket !== 'undefined') {\n",
       "        return MozWebSocket;\n",
       "    } else {\n",
       "        alert(\n",
       "            'Your browser does not have WebSocket support. ' +\n",
       "                'Please try Chrome, Safari or Firefox ≥ 6. ' +\n",
       "                'Firefox 4 and 5 are also supported but you ' +\n",
       "                'have to enable WebSockets in about:config.'\n",
       "        );\n",
       "    }\n",
       "};\n",
       "\n",
       "mpl.figure = function (figure_id, websocket, ondownload, parent_element) {\n",
       "    this.id = figure_id;\n",
       "\n",
       "    this.ws = websocket;\n",
       "\n",
       "    this.supports_binary = this.ws.binaryType !== undefined;\n",
       "\n",
       "    if (!this.supports_binary) {\n",
       "        var warnings = document.getElementById('mpl-warnings');\n",
       "        if (warnings) {\n",
       "            warnings.style.display = 'block';\n",
       "            warnings.textContent =\n",
       "                'This browser does not support binary websocket messages. ' +\n",
       "                'Performance may be slow.';\n",
       "        }\n",
       "    }\n",
       "\n",
       "    this.imageObj = new Image();\n",
       "\n",
       "    this.context = undefined;\n",
       "    this.message = undefined;\n",
       "    this.canvas = undefined;\n",
       "    this.rubberband_canvas = undefined;\n",
       "    this.rubberband_context = undefined;\n",
       "    this.format_dropdown = undefined;\n",
       "\n",
       "    this.image_mode = 'full';\n",
       "\n",
       "    this.root = document.createElement('div');\n",
       "    this.root.setAttribute('style', 'display: inline-block');\n",
       "    this._root_extra_style(this.root);\n",
       "\n",
       "    parent_element.appendChild(this.root);\n",
       "\n",
       "    this._init_header(this);\n",
       "    this._init_canvas(this);\n",
       "    this._init_toolbar(this);\n",
       "\n",
       "    var fig = this;\n",
       "\n",
       "    this.waiting = false;\n",
       "\n",
       "    this.ws.onopen = function () {\n",
       "        fig.send_message('supports_binary', { value: fig.supports_binary });\n",
       "        fig.send_message('send_image_mode', {});\n",
       "        if (fig.ratio !== 1) {\n",
       "            fig.send_message('set_device_pixel_ratio', {\n",
       "                device_pixel_ratio: fig.ratio,\n",
       "            });\n",
       "        }\n",
       "        fig.send_message('refresh', {});\n",
       "    };\n",
       "\n",
       "    this.imageObj.onload = function () {\n",
       "        if (fig.image_mode === 'full') {\n",
       "            // Full images could contain transparency (where diff images\n",
       "            // almost always do), so we need to clear the canvas so that\n",
       "            // there is no ghosting.\n",
       "            fig.context.clearRect(0, 0, fig.canvas.width, fig.canvas.height);\n",
       "        }\n",
       "        fig.context.drawImage(fig.imageObj, 0, 0);\n",
       "    };\n",
       "\n",
       "    this.imageObj.onunload = function () {\n",
       "        fig.ws.close();\n",
       "    };\n",
       "\n",
       "    this.ws.onmessage = this._make_on_message_function(this);\n",
       "\n",
       "    this.ondownload = ondownload;\n",
       "};\n",
       "\n",
       "mpl.figure.prototype._init_header = function () {\n",
       "    var titlebar = document.createElement('div');\n",
       "    titlebar.classList =\n",
       "        'ui-dialog-titlebar ui-widget-header ui-corner-all ui-helper-clearfix';\n",
       "    var titletext = document.createElement('div');\n",
       "    titletext.classList = 'ui-dialog-title';\n",
       "    titletext.setAttribute(\n",
       "        'style',\n",
       "        'width: 100%; text-align: center; padding: 3px;'\n",
       "    );\n",
       "    titlebar.appendChild(titletext);\n",
       "    this.root.appendChild(titlebar);\n",
       "    this.header = titletext;\n",
       "};\n",
       "\n",
       "mpl.figure.prototype._canvas_extra_style = function (_canvas_div) {};\n",
       "\n",
       "mpl.figure.prototype._root_extra_style = function (_canvas_div) {};\n",
       "\n",
       "mpl.figure.prototype._init_canvas = function () {\n",
       "    var fig = this;\n",
       "\n",
       "    var canvas_div = (this.canvas_div = document.createElement('div'));\n",
       "    canvas_div.setAttribute(\n",
       "        'style',\n",
       "        'border: 1px solid #ddd;' +\n",
       "            'box-sizing: content-box;' +\n",
       "            'clear: both;' +\n",
       "            'min-height: 1px;' +\n",
       "            'min-width: 1px;' +\n",
       "            'outline: 0;' +\n",
       "            'overflow: hidden;' +\n",
       "            'position: relative;' +\n",
       "            'resize: both;'\n",
       "    );\n",
       "\n",
       "    function on_keyboard_event_closure(name) {\n",
       "        return function (event) {\n",
       "            return fig.key_event(event, name);\n",
       "        };\n",
       "    }\n",
       "\n",
       "    canvas_div.addEventListener(\n",
       "        'keydown',\n",
       "        on_keyboard_event_closure('key_press')\n",
       "    );\n",
       "    canvas_div.addEventListener(\n",
       "        'keyup',\n",
       "        on_keyboard_event_closure('key_release')\n",
       "    );\n",
       "\n",
       "    this._canvas_extra_style(canvas_div);\n",
       "    this.root.appendChild(canvas_div);\n",
       "\n",
       "    var canvas = (this.canvas = document.createElement('canvas'));\n",
       "    canvas.classList.add('mpl-canvas');\n",
       "    canvas.setAttribute('style', 'box-sizing: content-box;');\n",
       "\n",
       "    this.context = canvas.getContext('2d');\n",
       "\n",
       "    var backingStore =\n",
       "        this.context.backingStorePixelRatio ||\n",
       "        this.context.webkitBackingStorePixelRatio ||\n",
       "        this.context.mozBackingStorePixelRatio ||\n",
       "        this.context.msBackingStorePixelRatio ||\n",
       "        this.context.oBackingStorePixelRatio ||\n",
       "        this.context.backingStorePixelRatio ||\n",
       "        1;\n",
       "\n",
       "    this.ratio = (window.devicePixelRatio || 1) / backingStore;\n",
       "\n",
       "    var rubberband_canvas = (this.rubberband_canvas = document.createElement(\n",
       "        'canvas'\n",
       "    ));\n",
       "    rubberband_canvas.setAttribute(\n",
       "        'style',\n",
       "        'box-sizing: content-box; position: absolute; left: 0; top: 0; z-index: 1;'\n",
       "    );\n",
       "\n",
       "    // Apply a ponyfill if ResizeObserver is not implemented by browser.\n",
       "    if (this.ResizeObserver === undefined) {\n",
       "        if (window.ResizeObserver !== undefined) {\n",
       "            this.ResizeObserver = window.ResizeObserver;\n",
       "        } else {\n",
       "            var obs = _JSXTOOLS_RESIZE_OBSERVER({});\n",
       "            this.ResizeObserver = obs.ResizeObserver;\n",
       "        }\n",
       "    }\n",
       "\n",
       "    this.resizeObserverInstance = new this.ResizeObserver(function (entries) {\n",
       "        var nentries = entries.length;\n",
       "        for (var i = 0; i < nentries; i++) {\n",
       "            var entry = entries[i];\n",
       "            var width, height;\n",
       "            if (entry.contentBoxSize) {\n",
       "                if (entry.contentBoxSize instanceof Array) {\n",
       "                    // Chrome 84 implements new version of spec.\n",
       "                    width = entry.contentBoxSize[0].inlineSize;\n",
       "                    height = entry.contentBoxSize[0].blockSize;\n",
       "                } else {\n",
       "                    // Firefox implements old version of spec.\n",
       "                    width = entry.contentBoxSize.inlineSize;\n",
       "                    height = entry.contentBoxSize.blockSize;\n",
       "                }\n",
       "            } else {\n",
       "                // Chrome <84 implements even older version of spec.\n",
       "                width = entry.contentRect.width;\n",
       "                height = entry.contentRect.height;\n",
       "            }\n",
       "\n",
       "            // Keep the size of the canvas and rubber band canvas in sync with\n",
       "            // the canvas container.\n",
       "            if (entry.devicePixelContentBoxSize) {\n",
       "                // Chrome 84 implements new version of spec.\n",
       "                canvas.setAttribute(\n",
       "                    'width',\n",
       "                    entry.devicePixelContentBoxSize[0].inlineSize\n",
       "                );\n",
       "                canvas.setAttribute(\n",
       "                    'height',\n",
       "                    entry.devicePixelContentBoxSize[0].blockSize\n",
       "                );\n",
       "            } else {\n",
       "                canvas.setAttribute('width', width * fig.ratio);\n",
       "                canvas.setAttribute('height', height * fig.ratio);\n",
       "            }\n",
       "            canvas.setAttribute(\n",
       "                'style',\n",
       "                'width: ' + width + 'px; height: ' + height + 'px;'\n",
       "            );\n",
       "\n",
       "            rubberband_canvas.setAttribute('width', width);\n",
       "            rubberband_canvas.setAttribute('height', height);\n",
       "\n",
       "            // And update the size in Python. We ignore the initial 0/0 size\n",
       "            // that occurs as the element is placed into the DOM, which should\n",
       "            // otherwise not happen due to the minimum size styling.\n",
       "            if (fig.ws.readyState == 1 && width != 0 && height != 0) {\n",
       "                fig.request_resize(width, height);\n",
       "            }\n",
       "        }\n",
       "    });\n",
       "    this.resizeObserverInstance.observe(canvas_div);\n",
       "\n",
       "    function on_mouse_event_closure(name) {\n",
       "        return function (event) {\n",
       "            return fig.mouse_event(event, name);\n",
       "        };\n",
       "    }\n",
       "\n",
       "    rubberband_canvas.addEventListener(\n",
       "        'mousedown',\n",
       "        on_mouse_event_closure('button_press')\n",
       "    );\n",
       "    rubberband_canvas.addEventListener(\n",
       "        'mouseup',\n",
       "        on_mouse_event_closure('button_release')\n",
       "    );\n",
       "    rubberband_canvas.addEventListener(\n",
       "        'dblclick',\n",
       "        on_mouse_event_closure('dblclick')\n",
       "    );\n",
       "    // Throttle sequential mouse events to 1 every 20ms.\n",
       "    rubberband_canvas.addEventListener(\n",
       "        'mousemove',\n",
       "        on_mouse_event_closure('motion_notify')\n",
       "    );\n",
       "\n",
       "    rubberband_canvas.addEventListener(\n",
       "        'mouseenter',\n",
       "        on_mouse_event_closure('figure_enter')\n",
       "    );\n",
       "    rubberband_canvas.addEventListener(\n",
       "        'mouseleave',\n",
       "        on_mouse_event_closure('figure_leave')\n",
       "    );\n",
       "\n",
       "    canvas_div.addEventListener('wheel', function (event) {\n",
       "        if (event.deltaY < 0) {\n",
       "            event.step = 1;\n",
       "        } else {\n",
       "            event.step = -1;\n",
       "        }\n",
       "        on_mouse_event_closure('scroll')(event);\n",
       "    });\n",
       "\n",
       "    canvas_div.appendChild(canvas);\n",
       "    canvas_div.appendChild(rubberband_canvas);\n",
       "\n",
       "    this.rubberband_context = rubberband_canvas.getContext('2d');\n",
       "    this.rubberband_context.strokeStyle = '#000000';\n",
       "\n",
       "    this._resize_canvas = function (width, height, forward) {\n",
       "        if (forward) {\n",
       "            canvas_div.style.width = width + 'px';\n",
       "            canvas_div.style.height = height + 'px';\n",
       "        }\n",
       "    };\n",
       "\n",
       "    // Disable right mouse context menu.\n",
       "    this.rubberband_canvas.addEventListener('contextmenu', function (_e) {\n",
       "        event.preventDefault();\n",
       "        return false;\n",
       "    });\n",
       "\n",
       "    function set_focus() {\n",
       "        canvas.focus();\n",
       "        canvas_div.focus();\n",
       "    }\n",
       "\n",
       "    window.setTimeout(set_focus, 100);\n",
       "};\n",
       "\n",
       "mpl.figure.prototype._init_toolbar = function () {\n",
       "    var fig = this;\n",
       "\n",
       "    var toolbar = document.createElement('div');\n",
       "    toolbar.classList = 'mpl-toolbar';\n",
       "    this.root.appendChild(toolbar);\n",
       "\n",
       "    function on_click_closure(name) {\n",
       "        return function (_event) {\n",
       "            return fig.toolbar_button_onclick(name);\n",
       "        };\n",
       "    }\n",
       "\n",
       "    function on_mouseover_closure(tooltip) {\n",
       "        return function (event) {\n",
       "            if (!event.currentTarget.disabled) {\n",
       "                return fig.toolbar_button_onmouseover(tooltip);\n",
       "            }\n",
       "        };\n",
       "    }\n",
       "\n",
       "    fig.buttons = {};\n",
       "    var buttonGroup = document.createElement('div');\n",
       "    buttonGroup.classList = 'mpl-button-group';\n",
       "    for (var toolbar_ind in mpl.toolbar_items) {\n",
       "        var name = mpl.toolbar_items[toolbar_ind][0];\n",
       "        var tooltip = mpl.toolbar_items[toolbar_ind][1];\n",
       "        var image = mpl.toolbar_items[toolbar_ind][2];\n",
       "        var method_name = mpl.toolbar_items[toolbar_ind][3];\n",
       "\n",
       "        if (!name) {\n",
       "            /* Instead of a spacer, we start a new button group. */\n",
       "            if (buttonGroup.hasChildNodes()) {\n",
       "                toolbar.appendChild(buttonGroup);\n",
       "            }\n",
       "            buttonGroup = document.createElement('div');\n",
       "            buttonGroup.classList = 'mpl-button-group';\n",
       "            continue;\n",
       "        }\n",
       "\n",
       "        var button = (fig.buttons[name] = document.createElement('button'));\n",
       "        button.classList = 'mpl-widget';\n",
       "        button.setAttribute('role', 'button');\n",
       "        button.setAttribute('aria-disabled', 'false');\n",
       "        button.addEventListener('click', on_click_closure(method_name));\n",
       "        button.addEventListener('mouseover', on_mouseover_closure(tooltip));\n",
       "\n",
       "        var icon_img = document.createElement('img');\n",
       "        icon_img.src = '_images/' + image + '.png';\n",
       "        icon_img.srcset = '_images/' + image + '_large.png 2x';\n",
       "        icon_img.alt = tooltip;\n",
       "        button.appendChild(icon_img);\n",
       "\n",
       "        buttonGroup.appendChild(button);\n",
       "    }\n",
       "\n",
       "    if (buttonGroup.hasChildNodes()) {\n",
       "        toolbar.appendChild(buttonGroup);\n",
       "    }\n",
       "\n",
       "    var fmt_picker = document.createElement('select');\n",
       "    fmt_picker.classList = 'mpl-widget';\n",
       "    toolbar.appendChild(fmt_picker);\n",
       "    this.format_dropdown = fmt_picker;\n",
       "\n",
       "    for (var ind in mpl.extensions) {\n",
       "        var fmt = mpl.extensions[ind];\n",
       "        var option = document.createElement('option');\n",
       "        option.selected = fmt === mpl.default_extension;\n",
       "        option.innerHTML = fmt;\n",
       "        fmt_picker.appendChild(option);\n",
       "    }\n",
       "\n",
       "    var status_bar = document.createElement('span');\n",
       "    status_bar.classList = 'mpl-message';\n",
       "    toolbar.appendChild(status_bar);\n",
       "    this.message = status_bar;\n",
       "};\n",
       "\n",
       "mpl.figure.prototype.request_resize = function (x_pixels, y_pixels) {\n",
       "    // Request matplotlib to resize the figure. Matplotlib will then trigger a resize in the client,\n",
       "    // which will in turn request a refresh of the image.\n",
       "    this.send_message('resize', { width: x_pixels, height: y_pixels });\n",
       "};\n",
       "\n",
       "mpl.figure.prototype.send_message = function (type, properties) {\n",
       "    properties['type'] = type;\n",
       "    properties['figure_id'] = this.id;\n",
       "    this.ws.send(JSON.stringify(properties));\n",
       "};\n",
       "\n",
       "mpl.figure.prototype.send_draw_message = function () {\n",
       "    if (!this.waiting) {\n",
       "        this.waiting = true;\n",
       "        this.ws.send(JSON.stringify({ type: 'draw', figure_id: this.id }));\n",
       "    }\n",
       "};\n",
       "\n",
       "mpl.figure.prototype.handle_save = function (fig, _msg) {\n",
       "    var format_dropdown = fig.format_dropdown;\n",
       "    var format = format_dropdown.options[format_dropdown.selectedIndex].value;\n",
       "    fig.ondownload(fig, format);\n",
       "};\n",
       "\n",
       "mpl.figure.prototype.handle_resize = function (fig, msg) {\n",
       "    var size = msg['size'];\n",
       "    if (size[0] !== fig.canvas.width || size[1] !== fig.canvas.height) {\n",
       "        fig._resize_canvas(size[0], size[1], msg['forward']);\n",
       "        fig.send_message('refresh', {});\n",
       "    }\n",
       "};\n",
       "\n",
       "mpl.figure.prototype.handle_rubberband = function (fig, msg) {\n",
       "    var x0 = msg['x0'] / fig.ratio;\n",
       "    var y0 = (fig.canvas.height - msg['y0']) / fig.ratio;\n",
       "    var x1 = msg['x1'] / fig.ratio;\n",
       "    var y1 = (fig.canvas.height - msg['y1']) / fig.ratio;\n",
       "    x0 = Math.floor(x0) + 0.5;\n",
       "    y0 = Math.floor(y0) + 0.5;\n",
       "    x1 = Math.floor(x1) + 0.5;\n",
       "    y1 = Math.floor(y1) + 0.5;\n",
       "    var min_x = Math.min(x0, x1);\n",
       "    var min_y = Math.min(y0, y1);\n",
       "    var width = Math.abs(x1 - x0);\n",
       "    var height = Math.abs(y1 - y0);\n",
       "\n",
       "    fig.rubberband_context.clearRect(\n",
       "        0,\n",
       "        0,\n",
       "        fig.canvas.width / fig.ratio,\n",
       "        fig.canvas.height / fig.ratio\n",
       "    );\n",
       "\n",
       "    fig.rubberband_context.strokeRect(min_x, min_y, width, height);\n",
       "};\n",
       "\n",
       "mpl.figure.prototype.handle_figure_label = function (fig, msg) {\n",
       "    // Updates the figure title.\n",
       "    fig.header.textContent = msg['label'];\n",
       "};\n",
       "\n",
       "mpl.figure.prototype.handle_cursor = function (fig, msg) {\n",
       "    fig.rubberband_canvas.style.cursor = msg['cursor'];\n",
       "};\n",
       "\n",
       "mpl.figure.prototype.handle_message = function (fig, msg) {\n",
       "    fig.message.textContent = msg['message'];\n",
       "};\n",
       "\n",
       "mpl.figure.prototype.handle_draw = function (fig, _msg) {\n",
       "    // Request the server to send over a new figure.\n",
       "    fig.send_draw_message();\n",
       "};\n",
       "\n",
       "mpl.figure.prototype.handle_image_mode = function (fig, msg) {\n",
       "    fig.image_mode = msg['mode'];\n",
       "};\n",
       "\n",
       "mpl.figure.prototype.handle_history_buttons = function (fig, msg) {\n",
       "    for (var key in msg) {\n",
       "        if (!(key in fig.buttons)) {\n",
       "            continue;\n",
       "        }\n",
       "        fig.buttons[key].disabled = !msg[key];\n",
       "        fig.buttons[key].setAttribute('aria-disabled', !msg[key]);\n",
       "    }\n",
       "};\n",
       "\n",
       "mpl.figure.prototype.handle_navigate_mode = function (fig, msg) {\n",
       "    if (msg['mode'] === 'PAN') {\n",
       "        fig.buttons['Pan'].classList.add('active');\n",
       "        fig.buttons['Zoom'].classList.remove('active');\n",
       "    } else if (msg['mode'] === 'ZOOM') {\n",
       "        fig.buttons['Pan'].classList.remove('active');\n",
       "        fig.buttons['Zoom'].classList.add('active');\n",
       "    } else {\n",
       "        fig.buttons['Pan'].classList.remove('active');\n",
       "        fig.buttons['Zoom'].classList.remove('active');\n",
       "    }\n",
       "};\n",
       "\n",
       "mpl.figure.prototype.updated_canvas_event = function () {\n",
       "    // Called whenever the canvas gets updated.\n",
       "    this.send_message('ack', {});\n",
       "};\n",
       "\n",
       "// A function to construct a web socket function for onmessage handling.\n",
       "// Called in the figure constructor.\n",
       "mpl.figure.prototype._make_on_message_function = function (fig) {\n",
       "    return function socket_on_message(evt) {\n",
       "        if (evt.data instanceof Blob) {\n",
       "            var img = evt.data;\n",
       "            if (img.type !== 'image/png') {\n",
       "                /* FIXME: We get \"Resource interpreted as Image but\n",
       "                 * transferred with MIME type text/plain:\" errors on\n",
       "                 * Chrome.  But how to set the MIME type?  It doesn't seem\n",
       "                 * to be part of the websocket stream */\n",
       "                img.type = 'image/png';\n",
       "            }\n",
       "\n",
       "            /* Free the memory for the previous frames */\n",
       "            if (fig.imageObj.src) {\n",
       "                (window.URL || window.webkitURL).revokeObjectURL(\n",
       "                    fig.imageObj.src\n",
       "                );\n",
       "            }\n",
       "\n",
       "            fig.imageObj.src = (window.URL || window.webkitURL).createObjectURL(\n",
       "                img\n",
       "            );\n",
       "            fig.updated_canvas_event();\n",
       "            fig.waiting = false;\n",
       "            return;\n",
       "        } else if (\n",
       "            typeof evt.data === 'string' &&\n",
       "            evt.data.slice(0, 21) === 'data:image/png;base64'\n",
       "        ) {\n",
       "            fig.imageObj.src = evt.data;\n",
       "            fig.updated_canvas_event();\n",
       "            fig.waiting = false;\n",
       "            return;\n",
       "        }\n",
       "\n",
       "        var msg = JSON.parse(evt.data);\n",
       "        var msg_type = msg['type'];\n",
       "\n",
       "        // Call the  \"handle_{type}\" callback, which takes\n",
       "        // the figure and JSON message as its only arguments.\n",
       "        try {\n",
       "            var callback = fig['handle_' + msg_type];\n",
       "        } catch (e) {\n",
       "            console.log(\n",
       "                \"No handler for the '\" + msg_type + \"' message type: \",\n",
       "                msg\n",
       "            );\n",
       "            return;\n",
       "        }\n",
       "\n",
       "        if (callback) {\n",
       "            try {\n",
       "                // console.log(\"Handling '\" + msg_type + \"' message: \", msg);\n",
       "                callback(fig, msg);\n",
       "            } catch (e) {\n",
       "                console.log(\n",
       "                    \"Exception inside the 'handler_\" + msg_type + \"' callback:\",\n",
       "                    e,\n",
       "                    e.stack,\n",
       "                    msg\n",
       "                );\n",
       "            }\n",
       "        }\n",
       "    };\n",
       "};\n",
       "\n",
       "// from https://stackoverflow.com/questions/1114465/getting-mouse-location-in-canvas\n",
       "mpl.findpos = function (e) {\n",
       "    //this section is from http://www.quirksmode.org/js/events_properties.html\n",
       "    var targ;\n",
       "    if (!e) {\n",
       "        e = window.event;\n",
       "    }\n",
       "    if (e.target) {\n",
       "        targ = e.target;\n",
       "    } else if (e.srcElement) {\n",
       "        targ = e.srcElement;\n",
       "    }\n",
       "    if (targ.nodeType === 3) {\n",
       "        // defeat Safari bug\n",
       "        targ = targ.parentNode;\n",
       "    }\n",
       "\n",
       "    // pageX,Y are the mouse positions relative to the document\n",
       "    var boundingRect = targ.getBoundingClientRect();\n",
       "    var x = e.pageX - (boundingRect.left + document.body.scrollLeft);\n",
       "    var y = e.pageY - (boundingRect.top + document.body.scrollTop);\n",
       "\n",
       "    return { x: x, y: y };\n",
       "};\n",
       "\n",
       "/*\n",
       " * return a copy of an object with only non-object keys\n",
       " * we need this to avoid circular references\n",
       " * https://stackoverflow.com/a/24161582/3208463\n",
       " */\n",
       "function simpleKeys(original) {\n",
       "    return Object.keys(original).reduce(function (obj, key) {\n",
       "        if (typeof original[key] !== 'object') {\n",
       "            obj[key] = original[key];\n",
       "        }\n",
       "        return obj;\n",
       "    }, {});\n",
       "}\n",
       "\n",
       "mpl.figure.prototype.mouse_event = function (event, name) {\n",
       "    var canvas_pos = mpl.findpos(event);\n",
       "\n",
       "    if (name === 'button_press') {\n",
       "        this.canvas.focus();\n",
       "        this.canvas_div.focus();\n",
       "    }\n",
       "\n",
       "    var x = canvas_pos.x * this.ratio;\n",
       "    var y = canvas_pos.y * this.ratio;\n",
       "\n",
       "    this.send_message(name, {\n",
       "        x: x,\n",
       "        y: y,\n",
       "        button: event.button,\n",
       "        step: event.step,\n",
       "        guiEvent: simpleKeys(event),\n",
       "    });\n",
       "\n",
       "    /* This prevents the web browser from automatically changing to\n",
       "     * the text insertion cursor when the button is pressed.  We want\n",
       "     * to control all of the cursor setting manually through the\n",
       "     * 'cursor' event from matplotlib */\n",
       "    event.preventDefault();\n",
       "    return false;\n",
       "};\n",
       "\n",
       "mpl.figure.prototype._key_event_extra = function (_event, _name) {\n",
       "    // Handle any extra behaviour associated with a key event\n",
       "};\n",
       "\n",
       "mpl.figure.prototype.key_event = function (event, name) {\n",
       "    // Prevent repeat events\n",
       "    if (name === 'key_press') {\n",
       "        if (event.key === this._key) {\n",
       "            return;\n",
       "        } else {\n",
       "            this._key = event.key;\n",
       "        }\n",
       "    }\n",
       "    if (name === 'key_release') {\n",
       "        this._key = null;\n",
       "    }\n",
       "\n",
       "    var value = '';\n",
       "    if (event.ctrlKey && event.key !== 'Control') {\n",
       "        value += 'ctrl+';\n",
       "    }\n",
       "    else if (event.altKey && event.key !== 'Alt') {\n",
       "        value += 'alt+';\n",
       "    }\n",
       "    else if (event.shiftKey && event.key !== 'Shift') {\n",
       "        value += 'shift+';\n",
       "    }\n",
       "\n",
       "    value += 'k' + event.key;\n",
       "\n",
       "    this._key_event_extra(event, name);\n",
       "\n",
       "    this.send_message(name, { key: value, guiEvent: simpleKeys(event) });\n",
       "    return false;\n",
       "};\n",
       "\n",
       "mpl.figure.prototype.toolbar_button_onclick = function (name) {\n",
       "    if (name === 'download') {\n",
       "        this.handle_save(this, null);\n",
       "    } else {\n",
       "        this.send_message('toolbar_button', { name: name });\n",
       "    }\n",
       "};\n",
       "\n",
       "mpl.figure.prototype.toolbar_button_onmouseover = function (tooltip) {\n",
       "    this.message.textContent = tooltip;\n",
       "};\n",
       "\n",
       "///////////////// REMAINING CONTENT GENERATED BY embed_js.py /////////////////\n",
       "// prettier-ignore\n",
       "var _JSXTOOLS_RESIZE_OBSERVER=function(A){var t,i=new WeakMap,n=new WeakMap,a=new WeakMap,r=new WeakMap,o=new Set;function s(e){if(!(this instanceof s))throw new TypeError(\"Constructor requires 'new' operator\");i.set(this,e)}function h(){throw new TypeError(\"Function is not a constructor\")}function c(e,t,i,n){e=0 in arguments?Number(arguments[0]):0,t=1 in arguments?Number(arguments[1]):0,i=2 in arguments?Number(arguments[2]):0,n=3 in arguments?Number(arguments[3]):0,this.right=(this.x=this.left=e)+(this.width=i),this.bottom=(this.y=this.top=t)+(this.height=n),Object.freeze(this)}function d(){t=requestAnimationFrame(d);var s=new WeakMap,p=new Set;o.forEach((function(t){r.get(t).forEach((function(i){var r=t instanceof window.SVGElement,o=a.get(t),d=r?0:parseFloat(o.paddingTop),f=r?0:parseFloat(o.paddingRight),l=r?0:parseFloat(o.paddingBottom),u=r?0:parseFloat(o.paddingLeft),g=r?0:parseFloat(o.borderTopWidth),m=r?0:parseFloat(o.borderRightWidth),w=r?0:parseFloat(o.borderBottomWidth),b=u+f,F=d+l,v=(r?0:parseFloat(o.borderLeftWidth))+m,W=g+w,y=r?0:t.offsetHeight-W-t.clientHeight,E=r?0:t.offsetWidth-v-t.clientWidth,R=b+v,z=F+W,M=r?t.width:parseFloat(o.width)-R-E,O=r?t.height:parseFloat(o.height)-z-y;if(n.has(t)){var k=n.get(t);if(k[0]===M&&k[1]===O)return}n.set(t,[M,O]);var S=Object.create(h.prototype);S.target=t,S.contentRect=new c(u,d,M,O),s.has(i)||(s.set(i,[]),p.add(i)),s.get(i).push(S)}))})),p.forEach((function(e){i.get(e).call(e,s.get(e),e)}))}return s.prototype.observe=function(i){if(i instanceof window.Element){r.has(i)||(r.set(i,new Set),o.add(i),a.set(i,window.getComputedStyle(i)));var n=r.get(i);n.has(this)||n.add(this),cancelAnimationFrame(t),t=requestAnimationFrame(d)}},s.prototype.unobserve=function(i){if(i instanceof window.Element&&r.has(i)){var n=r.get(i);n.has(this)&&(n.delete(this),n.size||(r.delete(i),o.delete(i))),n.size||r.delete(i),o.size||cancelAnimationFrame(t)}},A.DOMRectReadOnly=c,A.ResizeObserver=s,A.ResizeObserverEntry=h,A}; // eslint-disable-line\n",
       "mpl.toolbar_items = [[\"Home\", \"Reset original view\", \"fa fa-home icon-home\", \"home\"], [\"Back\", \"Back to previous view\", \"fa fa-arrow-left icon-arrow-left\", \"back\"], [\"Forward\", \"Forward to next view\", \"fa fa-arrow-right icon-arrow-right\", \"forward\"], [\"\", \"\", \"\", \"\"], [\"Pan\", \"Left button pans, Right button zooms\\nx/y fixes axis, CTRL fixes aspect\", \"fa fa-arrows icon-move\", \"pan\"], [\"Zoom\", \"Zoom to rectangle\\nx/y fixes axis\", \"fa fa-square-o icon-check-empty\", \"zoom\"], [\"\", \"\", \"\", \"\"], [\"Download\", \"Download plot\", \"fa fa-floppy-o icon-save\", \"download\"]];\n",
       "\n",
       "mpl.extensions = [\"eps\", \"jpeg\", \"pgf\", \"pdf\", \"png\", \"ps\", \"raw\", \"svg\", \"tif\"];\n",
       "\n",
       "mpl.default_extension = \"png\";/* global mpl */\n",
       "\n",
       "var comm_websocket_adapter = function (comm) {\n",
       "    // Create a \"websocket\"-like object which calls the given IPython comm\n",
       "    // object with the appropriate methods. Currently this is a non binary\n",
       "    // socket, so there is still some room for performance tuning.\n",
       "    var ws = {};\n",
       "\n",
       "    ws.binaryType = comm.kernel.ws.binaryType;\n",
       "    ws.readyState = comm.kernel.ws.readyState;\n",
       "    function updateReadyState(_event) {\n",
       "        if (comm.kernel.ws) {\n",
       "            ws.readyState = comm.kernel.ws.readyState;\n",
       "        } else {\n",
       "            ws.readyState = 3; // Closed state.\n",
       "        }\n",
       "    }\n",
       "    comm.kernel.ws.addEventListener('open', updateReadyState);\n",
       "    comm.kernel.ws.addEventListener('close', updateReadyState);\n",
       "    comm.kernel.ws.addEventListener('error', updateReadyState);\n",
       "\n",
       "    ws.close = function () {\n",
       "        comm.close();\n",
       "    };\n",
       "    ws.send = function (m) {\n",
       "        //console.log('sending', m);\n",
       "        comm.send(m);\n",
       "    };\n",
       "    // Register the callback with on_msg.\n",
       "    comm.on_msg(function (msg) {\n",
       "        //console.log('receiving', msg['content']['data'], msg);\n",
       "        var data = msg['content']['data'];\n",
       "        if (data['blob'] !== undefined) {\n",
       "            data = {\n",
       "                data: new Blob(msg['buffers'], { type: data['blob'] }),\n",
       "            };\n",
       "        }\n",
       "        // Pass the mpl event to the overridden (by mpl) onmessage function.\n",
       "        ws.onmessage(data);\n",
       "    });\n",
       "    return ws;\n",
       "};\n",
       "\n",
       "mpl.mpl_figure_comm = function (comm, msg) {\n",
       "    // This is the function which gets called when the mpl process\n",
       "    // starts-up an IPython Comm through the \"matplotlib\" channel.\n",
       "\n",
       "    var id = msg.content.data.id;\n",
       "    // Get hold of the div created by the display call when the Comm\n",
       "    // socket was opened in Python.\n",
       "    var element = document.getElementById(id);\n",
       "    var ws_proxy = comm_websocket_adapter(comm);\n",
       "\n",
       "    function ondownload(figure, _format) {\n",
       "        window.open(figure.canvas.toDataURL());\n",
       "    }\n",
       "\n",
       "    var fig = new mpl.figure(id, ws_proxy, ondownload, element);\n",
       "\n",
       "    // Call onopen now - mpl needs it, as it is assuming we've passed it a real\n",
       "    // web socket which is closed, not our websocket->open comm proxy.\n",
       "    ws_proxy.onopen();\n",
       "\n",
       "    fig.parent_element = element;\n",
       "    fig.cell_info = mpl.find_output_cell(\"<div id='\" + id + \"'></div>\");\n",
       "    if (!fig.cell_info) {\n",
       "        console.error('Failed to find cell for figure', id, fig);\n",
       "        return;\n",
       "    }\n",
       "    fig.cell_info[0].output_area.element.on(\n",
       "        'cleared',\n",
       "        { fig: fig },\n",
       "        fig._remove_fig_handler\n",
       "    );\n",
       "};\n",
       "\n",
       "mpl.figure.prototype.handle_close = function (fig, msg) {\n",
       "    var width = fig.canvas.width / fig.ratio;\n",
       "    fig.cell_info[0].output_area.element.off(\n",
       "        'cleared',\n",
       "        fig._remove_fig_handler\n",
       "    );\n",
       "    fig.resizeObserverInstance.unobserve(fig.canvas_div);\n",
       "\n",
       "    // Update the output cell to use the data from the current canvas.\n",
       "    fig.push_to_output();\n",
       "    var dataURL = fig.canvas.toDataURL();\n",
       "    // Re-enable the keyboard manager in IPython - without this line, in FF,\n",
       "    // the notebook keyboard shortcuts fail.\n",
       "    IPython.keyboard_manager.enable();\n",
       "    fig.parent_element.innerHTML =\n",
       "        '<img src=\"' + dataURL + '\" width=\"' + width + '\">';\n",
       "    fig.close_ws(fig, msg);\n",
       "};\n",
       "\n",
       "mpl.figure.prototype.close_ws = function (fig, msg) {\n",
       "    fig.send_message('closing', msg);\n",
       "    // fig.ws.close()\n",
       "};\n",
       "\n",
       "mpl.figure.prototype.push_to_output = function (_remove_interactive) {\n",
       "    // Turn the data on the canvas into data in the output cell.\n",
       "    var width = this.canvas.width / this.ratio;\n",
       "    var dataURL = this.canvas.toDataURL();\n",
       "    this.cell_info[1]['text/html'] =\n",
       "        '<img src=\"' + dataURL + '\" width=\"' + width + '\">';\n",
       "};\n",
       "\n",
       "mpl.figure.prototype.updated_canvas_event = function () {\n",
       "    // Tell IPython that the notebook contents must change.\n",
       "    IPython.notebook.set_dirty(true);\n",
       "    this.send_message('ack', {});\n",
       "    var fig = this;\n",
       "    // Wait a second, then push the new image to the DOM so\n",
       "    // that it is saved nicely (might be nice to debounce this).\n",
       "    setTimeout(function () {\n",
       "        fig.push_to_output();\n",
       "    }, 1000);\n",
       "};\n",
       "\n",
       "mpl.figure.prototype._init_toolbar = function () {\n",
       "    var fig = this;\n",
       "\n",
       "    var toolbar = document.createElement('div');\n",
       "    toolbar.classList = 'btn-toolbar';\n",
       "    this.root.appendChild(toolbar);\n",
       "\n",
       "    function on_click_closure(name) {\n",
       "        return function (_event) {\n",
       "            return fig.toolbar_button_onclick(name);\n",
       "        };\n",
       "    }\n",
       "\n",
       "    function on_mouseover_closure(tooltip) {\n",
       "        return function (event) {\n",
       "            if (!event.currentTarget.disabled) {\n",
       "                return fig.toolbar_button_onmouseover(tooltip);\n",
       "            }\n",
       "        };\n",
       "    }\n",
       "\n",
       "    fig.buttons = {};\n",
       "    var buttonGroup = document.createElement('div');\n",
       "    buttonGroup.classList = 'btn-group';\n",
       "    var button;\n",
       "    for (var toolbar_ind in mpl.toolbar_items) {\n",
       "        var name = mpl.toolbar_items[toolbar_ind][0];\n",
       "        var tooltip = mpl.toolbar_items[toolbar_ind][1];\n",
       "        var image = mpl.toolbar_items[toolbar_ind][2];\n",
       "        var method_name = mpl.toolbar_items[toolbar_ind][3];\n",
       "\n",
       "        if (!name) {\n",
       "            /* Instead of a spacer, we start a new button group. */\n",
       "            if (buttonGroup.hasChildNodes()) {\n",
       "                toolbar.appendChild(buttonGroup);\n",
       "            }\n",
       "            buttonGroup = document.createElement('div');\n",
       "            buttonGroup.classList = 'btn-group';\n",
       "            continue;\n",
       "        }\n",
       "\n",
       "        button = fig.buttons[name] = document.createElement('button');\n",
       "        button.classList = 'btn btn-default';\n",
       "        button.href = '#';\n",
       "        button.title = name;\n",
       "        button.innerHTML = '<i class=\"fa ' + image + ' fa-lg\"></i>';\n",
       "        button.addEventListener('click', on_click_closure(method_name));\n",
       "        button.addEventListener('mouseover', on_mouseover_closure(tooltip));\n",
       "        buttonGroup.appendChild(button);\n",
       "    }\n",
       "\n",
       "    if (buttonGroup.hasChildNodes()) {\n",
       "        toolbar.appendChild(buttonGroup);\n",
       "    }\n",
       "\n",
       "    // Add the status bar.\n",
       "    var status_bar = document.createElement('span');\n",
       "    status_bar.classList = 'mpl-message pull-right';\n",
       "    toolbar.appendChild(status_bar);\n",
       "    this.message = status_bar;\n",
       "\n",
       "    // Add the close button to the window.\n",
       "    var buttongrp = document.createElement('div');\n",
       "    buttongrp.classList = 'btn-group inline pull-right';\n",
       "    button = document.createElement('button');\n",
       "    button.classList = 'btn btn-mini btn-primary';\n",
       "    button.href = '#';\n",
       "    button.title = 'Stop Interaction';\n",
       "    button.innerHTML = '<i class=\"fa fa-power-off icon-remove icon-large\"></i>';\n",
       "    button.addEventListener('click', function (_evt) {\n",
       "        fig.handle_close(fig, {});\n",
       "    });\n",
       "    button.addEventListener(\n",
       "        'mouseover',\n",
       "        on_mouseover_closure('Stop Interaction')\n",
       "    );\n",
       "    buttongrp.appendChild(button);\n",
       "    var titlebar = this.root.querySelector('.ui-dialog-titlebar');\n",
       "    titlebar.insertBefore(buttongrp, titlebar.firstChild);\n",
       "};\n",
       "\n",
       "mpl.figure.prototype._remove_fig_handler = function (event) {\n",
       "    var fig = event.data.fig;\n",
       "    if (event.target !== this) {\n",
       "        // Ignore bubbled events from children.\n",
       "        return;\n",
       "    }\n",
       "    fig.close_ws(fig, {});\n",
       "};\n",
       "\n",
       "mpl.figure.prototype._root_extra_style = function (el) {\n",
       "    el.style.boxSizing = 'content-box'; // override notebook setting of border-box.\n",
       "};\n",
       "\n",
       "mpl.figure.prototype._canvas_extra_style = function (el) {\n",
       "    // this is important to make the div 'focusable\n",
       "    el.setAttribute('tabindex', 0);\n",
       "    // reach out to IPython and tell the keyboard manager to turn it's self\n",
       "    // off when our div gets focus\n",
       "\n",
       "    // location in version 3\n",
       "    if (IPython.notebook.keyboard_manager) {\n",
       "        IPython.notebook.keyboard_manager.register_events(el);\n",
       "    } else {\n",
       "        // location in version 2\n",
       "        IPython.keyboard_manager.register_events(el);\n",
       "    }\n",
       "};\n",
       "\n",
       "mpl.figure.prototype._key_event_extra = function (event, _name) {\n",
       "    // Check for shift+enter\n",
       "    if (event.shiftKey && event.which === 13) {\n",
       "        this.canvas_div.blur();\n",
       "        // select the cell after this one\n",
       "        var index = IPython.notebook.find_cell_index(this.cell_info[0]);\n",
       "        IPython.notebook.select(index + 1);\n",
       "    }\n",
       "};\n",
       "\n",
       "mpl.figure.prototype.handle_save = function (fig, _msg) {\n",
       "    fig.ondownload(fig, null);\n",
       "};\n",
       "\n",
       "mpl.find_output_cell = function (html_output) {\n",
       "    // Return the cell and output element which can be found *uniquely* in the notebook.\n",
       "    // Note - this is a bit hacky, but it is done because the \"notebook_saving.Notebook\"\n",
       "    // IPython event is triggered only after the cells have been serialised, which for\n",
       "    // our purposes (turning an active figure into a static one), is too late.\n",
       "    var cells = IPython.notebook.get_cells();\n",
       "    var ncells = cells.length;\n",
       "    for (var i = 0; i < ncells; i++) {\n",
       "        var cell = cells[i];\n",
       "        if (cell.cell_type === 'code') {\n",
       "            for (var j = 0; j < cell.output_area.outputs.length; j++) {\n",
       "                var data = cell.output_area.outputs[j];\n",
       "                if (data.data) {\n",
       "                    // IPython >= 3 moved mimebundle to data attribute of output\n",
       "                    data = data.data;\n",
       "                }\n",
       "                if (data['text/html'] === html_output) {\n",
       "                    return [cell, data, j];\n",
       "                }\n",
       "            }\n",
       "        }\n",
       "    }\n",
       "};\n",
       "\n",
       "// Register the function which deals with the matplotlib target/channel.\n",
       "// The kernel may be null if the page has been refreshed.\n",
       "if (IPython.notebook.kernel !== null) {\n",
       "    IPython.notebook.kernel.comm_manager.register_target(\n",
       "        'matplotlib',\n",
       "        mpl.mpl_figure_comm\n",
       "    );\n",
       "}\n"
      ],
      "text/plain": [
       "<IPython.core.display.Javascript object>"
      ]
     },
     "metadata": {},
     "output_type": "display_data"
    },
    {
     "data": {
      "text/html": [
       "<img src=\"data:image/png;base64,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\" width=\"599.9999821186071\">"
      ],
      "text/plain": [
       "<IPython.core.display.HTML object>"
      ]
     },
     "metadata": {},
     "output_type": "display_data"
    },
    {
     "data": {
      "application/vnd.jupyter.widget-view+json": {
       "model_id": "b143f19b25ab49a1aa26c4416f8f462a",
       "version_major": 2,
       "version_minor": 0
      },
      "text/plain": [
       "interactive(children=(FloatSlider(value=0.0, description='theta', max=6.283185307179586, step=0.01), Output())…"
      ]
     },
     "metadata": {},
     "output_type": "display_data"
    }
   ],
   "source": [
    "\n",
    "def g(A, theta):\n",
    "    a, c = np.cos(theta), np.sin(theta)\n",
    "    x = np.linspace(0, a, 100)\n",
    "    y = np.linspace(0, c, 100)\n",
    "    b, d = A @ np.array([a,c])\n",
    "    z = np.linspace(0, b, 100)\n",
    "    w = np.linspace(0, d, 100)\n",
    "    return x, y, z, w\n",
    "\n",
    "fig, ax = plt.subplots(figsize=(6,6))\n",
    "xmin, xmax, ymin, ymax = -2, 2, -2, 2\n",
    "ax.set(xlim=(xmin-1, xmax+1), ylim=(ymin-1, ymax+1), aspect='equal')\n",
    "ax.spines['bottom'].set_position('zero')\n",
    "ax.spines['left'].set_position('zero')\n",
    "ax.spines['top'].set_visible(False)\n",
    "ax.spines['right'].set_visible(False)\n",
    "\n",
    "ax.set_xlabel('x', size=14, labelpad=-24, x=1.03)\n",
    "ax.set_ylabel('y', size=14, labelpad=-21, y=1.02, rotation=0)\n",
    "arrow_fmt = dict(markersize=4, color='black', clip_on=False)\n",
    "ax.plot((1), (0), marker='>', transform=ax.get_yaxis_transform(), **arrow_fmt)\n",
    "ax.plot((0), (1), marker='^', transform=ax.get_xaxis_transform(), **arrow_fmt)\n",
    "\n",
    "x, y, z, w = g(A, 0)\n",
    "line1, = ax.plot(x,y, color='red')\n",
    "line2, = ax.plot(z,w, color='green')\n",
    "\n",
    "angles = np.linspace(0, 2*np.pi, 100)\n",
    "crc = np.array([np.cos(angles), np.sin(angles)])\n",
    "elps = A @ crc\n",
    "ax.plot(crc[0,:], crc[1,:], color='red')\n",
    "ax.plot(elps[0,:], elps[1,:], color='green')\n",
    "\n",
    "def update(theta = 0):\n",
    "    x, y, z, w = g(A,theta)\n",
    "    print(\"x = \"+str(x[-1])+\",\"+str(y[-1]))\n",
    "    print(\"y = \"+str(z[-1])+\",\"+str(w[-1]))\n",
    "    line1.set_data(x, y)\n",
    "    line2.set_data(z, w)\n",
    "    fig.canvas.draw_idle()\n",
    "    \n",
    "interact(update, theta = (0, 2*np.pi, 0.01));"
   ]
  },
  {
   "cell_type": "markdown",
   "id": "32e02ae8",
   "metadata": {
    "slideshow": {
     "slide_type": "slide"
    }
   },
   "source": [
    "So far we studied basic operations such as addition and multiplication of matrices and vectors.\n",
    "\n",
    "Higher operations are also defined, at least for square matrices:\n",
    "\n",
    "- power\n",
    "    - $A^0 = \\mathbf I$\n",
    "    - $A^{n+1} = A A^n$\n",
    "- exponential\n",
    "    - $e^A = \\sum_{k=0}^\\infty \\frac{1}{k!} A^k$\n",
    "\n",
    "To compute them efficiently (and for many other applications), \n",
    "we need **eigenvectors** and **eigenvalues** of square matrices."
   ]
  },
  {
   "cell_type": "markdown",
   "id": "e9396559",
   "metadata": {
    "slideshow": {
     "slide_type": "slide"
    }
   },
   "source": [
    "## Example"
   ]
  },
  {
   "cell_type": "code",
   "execution_count": 4,
   "id": "8f942112",
   "metadata": {},
   "outputs": [
    {
     "data": {
      "text/latex": [
       "$\\displaystyle \\left[\\begin{matrix}0.8 & 0.3\\\\0.2 & 0.7\\end{matrix}\\right]$"
      ],
      "text/plain": [
       "Matrix([\n",
       "[0.8, 0.3],\n",
       "[0.2, 0.7]])"
      ]
     },
     "execution_count": 4,
     "metadata": {},
     "output_type": "execute_result"
    }
   ],
   "source": [
    "A = Matrix([\n",
    "    [0.8, 0.3],\n",
    "    [0.2, 0.7]\n",
    "])\n",
    "A"
   ]
  },
  {
   "cell_type": "code",
   "execution_count": 5,
   "id": "eb49feaf",
   "metadata": {},
   "outputs": [
    {
     "data": {
      "text/latex": [
       "$\\displaystyle \\left[\\begin{matrix}0.7 & 0.45\\\\0.3 & 0.55\\end{matrix}\\right]$"
      ],
      "text/plain": [
       "Matrix([\n",
       "[0.7, 0.45],\n",
       "[0.3, 0.55]])"
      ]
     },
     "execution_count": 5,
     "metadata": {},
     "output_type": "execute_result"
    }
   ],
   "source": [
    "A**2"
   ]
  },
  {
   "cell_type": "code",
   "execution_count": 6,
   "id": "220d5072",
   "metadata": {},
   "outputs": [
    {
     "data": {
      "text/latex": [
       "$\\displaystyle \\left[\\begin{matrix}0.65 & 0.525\\\\0.35 & 0.475\\end{matrix}\\right]$"
      ],
      "text/plain": [
       "Matrix([\n",
       "[0.65, 0.525],\n",
       "[0.35, 0.475]])"
      ]
     },
     "execution_count": 6,
     "metadata": {},
     "output_type": "execute_result"
    }
   ],
   "source": [
    "A**3"
   ]
  },
  {
   "cell_type": "code",
   "execution_count": 7,
   "id": "0f7658ad",
   "metadata": {},
   "outputs": [
    {
     "data": {
      "text/latex": [
       "$\\displaystyle \\left[\\begin{matrix}0.600390625 & 0.5994140625\\\\0.399609375 & 0.4005859375\\end{matrix}\\right]$"
      ],
      "text/plain": [
       "Matrix([\n",
       "[0.600390625, 0.5994140625],\n",
       "[0.399609375, 0.4005859375]])"
      ]
     },
     "execution_count": 7,
     "metadata": {},
     "output_type": "execute_result"
    }
   ],
   "source": [
    "A**10"
   ]
  },
  {
   "cell_type": "code",
   "execution_count": 8,
   "id": "e38a1740",
   "metadata": {},
   "outputs": [
    {
     "data": {
      "text/latex": [
       "$\\displaystyle \\left[\\begin{matrix}0.600000000000002 & 0.600000000000002\\\\0.400000000000001 & 0.400000000000001\\end{matrix}\\right]$"
      ],
      "text/plain": [
       "Matrix([\n",
       "[0.600000000000002, 0.600000000000002],\n",
       "[0.400000000000001, 0.400000000000001]])"
      ]
     },
     "execution_count": 8,
     "metadata": {},
     "output_type": "execute_result"
    }
   ],
   "source": [
    "A**100"
   ]
  },
  {
   "cell_type": "code",
   "execution_count": 9,
   "id": "d3573f08",
   "metadata": {},
   "outputs": [
    {
     "data": {
      "text/latex": [
       "$\\displaystyle \\left[\\begin{matrix}0.6 & 0.6\\\\0.4 & 0.4\\end{matrix}\\right]$"
      ],
      "text/plain": [
       "Matrix([\n",
       "[0.6, 0.6],\n",
       "[0.4, 0.4]])"
      ]
     },
     "execution_count": 9,
     "metadata": {},
     "output_type": "execute_result"
    }
   ],
   "source": [
    "A**1000000"
   ]
  },
  {
   "cell_type": "markdown",
   "id": "44c70668",
   "metadata": {
    "slideshow": {
     "slide_type": "slide"
    }
   },
   "source": [
    "### Basic equation\n",
    "\n",
    "$$\n",
    "A\\mathbf x = \\lambda \\mathbf x\n",
    "$$\n",
    "\n",
    "- $\\mathbf x$ is called an **eigenvector** of $A$\n",
    "- $\\lambda$ is called an **eigenvalue** of $A$"
   ]
  },
  {
   "cell_type": "markdown",
   "id": "2b2e08ce",
   "metadata": {
    "slideshow": {
     "slide_type": "slide"
    }
   },
   "source": [
    "### Example: How to find eigenvalues and eigenvectors\n",
    "\n",
    "$$\n",
    "\\begin{aligned}\n",
    "A &= \\left[\\begin{matrix}0.8 & 0.3\\\\0.2 & 0.7\\end{matrix}\\right]\\\\\n",
    "A\\mathbf x &= \\lambda \\mathbf x\\\\\n",
    "&= \\lambda \\mathbf I x\\\\\n",
    "(A-\\lambda \\mathbf I)\\mathbf x &= \\mathbf 0 \n",
    "\\end{aligned}\n",
    "$$\n",
    "\n",
    "The important matrix now is\n",
    "\n",
    "$$\n",
    "A-\\lambda \\mathbf I = \\begin{bmatrix}\n",
    "0.8-\\lambda & 0.3\\\\\n",
    "0.2 & 0.7-\\lambda\n",
    "\\end{bmatrix}\n",
    "$$"
   ]
  },
  {
   "cell_type": "markdown",
   "id": "866eacb0",
   "metadata": {},
   "source": [
    "We are looking for a value of $\\lambda$ such that\n",
    "$$\n",
    "(A-\\lambda \\mathbf I)\\mathbf x = \\mathbf 0 \n",
    "$$\n",
    "\n",
    "with $\\mathbf x \\neq \\mathbf 0$ (otherwise the equation would be trivial).\n",
    "\n",
    "It follows that $(A-\\lambda \\mathbf I)$ is not invertible. Hence:\n",
    "\n",
    "$$\n",
    "|(A-\\lambda \\mathbf I)| = 0\n",
    "$$\n",
    "\n",
    "Using the formula for the determinant of a $2\\times 2$ matrix:\n",
    "\n",
    "$$\n",
    "(0.8-\\lambda)(0.7-\\lambda) - 0.2\\times 0.3 = 0\n",
    "$$\n"
   ]
  },
  {
   "cell_type": "markdown",
   "id": "6c01c2bf",
   "metadata": {
    "slideshow": {
     "slide_type": "slide"
    }
   },
   "source": [
    "Simplifying:\n",
    "\n",
    "$$\n",
    "\\begin{aligned}\n",
    "(0.8-\\lambda)(0.7-\\lambda) - 0.2\\times 0.3 &= 0\\\\\n",
    "\\lambda ^2 - 1.5\\lambda + 0.56 - 0.06 &= 0\\\\\n",
    "\\lambda^2 - 1.5\\lambda + 0.5 &= 0\n",
    "\\end{aligned}\n",
    "$$\n",
    "\n",
    "There is a formula for finding the solution of quadratic equations (https://en.wikipedia.org/wiki/Quadratic_equation):\n",
    "\n",
    "$$\n",
    "\\begin{aligned}\n",
    "\\lambda_{1/2} = \\frac{3}{4} \\pm \\sqrt{(\\frac{3}{4})^2-\\frac{1}{2}}\\\\\n",
    "&= \\frac{3}{4} \\pm \\sqrt{\\frac{9-8}{16}}\\\\\n",
    "&= \\frac{3}{4} \\pm \\sqrt{\\frac{1}{16}}\\\\\n",
    "&= \\frac{3}{4} \\pm \\frac{1}{}4\\\\\n",
    "\\lambda_1 &= 1\\\\\n",
    "\\lambda_2 &= 0.5\n",
    "\\end{aligned}\n",
    "$$\n",
    "\n",
    "$\\lambda_1$ and $\\lambda_2$ are the eigenvalues of $A$. Now let's find the corresponding eigenvectors."
   ]
  },
  {
   "cell_type": "markdown",
   "id": "2cc32822",
   "metadata": {
    "slideshow": {
     "slide_type": "slide"
    }
   },
   "source": [
    "This amount to finding the nullspace of $A-\\lambda\\mathbf I$:\n",
    "\n",
    "- $\\lambda_1$\n",
    "\n",
    "$$\n",
    "\\begin{aligned}\n",
    "(A - \\lambda_1\\mathbf I)\\mathbf x_1 &= \\mathbf 0\\\\\n",
    "\\begin{bmatrix}\n",
    "-0.2 & 0.3\\\\\n",
    "0.2 & -0.3\n",
    "\\end{bmatrix}\\mathbf x_1 &= \\mathbf 0\\\\\n",
    "\\begin{bmatrix}\n",
    "-0.2 & 0.3\\\\\n",
    "0 & 0\n",
    "\\end{bmatrix}\\mathbf x_1 &= \\mathbf 0\\\\\n",
    "\\begin{bmatrix}\n",
    "1 & -1.5\\\\\n",
    "0 & 0\n",
    "\\end{bmatrix}\\mathbf x_1 &= \\mathbf 0\\\\\n",
    "\\mathbf x_1 &= \\begin{bmatrix}1.5\\\\1\\end{bmatrix}\n",
    "\\end{aligned}\n",
    "$$\n",
    "\n"
   ]
  },
  {
   "cell_type": "markdown",
   "id": "fe963bfe",
   "metadata": {
    "slideshow": {
     "slide_type": "slide"
    }
   },
   "source": [
    "\n",
    "- $\\lambda_2$\n",
    "\n",
    "$$\n",
    "\\begin{aligned}\n",
    "(A - \\lambda_1\\mathbf I)\\mathbf x_1 &= \\mathbf 0\\\\\n",
    "\\begin{bmatrix}\n",
    "0.3 & 0.3\\\\\n",
    "0.2 & 0.2\n",
    "\\end{bmatrix}\\mathbf x_2 &= \\mathbf 0\\\\\n",
    "\\begin{bmatrix}\n",
    "0.3 & 0.3\\\\\n",
    "0 & 0\n",
    "\\end{bmatrix}\\mathbf x_2 &= \\mathbf 0\\\\\n",
    "\\begin{bmatrix}\n",
    "1 & 1\\\\\n",
    "0 & 0\n",
    "\\end{bmatrix}\\mathbf x_2 &= \\mathbf 0\\\\\n",
    "\\mathbf x_2 &= \\begin{bmatrix}-1\\\\1\\end{bmatrix}\\\\\n",
    "\\end{aligned}\n",
    "$$"
   ]
  },
  {
   "cell_type": "markdown",
   "id": "b0623f9f",
   "metadata": {
    "slideshow": {
     "slide_type": "slide"
    }
   },
   "source": [
    "$\\mathbf x_1$ is the eigenvector *corresponding to* $\\lambda_1$.\n",
    "\n",
    "$\\mathbf x_2$ is the eigenvector *corresponding to* $\\lambda_2$.\n",
    "\n",
    "Any non-zero multiples of $\\mathbf x_1, \\mathbf x_2$ are also eigenvectors. It is common practice to use normalized eigenvectors, i.e.\\ eigenvectors with length 1.\n",
    "\n",
    "$$\n",
    "\\begin{aligned}\n",
    "\\mathbf v_1 &= \\frac{\\mathbf x_1}{||\\mathbf x_1||}\\\\\n",
    "&= \\frac{1}{\\sqrt{13}}\\begin{bmatrix}3\\\\2\\end{bmatrix}\\\\\n",
    "\\mathbf v_2 &= \\frac{\\mathbf x_1}{||\\mathbf x_1||}\\\\\n",
    "&= \\frac{1}{\\sqrt{2}}\\begin{bmatrix}-1\\\\1\\end{bmatrix}\\\\\n",
    "\\end{aligned}\n",
    "$$"
   ]
  },
  {
   "cell_type": "code",
   "execution_count": 10,
   "id": "9854f98c",
   "metadata": {
    "slideshow": {
     "slide_type": "slide"
    }
   },
   "outputs": [
    {
     "data": {
      "text/latex": [
       "$\\displaystyle \\left[\\begin{matrix}\\frac{4}{5} & \\frac{3}{10}\\\\\\frac{1}{5} & \\frac{7}{10}\\end{matrix}\\right]$"
      ],
      "text/plain": [
       "Matrix([\n",
       "[4/5, 3/10],\n",
       "[1/5, 7/10]])"
      ]
     },
     "execution_count": 10,
     "metadata": {},
     "output_type": "execute_result"
    }
   ],
   "source": [
    "A = Matrix([\n",
    "    [Rational(4,5), Rational(3,10)],\n",
    "    [Rational(1,5), Rational(7,10)]\n",
    "])\n",
    "A"
   ]
  },
  {
   "cell_type": "code",
   "execution_count": 11,
   "id": "e1c8ffa1",
   "metadata": {},
   "outputs": [],
   "source": [
    "e1, e2 = A.eigenvects()"
   ]
  },
  {
   "cell_type": "code",
   "execution_count": 12,
   "id": "8083ca17",
   "metadata": {},
   "outputs": [],
   "source": [
    "lambda1, _, v1 = e1"
   ]
  },
  {
   "cell_type": "code",
   "execution_count": 13,
   "id": "26fe76ca",
   "metadata": {},
   "outputs": [
    {
     "data": {
      "text/latex": [
       "$\\displaystyle \\frac{1}{2}$"
      ],
      "text/plain": [
       "1/2"
      ]
     },
     "execution_count": 13,
     "metadata": {},
     "output_type": "execute_result"
    }
   ],
   "source": [
    "lambda1"
   ]
  },
  {
   "cell_type": "code",
   "execution_count": 14,
   "id": "64a8b1b3",
   "metadata": {},
   "outputs": [
    {
     "data": {
      "text/latex": [
       "$\\displaystyle \\left[\\begin{matrix}- \\frac{\\sqrt{2}}{2}\\\\\\frac{\\sqrt{2}}{2}\\end{matrix}\\right]$"
      ],
      "text/plain": [
       "Matrix([\n",
       "[-sqrt(2)/2],\n",
       "[ sqrt(2)/2]])"
      ]
     },
     "execution_count": 14,
     "metadata": {},
     "output_type": "execute_result"
    }
   ],
   "source": [
    "v1[0].normalized()"
   ]
  },
  {
   "cell_type": "code",
   "execution_count": 15,
   "id": "7a832706",
   "metadata": {},
   "outputs": [],
   "source": [
    "lambda2, _, v2 = e2"
   ]
  },
  {
   "cell_type": "code",
   "execution_count": 16,
   "id": "4056bd25",
   "metadata": {},
   "outputs": [
    {
     "data": {
      "text/latex": [
       "$\\displaystyle 1$"
      ],
      "text/plain": [
       "1"
      ]
     },
     "execution_count": 16,
     "metadata": {},
     "output_type": "execute_result"
    }
   ],
   "source": [
    "lambda2"
   ]
  },
  {
   "cell_type": "code",
   "execution_count": 17,
   "id": "08859f45",
   "metadata": {},
   "outputs": [
    {
     "data": {
      "text/latex": [
       "$\\displaystyle \\left[\\begin{matrix}\\frac{3 \\sqrt{13}}{13}\\\\\\frac{2 \\sqrt{13}}{13}\\end{matrix}\\right]$"
      ],
      "text/plain": [
       "Matrix([\n",
       "[3*sqrt(13)/13],\n",
       "[2*sqrt(13)/13]])"
      ]
     },
     "execution_count": 17,
     "metadata": {},
     "output_type": "execute_result"
    }
   ],
   "source": [
    "v2[0].normalized()"
   ]
  },
  {
   "cell_type": "code",
   "execution_count": 18,
   "id": "c5b5637a",
   "metadata": {
    "slideshow": {
     "slide_type": "slide"
    }
   },
   "outputs": [
    {
     "data": {
      "text/plain": [
       "array([[0.8, 0.3],\n",
       "       [0.2, 0.7]])"
      ]
     },
     "execution_count": 18,
     "metadata": {},
     "output_type": "execute_result"
    }
   ],
   "source": [
    "A = np.array([\n",
    "    [0.8, 0.3],\n",
    "    [0.2, 0.7]\n",
    "])\n",
    "A"
   ]
  },
  {
   "cell_type": "code",
   "execution_count": 19,
   "id": "eefa5cf4",
   "metadata": {},
   "outputs": [
    {
     "data": {
      "text/plain": [
       "(array([1. , 0.5]),\n",
       " array([[ 0.83205029, -0.70710678],\n",
       "        [ 0.5547002 ,  0.70710678]]))"
      ]
     },
     "execution_count": 19,
     "metadata": {},
     "output_type": "execute_result"
    }
   ],
   "source": [
    "np.linalg.eig(A)"
   ]
  },
  {
   "cell_type": "markdown",
   "id": "e25f4761",
   "metadata": {
    "slideshow": {
     "slide_type": "slide"
    }
   },
   "source": [
    "\n",
    "\n",
    "### Procedure to find eigenvalues and eigenvectors:\n",
    "\n",
    "1. Construct $A-\\lambda \\mathbf I$ with $\\lambda$ as unknown.\n",
    "2. Set $|A-\\lambda \\mathbf I| = 0$ and solve for $\\lambda$. All solutions are eigenvalues.\n",
    "3. For each solution for $\\lambda$, find the nullspace of $|A-\\lambda \\mathbf I| = 0$. Each vector in the nullspace is an eigenvector corresponding to this solution."
   ]
  },
  {
   "cell_type": "markdown",
   "id": "9693cd72",
   "metadata": {
    "slideshow": {
     "slide_type": "slide"
    }
   },
   "source": [
    "##### Example 2: Projection matrix\n",
    "\n",
    "$$\n",
    "A = \\begin{bmatrix}\n",
    "\\frac{1}{2} & \\frac{1}{2}\\\\\n",
    "\\frac{1}{2} & \\frac{1}{2}\n",
    "\\end{bmatrix}\n",
    "$$\n",
    "\n",
    "- find eigenvalues\n",
    "\n",
    "$$\n",
    "\\begin{aligned}\n",
    "\\begin{vmatrix}\n",
    "\\frac{1}{2}-\\lambda & \\frac{1}{2}\\\\\n",
    "\\frac{1}{2} & \\frac{1}{2}-\\lambda\n",
    "\\end{vmatrix} &= 0\\\\\n",
    "(\\frac{1}{2}-\\lambda)^2 - \\frac{1}{4} &= 0\\\\\n",
    "\\lambda^2 -\\lambda &= 0\\\\\n",
    "\\lambda(\\lambda-1) &= 0\\\\\n",
    "\\lambda_1 &= 1\\\\\n",
    "\\lambda_2 &= 0\n",
    "\\end{aligned}\n",
    "$$"
   ]
  },
  {
   "cell_type": "markdown",
   "id": "de352eeb",
   "metadata": {
    "slideshow": {
     "slide_type": "slide"
    }
   },
   "source": [
    "- find eigenvectors\n",
    "\n",
    "    - $\\lambda_1$: \n",
    "    $$\n",
    "    \\begin{aligned}\n",
    "    \\begin{bmatrix}\n",
    "    -\\frac{1}{2} & \\frac{1}{2}\\\\\n",
    "    \\frac{1}{2} & -\\frac{1}{2}\n",
    "    \\end{bmatrix}\\mathbf x_1 &= \\mathbf 0\\\\\n",
    "    \\mathbf x_1 &= \\begin{bmatrix}1\\\\1\\end{bmatrix}\n",
    "    \\end{aligned}\n",
    "    $$\n",
    "    \n",
    "    - $\\lambda_2$:\n",
    "    $$\n",
    "    \\begin{aligned}\n",
    "    \\begin{bmatrix}\n",
    "    \\frac{1}{2} & \\frac{1}{2}\\\\\n",
    "    \\frac{1}{2} & \\frac{1}{2}\n",
    "    \\end{bmatrix}\\mathbf x_2 &= \\mathbf 0\\\\\n",
    "    \\mathbf x_2 &= \\begin{bmatrix}-1\\\\1\\end{bmatrix}\n",
    "    \\end{aligned}\n",
    "    $$"
   ]
  },
  {
   "cell_type": "markdown",
   "id": "b13fec6b",
   "metadata": {
    "slideshow": {
     "slide_type": "slide"
    }
   },
   "source": [
    "##### Example 3: Reflection matrix\n",
    "\n",
    "$$\n",
    "A = \\begin{bmatrix}\n",
    "0 & 1\\\\\n",
    "1 & 0\n",
    "\\end{bmatrix}\n",
    "$$\n",
    "\n",
    "- find eigenvalues\n",
    "\n",
    "$$\n",
    "\\begin{aligned}\n",
    "\\begin{vmatrix}\n",
    "-\\lambda & 1\\\\\n",
    "1 & -\\lambda\n",
    "\\end{vmatrix} &= 0\\\\\n",
    "\\lambda^2-1 &= 0\\\\\n",
    "\\lambda^2 &= 1\\\\\n",
    "\\lambda_1 &= 1\\\\\n",
    "\\lambda_2 &= -1\n",
    "\\end{aligned}\n",
    "$$"
   ]
  },
  {
   "cell_type": "markdown",
   "id": "590f050d",
   "metadata": {
    "slideshow": {
     "slide_type": "slide"
    }
   },
   "source": [
    "- find eigenvectors\n",
    "\n",
    "    - $\\lambda_1$: \n",
    "    $$\n",
    "    \\begin{aligned}\n",
    "    \\begin{bmatrix}\n",
    "    -1 & 1\\\\\n",
    "    1 & -1\n",
    "    \\end{bmatrix}\\mathbf x_1 &= \\mathbf 0\\\\\n",
    "    \\mathbf x_1 &= \\begin{bmatrix}1\\\\1\\end{bmatrix}\n",
    "    \\end{aligned}\n",
    "    $$\n",
    "    \n",
    "    - $\\lambda_2$:\n",
    "    $$\n",
    "    \\begin{aligned}\n",
    "    \\begin{bmatrix}\n",
    "    1 & 1\\\\\n",
    "    1 & 1\n",
    "    \\end{bmatrix}\\mathbf x_2 &= \\mathbf 0\\\\\n",
    "    \\mathbf x_2 &= \\begin{bmatrix}-1\\\\1\\end{bmatrix}\n",
    "    \\end{aligned}\n",
    "    $$"
   ]
  },
  {
   "cell_type": "markdown",
   "id": "054398bb",
   "metadata": {
    "slideshow": {
     "slide_type": "slide"
    }
   },
   "source": [
    "##### Example 3: Rotation matrix\n",
    "\n",
    "$$\n",
    "A = \\begin{bmatrix}\n",
    "\\frac{\\sqrt{2}}{2} & \\frac{\\sqrt{2}}{2}\\\\\n",
    "-\\frac{\\sqrt{2}}{2} & \\frac{\\sqrt{2}}{2}\n",
    "\\end{bmatrix}\n",
    "$$\n",
    "\n",
    "- find eigenvalues\n",
    "\n",
    "$$\n",
    "\\begin{aligned}\n",
    "\\begin{vmatrix}\n",
    "\\frac{\\sqrt{2}}{2}-\\lambda & \\frac{\\sqrt{2}}{2}\\\\\n",
    "-\\frac{\\sqrt{2}}{2} & \\frac{\\sqrt{2}}{2}-\\lambda\n",
    "\\end{vmatrix} &= 0\\\\\n",
    "(\\frac{\\sqrt{2}}{2}-\\lambda)^2 + \\frac{1}{2} &= 0\\\\\n",
    "\\lambda^2 - \\sqrt{2}\\lambda + 1 &= 0\\\\\n",
    "\\lambda_{1/2} &= \\frac{\\sqrt{2}}{2} \\pm \\sqrt{\\frac{1}{2} - 1}\\\\\n",
    " &= \\frac{\\sqrt{2}}{2} \\pm \\sqrt{-\\frac{1}{2}}\n",
    "\\end{aligned}\n",
    "$$\n",
    "\n",
    "**There is no solution within the real numbers!**\n",
    "\n",
    "(There are complex eigenvalues – and complex eigenvectors – for this matrix, but this is beyond the scope of this course.)"
   ]
  },
  {
   "cell_type": "markdown",
   "id": "b88fe023",
   "metadata": {
    "slideshow": {
     "slide_type": "slide"
    }
   },
   "source": [
    "##### Example 4: Multiple eigenvalues\n",
    "$$\n",
    "A = \\begin{bmatrix}\n",
    "1 & 0\\\\\n",
    "0 & 1\n",
    "\\end{bmatrix}\n",
    "$$\n",
    "\n",
    "- find eigenvalues\n",
    "\n",
    "$$\n",
    "\\begin{aligned}\n",
    "\\begin{vmatrix}\n",
    "1-\\lambda & 0\\\\\n",
    "0 & 1-\\lambda\n",
    "\\end{vmatrix} &= 0\\\\\n",
    "(1-\\lambda)^2 &= 0\\\\\n",
    "1-\\lambda &= 0\\\\\n",
    "\\lambda &= 1\n",
    "\\end{aligned}\n",
    "$$\n",
    "\n",
    "- find eigenvectors\n",
    "\n",
    "$$\n",
    "\\begin{bmatrix}\n",
    "0 & 0\\\\\n",
    "0 & 0\n",
    "\\end{bmatrix}\\mathbf x = \\mathbf 0\n",
    "$$\n",
    "\n",
    "**Any vector is an eigenvector of the identity matrix.**"
   ]
  },
  {
   "cell_type": "markdown",
   "id": "858ce872",
   "metadata": {
    "slideshow": {
     "slide_type": "slide"
    }
   },
   "source": [
    "##### Example 5: Defective eigenvalues\n",
    "\n",
    "$$\n",
    "A = \\begin{bmatrix}\n",
    "1 & 1\\\\\n",
    "0 & 1\n",
    "\\end{bmatrix}\n",
    "$$\n",
    "\n",
    "- find eigenvalues\n",
    "\n",
    "$$\n",
    "\\begin{aligned}\n",
    "\\begin{vmatrix}\n",
    "1-\\lambda & 1\\\\\n",
    "0 & 1-\\lambda\n",
    "\\end{vmatrix} &= 0\\\\\n",
    "(1-\\lambda)^2 &= 0\\\\\n",
    "1-\\lambda &= 0\\\\\n",
    "\\lambda &= 1\n",
    "\\end{aligned}\n",
    "$$\n",
    "\n",
    "- find eigenvectors\n",
    "\n",
    "$$\n",
    "\\begin{aligned}\n",
    "\\begin{bmatrix}\n",
    "0 & 1\\\\\n",
    "0 & 0\n",
    "\\end{bmatrix}\n",
    "\\mathbf x &= \\mathbf 0\\\\\n",
    "\\mathbf x &= \\begin{bmatrix}1\\\\0\\end{bmatrix}\n",
    "\\end{aligned}\n",
    "$$\n",
    "\n",
    "**This matrix has only one eigenvalue and one eigenvector.**"
   ]
  },
  {
   "cell_type": "markdown",
   "id": "cc9037e8",
   "metadata": {
    "slideshow": {
     "slide_type": "slide"
    }
   },
   "source": [
    "### Larger matrices\n",
    "\n",
    "$$\n",
    "A = \\begin{bmatrix}\n",
    "-1 & 2 & 2\\\\\n",
    "2 & 2 & -1\\\\\n",
    "2 & -1 & 2\n",
    "\\end{bmatrix}\n",
    "$$\n",
    "\n",
    "- finding eigenvalues\n",
    "\n",
    "$$\n",
    "\\begin{aligned}\n",
    "\\begin{vmatrix}\n",
    "-1-\\lambda & 2 & 2\\\\\n",
    "2 & 2-\\lambda & -1\\\\\n",
    "2 & -1 & 2-\\lambda\n",
    "\\end{vmatrix} &= 0\\\\\n",
    "(-1-\\lambda)(2-\\lambda)^2 -4 -4 -4(2-\\lambda)-4(2-\\lambda) + 1 + \\lambda &= 0\\\\\n",
    "-\\lambda^2+4\\lambda-4-\\lambda^3+4\\lambda^2-4\\lambda -4 -4 -8+4\\lambda-8+4\\lambda + 1 + \\lambda &= 0\\\\\n",
    "-\\lambda^3 + 3\\lambda^2 + 9\\lambda - 27&= 0\\\\\n",
    "\\lambda^3 - 3\\lambda^2 - 9\\lambda + 27&= 0\n",
    "\\end{aligned}\n",
    "$$\n"
   ]
  },
  {
   "cell_type": "markdown",
   "id": "8c916755",
   "metadata": {},
   "source": [
    "In the general case, solving a cubic equation by hand is very hard. In this particular example, the solution is:\n",
    "\n",
    "$$\n",
    "\\begin{aligned}\n",
    "\\lambda^3 - 3\\lambda^2 - 9\\lambda + 27 &= (\\lambda -3)^2 (\\lambda+3)\\\\\n",
    "\\lambda_1 &= 3\\\\\n",
    "\\lambda_2 &= -3\n",
    "\\end{aligned}\n",
    "$$\n",
    "\n"
   ]
  },
  {
   "cell_type": "markdown",
   "id": "16223894",
   "metadata": {
    "slideshow": {
     "slide_type": "slide"
    }
   },
   "source": [
    "\n",
    "\n",
    "- eigenvectors"
   ]
  },
  {
   "cell_type": "code",
   "execution_count": 20,
   "id": "ef01cfd0",
   "metadata": {},
   "outputs": [
    {
     "data": {
      "text/latex": [
       "$\\displaystyle \\left[\\begin{matrix}-1 & 2 & 2\\\\2 & 2 & -1\\\\2 & -1 & 2\\end{matrix}\\right]$"
      ],
      "text/plain": [
       "Matrix([\n",
       "[-1,  2,  2],\n",
       "[ 2,  2, -1],\n",
       "[ 2, -1,  2]])"
      ]
     },
     "execution_count": 20,
     "metadata": {},
     "output_type": "execute_result"
    }
   ],
   "source": [
    "A = Matrix([\n",
    "    [-1,2,2],\n",
    "    [2,2,-1],\n",
    "    [2,-1,2]\n",
    "])\n",
    "A"
   ]
  },
  {
   "cell_type": "code",
   "execution_count": 21,
   "id": "7018c0de",
   "metadata": {},
   "outputs": [
    {
     "data": {
      "text/plain": [
       "{-3: 1, 3: 2}"
      ]
     },
     "execution_count": 21,
     "metadata": {},
     "output_type": "execute_result"
    }
   ],
   "source": [
    "A.eigenvals()"
   ]
  },
  {
   "cell_type": "markdown",
   "id": "cc34ddc5",
   "metadata": {},
   "source": [
    "(In this dictionary, the keys are the eigenvalues and the values are the *algebraic multiplicity*.)"
   ]
  },
  {
   "cell_type": "code",
   "execution_count": 22,
   "id": "05ebe5ec",
   "metadata": {},
   "outputs": [],
   "source": [
    "e1, e2 = A.eigenvects()"
   ]
  },
  {
   "cell_type": "code",
   "execution_count": 23,
   "id": "26e73b6d",
   "metadata": {},
   "outputs": [
    {
     "data": {
      "text/latex": [
       "$\\displaystyle -3$"
      ],
      "text/plain": [
       "-3"
      ]
     },
     "execution_count": 23,
     "metadata": {},
     "output_type": "execute_result"
    }
   ],
   "source": [
    "e1[0]"
   ]
  },
  {
   "cell_type": "code",
   "execution_count": 24,
   "id": "86046c65",
   "metadata": {},
   "outputs": [
    {
     "data": {
      "text/latex": [
       "$\\displaystyle \\left[\\begin{matrix}-2\\\\1\\\\1\\end{matrix}\\right]$"
      ],
      "text/plain": [
       "Matrix([\n",
       "[-2],\n",
       "[ 1],\n",
       "[ 1]])"
      ]
     },
     "execution_count": 24,
     "metadata": {},
     "output_type": "execute_result"
    }
   ],
   "source": [
    "e1[2][0]"
   ]
  },
  {
   "cell_type": "code",
   "execution_count": 25,
   "id": "cf4b0d33",
   "metadata": {},
   "outputs": [
    {
     "data": {
      "text/latex": [
       "$\\displaystyle 3$"
      ],
      "text/plain": [
       "3"
      ]
     },
     "execution_count": 25,
     "metadata": {},
     "output_type": "execute_result"
    }
   ],
   "source": [
    "e2[0]"
   ]
  },
  {
   "cell_type": "code",
   "execution_count": 26,
   "id": "2c03d6f5",
   "metadata": {},
   "outputs": [
    {
     "data": {
      "text/latex": [
       "$\\displaystyle \\left[\\begin{matrix}\\frac{1}{2}\\\\1\\\\0\\end{matrix}\\right]$"
      ],
      "text/plain": [
       "Matrix([\n",
       "[1/2],\n",
       "[  1],\n",
       "[  0]])"
      ]
     },
     "execution_count": 26,
     "metadata": {},
     "output_type": "execute_result"
    }
   ],
   "source": [
    "e2[2][0]"
   ]
  },
  {
   "cell_type": "code",
   "execution_count": 27,
   "id": "755698f1",
   "metadata": {
    "slideshow": {
     "slide_type": "slide"
    }
   },
   "outputs": [
    {
     "data": {
      "text/latex": [
       "$\\displaystyle \\left[\\begin{matrix}\\frac{1}{2}\\\\0\\\\1\\end{matrix}\\right]$"
      ],
      "text/plain": [
       "Matrix([\n",
       "[1/2],\n",
       "[  0],\n",
       "[  1]])"
      ]
     },
     "execution_count": 27,
     "metadata": {},
     "output_type": "execute_result"
    }
   ],
   "source": [
    "e2[2][1]"
   ]
  },
  {
   "cell_type": "markdown",
   "id": "af548ac3",
   "metadata": {},
   "source": [
    "Note that there are two eigenvectors corresponding to the eigenvalue 3."
   ]
  },
  {
   "cell_type": "code",
   "execution_count": 28,
   "id": "cc2e3e5a",
   "metadata": {
    "slideshow": {
     "slide_type": "slide"
    }
   },
   "outputs": [
    {
     "data": {
      "text/latex": [
       "$\\displaystyle \\left[\\begin{matrix}-1 & 2 & 3\\\\4 & 5 & 6\\\\7 & 8 & 9\\end{matrix}\\right]$"
      ],
      "text/plain": [
       "Matrix([\n",
       "[-1, 2, 3],\n",
       "[ 4, 5, 6],\n",
       "[ 7, 8, 9]])"
      ]
     },
     "execution_count": 28,
     "metadata": {},
     "output_type": "execute_result"
    }
   ],
   "source": [
    "A = Matrix([\n",
    "    [-1,2,3],\n",
    "    [4,5,6],\n",
    "    [7,8,9]\n",
    "])\n",
    "A"
   ]
  },
  {
   "cell_type": "code",
   "execution_count": 29,
   "id": "ffeae032",
   "metadata": {},
   "outputs": [],
   "source": [
    "e1, e2, e3 = A.eigenvects()"
   ]
  },
  {
   "cell_type": "code",
   "execution_count": 30,
   "id": "d47eafce",
   "metadata": {},
   "outputs": [
    {
     "data": {
      "text/latex": [
       "$\\displaystyle \\frac{13}{3} + \\left(- \\frac{1}{2} - \\frac{\\sqrt{3} i}{2}\\right) \\sqrt[3]{\\frac{4969}{27} + \\frac{\\sqrt{471498} i}{9}} + \\frac{307}{9 \\left(- \\frac{1}{2} - \\frac{\\sqrt{3} i}{2}\\right) \\sqrt[3]{\\frac{4969}{27} + \\frac{\\sqrt{471498} i}{9}}}$"
      ],
      "text/plain": [
       "13/3 + (-1/2 - sqrt(3)*I/2)*(4969/27 + sqrt(471498)*I/9)**(1/3) + 307/(9*(-1/2 - sqrt(3)*I/2)*(4969/27 + sqrt(471498)*I/9)**(1/3))"
      ]
     },
     "execution_count": 30,
     "metadata": {},
     "output_type": "execute_result"
    }
   ],
   "source": [
    "e1[0]"
   ]
  },
  {
   "cell_type": "code",
   "execution_count": 31,
   "id": "ab31601e",
   "metadata": {
    "slideshow": {
     "slide_type": "slide"
    }
   },
   "outputs": [
    {
     "data": {
      "text/latex": [
       "$\\displaystyle \\left[\\begin{matrix}\\frac{306}{89} + \\frac{63 \\left(- \\frac{1}{2} - \\frac{\\sqrt{3} i}{2}\\right) \\sqrt[3]{\\frac{4969}{27} + \\frac{\\sqrt{471498} i}{9}}}{89} - \\frac{4 \\left(\\frac{13}{3} + \\left(- \\frac{1}{2} - \\frac{\\sqrt{3} i}{2}\\right) \\sqrt[3]{\\frac{4969}{27} + \\frac{\\sqrt{471498} i}{9}} + \\frac{307}{9 \\left(- \\frac{1}{2} - \\frac{\\sqrt{3} i}{2}\\right) \\sqrt[3]{\\frac{4969}{27} + \\frac{\\sqrt{471498} i}{9}}}\\right)^{2}}{89} + \\frac{2149}{89 \\left(- \\frac{1}{2} - \\frac{\\sqrt{3} i}{2}\\right) \\sqrt[3]{\\frac{4969}{27} + \\frac{\\sqrt{471498} i}{9}}}\\\\- \\frac{959}{267} - \\frac{13508}{801 \\left(- \\frac{1}{2} - \\frac{\\sqrt{3} i}{2}\\right) \\sqrt[3]{\\frac{4969}{27} + \\frac{\\sqrt{471498} i}{9}}} + \\frac{7 \\left(\\frac{13}{3} + \\left(- \\frac{1}{2} - \\frac{\\sqrt{3} i}{2}\\right) \\sqrt[3]{\\frac{4969}{27} + \\frac{\\sqrt{471498} i}{9}} + \\frac{307}{9 \\left(- \\frac{1}{2} - \\frac{\\sqrt{3} i}{2}\\right) \\sqrt[3]{\\frac{4969}{27} + \\frac{\\sqrt{471498} i}{9}}}\\right)^{2}}{178} - \\frac{44 \\left(- \\frac{1}{2} - \\frac{\\sqrt{3} i}{2}\\right) \\sqrt[3]{\\frac{4969}{27} + \\frac{\\sqrt{471498} i}{9}}}{89}\\\\1\\end{matrix}\\right]$"
      ],
      "text/plain": [
       "Matrix([\n",
       "[     306/89 + 63*(-1/2 - sqrt(3)*I/2)*(4969/27 + sqrt(471498)*I/9)**(1/3)/89 - 4*(13/3 + (-1/2 - sqrt(3)*I/2)*(4969/27 + sqrt(471498)*I/9)**(1/3) + 307/(9*(-1/2 - sqrt(3)*I/2)*(4969/27 + sqrt(471498)*I/9)**(1/3)))**2/89 + 2149/(89*(-1/2 - sqrt(3)*I/2)*(4969/27 + sqrt(471498)*I/9)**(1/3))],\n",
       "[-959/267 - 13508/(801*(-1/2 - sqrt(3)*I/2)*(4969/27 + sqrt(471498)*I/9)**(1/3)) + 7*(13/3 + (-1/2 - sqrt(3)*I/2)*(4969/27 + sqrt(471498)*I/9)**(1/3) + 307/(9*(-1/2 - sqrt(3)*I/2)*(4969/27 + sqrt(471498)*I/9)**(1/3)))**2/178 - 44*(-1/2 - sqrt(3)*I/2)*(4969/27 + sqrt(471498)*I/9)**(1/3)/89],\n",
       "[                                                                                                                                                                                                                                                                                               1]])"
      ]
     },
     "execution_count": 31,
     "metadata": {},
     "output_type": "execute_result"
    }
   ],
   "source": [
    "e1[2][0]"
   ]
  },
  {
   "cell_type": "code",
   "execution_count": 32,
   "id": "7087786e",
   "metadata": {
    "slideshow": {
     "slide_type": "slide"
    }
   },
   "outputs": [
    {
     "data": {
      "text/latex": [
       "$\\displaystyle \\frac{13}{3} + \\frac{307}{9 \\left(- \\frac{1}{2} + \\frac{\\sqrt{3} i}{2}\\right) \\sqrt[3]{\\frac{4969}{27} + \\frac{\\sqrt{471498} i}{9}}} + \\left(- \\frac{1}{2} + \\frac{\\sqrt{3} i}{2}\\right) \\sqrt[3]{\\frac{4969}{27} + \\frac{\\sqrt{471498} i}{9}}$"
      ],
      "text/plain": [
       "13/3 + 307/(9*(-1/2 + sqrt(3)*I/2)*(4969/27 + sqrt(471498)*I/9)**(1/3)) + (-1/2 + sqrt(3)*I/2)*(4969/27 + sqrt(471498)*I/9)**(1/3)"
      ]
     },
     "execution_count": 32,
     "metadata": {},
     "output_type": "execute_result"
    }
   ],
   "source": [
    "e2[0]"
   ]
  },
  {
   "cell_type": "code",
   "execution_count": 33,
   "id": "326fe5c5",
   "metadata": {},
   "outputs": [
    {
     "data": {
      "text/latex": [
       "$\\displaystyle \\left[\\begin{matrix}\\frac{306}{89} + \\frac{2149}{89 \\left(- \\frac{1}{2} + \\frac{\\sqrt{3} i}{2}\\right) \\sqrt[3]{\\frac{4969}{27} + \\frac{\\sqrt{471498} i}{9}}} - \\frac{4 \\left(\\frac{13}{3} + \\frac{307}{9 \\left(- \\frac{1}{2} + \\frac{\\sqrt{3} i}{2}\\right) \\sqrt[3]{\\frac{4969}{27} + \\frac{\\sqrt{471498} i}{9}}} + \\left(- \\frac{1}{2} + \\frac{\\sqrt{3} i}{2}\\right) \\sqrt[3]{\\frac{4969}{27} + \\frac{\\sqrt{471498} i}{9}}\\right)^{2}}{89} + \\frac{63 \\left(- \\frac{1}{2} + \\frac{\\sqrt{3} i}{2}\\right) \\sqrt[3]{\\frac{4969}{27} + \\frac{\\sqrt{471498} i}{9}}}{89}\\\\- \\frac{959}{267} - \\frac{44 \\left(- \\frac{1}{2} + \\frac{\\sqrt{3} i}{2}\\right) \\sqrt[3]{\\frac{4969}{27} + \\frac{\\sqrt{471498} i}{9}}}{89} + \\frac{7 \\left(\\frac{13}{3} + \\frac{307}{9 \\left(- \\frac{1}{2} + \\frac{\\sqrt{3} i}{2}\\right) \\sqrt[3]{\\frac{4969}{27} + \\frac{\\sqrt{471498} i}{9}}} + \\left(- \\frac{1}{2} + \\frac{\\sqrt{3} i}{2}\\right) \\sqrt[3]{\\frac{4969}{27} + \\frac{\\sqrt{471498} i}{9}}\\right)^{2}}{178} - \\frac{13508}{801 \\left(- \\frac{1}{2} + \\frac{\\sqrt{3} i}{2}\\right) \\sqrt[3]{\\frac{4969}{27} + \\frac{\\sqrt{471498} i}{9}}}\\\\1\\end{matrix}\\right]$"
      ],
      "text/plain": [
       "Matrix([\n",
       "[     306/89 + 2149/(89*(-1/2 + sqrt(3)*I/2)*(4969/27 + sqrt(471498)*I/9)**(1/3)) - 4*(13/3 + 307/(9*(-1/2 + sqrt(3)*I/2)*(4969/27 + sqrt(471498)*I/9)**(1/3)) + (-1/2 + sqrt(3)*I/2)*(4969/27 + sqrt(471498)*I/9)**(1/3))**2/89 + 63*(-1/2 + sqrt(3)*I/2)*(4969/27 + sqrt(471498)*I/9)**(1/3)/89],\n",
       "[-959/267 - 44*(-1/2 + sqrt(3)*I/2)*(4969/27 + sqrt(471498)*I/9)**(1/3)/89 + 7*(13/3 + 307/(9*(-1/2 + sqrt(3)*I/2)*(4969/27 + sqrt(471498)*I/9)**(1/3)) + (-1/2 + sqrt(3)*I/2)*(4969/27 + sqrt(471498)*I/9)**(1/3))**2/178 - 13508/(801*(-1/2 + sqrt(3)*I/2)*(4969/27 + sqrt(471498)*I/9)**(1/3))],\n",
       "[                                                                                                                                                                                                                                                                                               1]])"
      ]
     },
     "execution_count": 33,
     "metadata": {},
     "output_type": "execute_result"
    }
   ],
   "source": [
    "e2[2][0]"
   ]
  },
  {
   "cell_type": "code",
   "execution_count": 34,
   "id": "79d77dd9",
   "metadata": {
    "slideshow": {
     "slide_type": "slide"
    }
   },
   "outputs": [
    {
     "data": {
      "text/latex": [
       "$\\displaystyle \\frac{13}{3} + \\frac{307}{9 \\sqrt[3]{\\frac{4969}{27} + \\frac{\\sqrt{471498} i}{9}}} + \\sqrt[3]{\\frac{4969}{27} + \\frac{\\sqrt{471498} i}{9}}$"
      ],
      "text/plain": [
       "13/3 + 307/(9*(4969/27 + sqrt(471498)*I/9)**(1/3)) + (4969/27 + sqrt(471498)*I/9)**(1/3)"
      ]
     },
     "execution_count": 34,
     "metadata": {},
     "output_type": "execute_result"
    }
   ],
   "source": [
    "e3[0]"
   ]
  },
  {
   "cell_type": "code",
   "execution_count": 35,
   "id": "adc3ee71",
   "metadata": {},
   "outputs": [
    {
     "data": {
      "text/latex": [
       "$\\displaystyle \\left[\\begin{matrix}\\frac{306}{89} + \\frac{2149}{89 \\sqrt[3]{\\frac{4969}{27} + \\frac{\\sqrt{471498} i}{9}}} - \\frac{4 \\left(\\frac{13}{3} + \\frac{307}{9 \\sqrt[3]{\\frac{4969}{27} + \\frac{\\sqrt{471498} i}{9}}} + \\sqrt[3]{\\frac{4969}{27} + \\frac{\\sqrt{471498} i}{9}}\\right)^{2}}{89} + \\frac{63 \\sqrt[3]{\\frac{4969}{27} + \\frac{\\sqrt{471498} i}{9}}}{89}\\\\- \\frac{959}{267} - \\frac{44 \\sqrt[3]{\\frac{4969}{27} + \\frac{\\sqrt{471498} i}{9}}}{89} + \\frac{7 \\left(\\frac{13}{3} + \\frac{307}{9 \\sqrt[3]{\\frac{4969}{27} + \\frac{\\sqrt{471498} i}{9}}} + \\sqrt[3]{\\frac{4969}{27} + \\frac{\\sqrt{471498} i}{9}}\\right)^{2}}{178} - \\frac{13508}{801 \\sqrt[3]{\\frac{4969}{27} + \\frac{\\sqrt{471498} i}{9}}}\\\\1\\end{matrix}\\right]$"
      ],
      "text/plain": [
       "Matrix([\n",
       "[     306/89 + 2149/(89*(4969/27 + sqrt(471498)*I/9)**(1/3)) - 4*(13/3 + 307/(9*(4969/27 + sqrt(471498)*I/9)**(1/3)) + (4969/27 + sqrt(471498)*I/9)**(1/3))**2/89 + 63*(4969/27 + sqrt(471498)*I/9)**(1/3)/89],\n",
       "[-959/267 - 44*(4969/27 + sqrt(471498)*I/9)**(1/3)/89 + 7*(13/3 + 307/(9*(4969/27 + sqrt(471498)*I/9)**(1/3)) + (4969/27 + sqrt(471498)*I/9)**(1/3))**2/178 - 13508/(801*(4969/27 + sqrt(471498)*I/9)**(1/3))],\n",
       "[                                                                                                                                                                                                           1]])"
      ]
     },
     "execution_count": 35,
     "metadata": {},
     "output_type": "execute_result"
    }
   ],
   "source": [
    "e3[2][0]"
   ]
  },
  {
   "cell_type": "markdown",
   "id": "b7fcb3e9",
   "metadata": {
    "slideshow": {
     "slide_type": "slide"
    }
   },
   "source": [
    "### Triangular matrices\n",
    "\n",
    "$$\n",
    "\\begin{aligned}\n",
    "A &= \n",
    "\\begin{bmatrix}\n",
    "1 & 4 & 1\\\\\n",
    "0 & 6 & 4\\\\\n",
    "0 & 0 & 2\n",
    "\\end{bmatrix}\\\\\n",
    "A -\\lambda \\mathbf I &= \n",
    "\\begin{vmatrix}\n",
    "1-\\lambda & 4 & 1\\\\\n",
    "0 & 6-\\lambda & 4\\\\\n",
    "0 & 0 & 2-\\lambda \n",
    "\\end{vmatrix}\\\\\n",
    "&= 0\\\\\n",
    "(1-\\lambda)(6-\\lambda)(2-\\lambda) &= 0\\\\\n",
    "\\lambda_1 &= 6\\\\\n",
    "\\lambda_2 &= 2\\\\\n",
    "\\lambda_3 &= 1\n",
    "\\end{aligned}\n",
    "$$\n",
    "\n",
    "**In triangular matrices, the diagonal entries are the eigenvalues.**"
   ]
  },
  {
   "cell_type": "markdown",
   "id": "8ffe177c",
   "metadata": {
    "slideshow": {
     "slide_type": "slide"
    }
   },
   "source": [
    "## Matrix diagonalization\n",
    "\n",
    "Let $A$ be an $n\\times n$ matrix, which has $n$ **linearly independent eigenvectors** $\\mathbf v_1,\\ldots, \\mathbf v_n$.\n",
    "\n",
    "Let \n",
    "\n",
    "$$\n",
    "V = \\begin{bmatrix}\n",
    "| & \\cdots & |\\\\\n",
    "\\mathbf v_1&\\cdots & \\mathbf v_n\\\\\n",
    "| & \\cdots & |\\\\\n",
    "\\end{bmatrix}\n",
    "$$\n",
    "\n",
    "Let $\\lambda_1, \\ldots, \\lambda_n$ be the corresponding eigenvalues.\n",
    "\n",
    "$$\n",
    "\\begin{aligned}\n",
    "A\\mathbf v_1 &= \\lambda_1 \\mathbf v_1\\\\\n",
    " & \\vdots \\\\\n",
    "A\\mathbf v_n &= \\lambda_1 \\mathbf v_n\n",
    "\\end{aligned}\n",
    "$$\n",
    "\n",
    "In matrix notation:\n",
    "\n",
    "$$\n",
    "\\begin{aligned}\n",
    "A\\begin{bmatrix}\n",
    "| & \\cdots & |\\\\\n",
    "\\mathbf v_1&\\cdots & \\mathbf v_n\\\\\n",
    "| & \\cdots & |\\\\\n",
    "\\end{bmatrix} &= \n",
    "\\begin{bmatrix}\n",
    "| & \\cdots & |\\\\\n",
    "\\mathbf \\lambda_1 v_1&\\cdots & \\lambda_n \\mathbf v_n\\\\\n",
    "| & \\cdots & |\\\\\n",
    "\\end{bmatrix}\\\\\n",
    "AV &= \\begin{bmatrix}\n",
    "| & \\cdots & |\\\\\n",
    "\\mathbf \\lambda_1 v_1&\\cdots & \\lambda_n \\mathbf v_n\\\\\n",
    "| & \\cdots & |\\\\\n",
    "\\end{bmatrix}\\\\\n",
    "AV &= V\\begin{bmatrix}\n",
    "\\lambda_1 & \\cdots & 0\\\\\n",
    "0 & \\ddots & 0\\\\\n",
    "0 & \\cdots & \\lambda_n\n",
    "\\end{bmatrix}\n",
    "\\end{aligned}\n",
    "$$\n"
   ]
  },
  {
   "cell_type": "markdown",
   "id": "6f38257c",
   "metadata": {},
   "source": [
    "Let $\\Lambda$ be the diagonal matrix with $\\lambda_1,\\ldots,\\lambda_n$ as diagonal entries.\n",
    "\n",
    "$$\n",
    "AV = V\\Lambda\n",
    "$$\n",
    "\n",
    "By assumption, $V$ has independent columns, so it is invertible. Therefore\n",
    "\n",
    "$$\n",
    "A = V\\Lambda V^{-1}\n",
    "$$\n",
    "\n",
    "It also holds that:\n",
    "\n",
    "$$\n",
    "V^{-1}AV = \\Lambda\n",
    "$$\n",
    "\n",
    "This operation is called **diagonalization** of $A$, since $A$ is converted to a diagonal matrix."
   ]
  },
  {
   "cell_type": "markdown",
   "id": "22491cad",
   "metadata": {
    "slideshow": {
     "slide_type": "slide"
    }
   },
   "source": [
    "### Example\n",
    "\n",
    "$$\n",
    "\\begin{aligned}\n",
    "A &= \\left[\\begin{matrix}0.8 & 0.3\\\\0.2 & 0.7\\end{matrix}\\right]\\\\\n",
    "V &= \n",
    "\\begin{bmatrix}\n",
    "3 & -1\\\\\n",
    "2 & 1\n",
    "\\end{bmatrix}\\\\\n",
    "\\Lambda &= \\begin{bmatrix}\n",
    "1 & 0\\\\\n",
    "0 & 0.5\n",
    "\\end{bmatrix}\\\\\n",
    "V^{-1} &= \n",
    "\\begin{bmatrix}\n",
    "0.2 & 0.2\\\\\n",
    "-0.4 & 0.6\n",
    "\\end{bmatrix}\\\\\n",
    "A &= V \\Lambda V^{-1}\\\\\n",
    "\\left[\\begin{matrix}0.8 & 0.3\\\\0.2 & 0.7\\end{matrix}\\right] &=\n",
    "\\begin{bmatrix}\n",
    "3 & -1\\\\\n",
    "2 & 1\n",
    "\\end{bmatrix}\\begin{bmatrix}\n",
    "1 & 0\\\\\n",
    "0 & 0.5\n",
    "\\end{bmatrix}\\begin{bmatrix}\n",
    "0.2 & 0.2\\\\\n",
    "-0.4 & 0.6\n",
    "\\end{bmatrix}\\\\\n",
    "\\Lambda &= V^{-1}AV\\\\\n",
    "\\begin{bmatrix}\n",
    "1 & 0\\\\\n",
    "0 & 0.5\n",
    "\\end{bmatrix} &= \\begin{bmatrix}\n",
    "0.2 & 0.2\\\\\n",
    "-0.4 & 0.6\n",
    "\\end{bmatrix}\\left[\\begin{matrix}0.8 & 0.3\\\\0.2 & 0.7\\end{matrix}\\right]\\begin{bmatrix}\n",
    "3 & -1\\\\\n",
    "2 & 1\n",
    "\\end{bmatrix}\n",
    "\\end{aligned}\n",
    "$$\n"
   ]
  },
  {
   "cell_type": "markdown",
   "id": "599fed3f",
   "metadata": {
    "slideshow": {
     "slide_type": "slide"
    }
   },
   "source": [
    "### Matrix power\n",
    "\n",
    "Suppose $\\lambda, \\mathbf v$ are an eigenvalue and a corresponding eigenvector of $A$.\n",
    "\n",
    "$$\n",
    "\\begin{aligned}\n",
    "A\\mathbf v &= \\lambda \\mathbf v\\\\\n",
    "A^2\\mathbf v &= A\\lambda \\mathbf v\\\\\n",
    "&= \\lambda A\\mathbf v\\\\\n",
    "&= \\lambda ^2 \\mathbf v\n",
    "\\end{aligned}\n",
    "$$\n",
    "\n",
    "$\\mathbf v$ is also an eigenvector of $A^2$, and $\\lambda^2$ is the corresponding eigenvalue.\n",
    "\n",
    "Likewise, $\\mathbf v$ is also an eigenvector of $A^k$, and $\\lambda^k$ is the corresponding eigenvalue."
   ]
  },
  {
   "cell_type": "markdown",
   "id": "7e5a0876",
   "metadata": {},
   "source": [
    "### Matrix power\n",
    "\n",
    "Suppose $A$ is diagonalizable.\n",
    "\n",
    "$$\n",
    "\\begin{aligned}\n",
    "A &= V\\Lambda V^{-1}\\\\\n",
    "A^2 &= V\\Lambda V^{-1}V\\Lambda V^{-1}\\\\\n",
    "&= V\\Lambda^2V^{-1}\\\\\n",
    "&\\vdots\\\\\n",
    "A^k &= V\\Lambda^nV^{-1}\\\\\n",
    "&= V\n",
    "\\begin{bmatrix}\n",
    "\\lambda_1^k & \\cdots & 0\\\\\n",
    "0 & \\ddots & 0\\\\\n",
    "0 & \\cdots & \\lambda_n^k\n",
    "\\end{bmatrix}\n",
    "V^{-1}\\\\\n",
    "\\end{aligned}\n",
    "$$\n",
    "\n"
   ]
  },
  {
   "cell_type": "markdown",
   "id": "68ab6a88",
   "metadata": {
    "slideshow": {
     "slide_type": "slide"
    }
   },
   "source": [
    "## Matrix exponential\n",
    "\n",
    "If $A$ is diagonalizable:\n",
    "\n",
    "$$\n",
    "e^A = V\n",
    "\\begin{bmatrix}\n",
    "e^\\lambda_1 & \\cdots & 0\\\\\n",
    "0 & \\ddots & 0\\\\\n",
    "0 & \\cdots & ^e\\lambda_n\n",
    "\\end{bmatrix}\n",
    "V^{-1}\\\\\n",
    "$$\n",
    "\n"
   ]
  },
  {
   "cell_type": "markdown",
   "id": "c640751f",
   "metadata": {
    "slideshow": {
     "slide_type": "slide"
    }
   },
   "source": [
    "### Symmetric matrices\n",
    "\n",
    "Symmetric matrices are particularly well-behaved, when it comes to eigenvectors.\n",
    "\n",
    "#### Theorem\n",
    "- For each $n\\times n$ symmetric matrix there is a set of $n$ independent eigenvectors.\n",
    "- These eigenvectors can be chose so that they are mutually orthogonal and have unit length.\n",
    "- Each symmetric matrix can be diagonalized by an orthogonal matrix."
   ]
  },
  {
   "cell_type": "code",
   "execution_count": 36,
   "id": "69f84d06",
   "metadata": {},
   "outputs": [
    {
     "data": {
      "text/latex": [
       "$\\displaystyle \\left[\\begin{matrix}1 & 2\\\\2 & 1\\end{matrix}\\right]$"
      ],
      "text/plain": [
       "Matrix([\n",
       "[1, 2],\n",
       "[2, 1]])"
      ]
     },
     "execution_count": 36,
     "metadata": {},
     "output_type": "execute_result"
    }
   ],
   "source": [
    "A = Matrix([\n",
    "    [1, 2],\n",
    "    [2, 1]\n",
    "])\n",
    "A"
   ]
  },
  {
   "cell_type": "code",
   "execution_count": 37,
   "id": "d389adb7",
   "metadata": {},
   "outputs": [],
   "source": [
    "V, L = A.diagonalize(normalize=True)"
   ]
  },
  {
   "cell_type": "code",
   "execution_count": 38,
   "id": "bc278633",
   "metadata": {},
   "outputs": [
    {
     "data": {
      "text/latex": [
       "$\\displaystyle \\left[\\begin{matrix}- \\frac{\\sqrt{2}}{2} & \\frac{\\sqrt{2}}{2}\\\\\\frac{\\sqrt{2}}{2} & \\frac{\\sqrt{2}}{2}\\end{matrix}\\right]$"
      ],
      "text/plain": [
       "Matrix([\n",
       "[-sqrt(2)/2, sqrt(2)/2],\n",
       "[ sqrt(2)/2, sqrt(2)/2]])"
      ]
     },
     "execution_count": 38,
     "metadata": {},
     "output_type": "execute_result"
    }
   ],
   "source": [
    "V"
   ]
  },
  {
   "cell_type": "code",
   "execution_count": 39,
   "id": "1aeb151e",
   "metadata": {},
   "outputs": [
    {
     "data": {
      "text/latex": [
       "$\\displaystyle \\left[\\begin{matrix}-1 & 0\\\\0 & 3\\end{matrix}\\right]$"
      ],
      "text/plain": [
       "Matrix([\n",
       "[-1, 0],\n",
       "[ 0, 3]])"
      ]
     },
     "execution_count": 39,
     "metadata": {},
     "output_type": "execute_result"
    }
   ],
   "source": [
    "L"
   ]
  },
  {
   "cell_type": "code",
   "execution_count": 40,
   "id": "afdf16b7",
   "metadata": {},
   "outputs": [
    {
     "data": {
      "text/latex": [
       "$\\displaystyle \\left[\\begin{matrix}1 & 2\\\\2 & 1\\end{matrix}\\right]$"
      ],
      "text/plain": [
       "Matrix([\n",
       "[1, 2],\n",
       "[2, 1]])"
      ]
     },
     "execution_count": 40,
     "metadata": {},
     "output_type": "execute_result"
    }
   ],
   "source": [
    "V * L * V.T"
   ]
  },
  {
   "cell_type": "code",
   "execution_count": 41,
   "id": "2120f98d",
   "metadata": {},
   "outputs": [
    {
     "data": {
      "text/latex": [
       "$\\displaystyle \\left[\\begin{matrix}1 & 0\\\\0 & 1\\end{matrix}\\right]$"
      ],
      "text/plain": [
       "Matrix([\n",
       "[1, 0],\n",
       "[0, 1]])"
      ]
     },
     "execution_count": 41,
     "metadata": {},
     "output_type": "execute_result"
    }
   ],
   "source": [
    "V*V.T"
   ]
  },
  {
   "cell_type": "code",
   "execution_count": 81,
   "id": "964e38f1",
   "metadata": {},
   "outputs": [
    {
     "data": {
      "text/latex": [
       "$\\displaystyle \\left[\\begin{matrix}-1 & 2 & 2\\\\2 & 2 & -1\\\\2 & -1 & 3\\end{matrix}\\right]$"
      ],
      "text/plain": [
       "Matrix([\n",
       "[-1,  2,  2],\n",
       "[ 2,  2, -1],\n",
       "[ 2, -1,  3]])"
      ]
     },
     "execution_count": 81,
     "metadata": {},
     "output_type": "execute_result"
    }
   ],
   "source": [
    "A = Matrix([\n",
    "    [-1,2,2],\n",
    "    [2,2,-1],\n",
    "    [2,-1,3]\n",
    "])\n",
    "A"
   ]
  },
  {
   "cell_type": "code",
   "execution_count": 82,
   "id": "93b8c297",
   "metadata": {},
   "outputs": [],
   "source": [
    "V, L = A.diagonalize(normalize=True, sort=True)"
   ]
  },
  {
   "cell_type": "code",
   "execution_count": 88,
   "id": "64c9a4c4",
   "metadata": {},
   "outputs": [
    {
     "data": {
      "text/latex": [
       "$\\displaystyle \\left[\\begin{matrix}1 & 0 & 0\\\\0 & 1 & 0\\\\0 & 0 & 1\\end{matrix}\\right]$"
      ],
      "text/plain": [
       "Matrix([\n",
       "[1, 0, 0],\n",
       "[0, 1, 0],\n",
       "[0, 0, 1]])"
      ]
     },
     "execution_count": 88,
     "metadata": {},
     "output_type": "execute_result"
    }
   ],
   "source": [
    "simplify(V.T * V)"
   ]
  },
  {
   "cell_type": "code",
   "execution_count": 89,
   "id": "4788f839",
   "metadata": {},
   "outputs": [
    {
     "data": {
      "text/latex": [
       "$\\displaystyle \\left[\\begin{matrix}\\frac{\\sqrt{5}}{5} & - \\frac{\\sqrt{30 \\sqrt{5} + 90}}{15} & \\frac{\\sqrt{90 - 30 \\sqrt{5}}}{15}\\\\\\frac{2 \\sqrt{5}}{5} & \\frac{\\sqrt{30 \\sqrt{5} + 90}}{30} & - \\frac{\\sqrt{90 - 30 \\sqrt{5}}}{30}\\\\0 & \\frac{\\sqrt{6}}{3 \\sqrt{\\sqrt{5} + 3}} & \\frac{\\sqrt{6}}{3 \\sqrt{3 - \\sqrt{5}}}\\end{matrix}\\right]$"
      ],
      "text/plain": [
       "Matrix([\n",
       "[  sqrt(5)/5,     -sqrt(30*sqrt(5) + 90)/15,      sqrt(90 - 30*sqrt(5))/15],\n",
       "[2*sqrt(5)/5,      sqrt(30*sqrt(5) + 90)/30,     -sqrt(90 - 30*sqrt(5))/30],\n",
       "[          0, sqrt(6)/(3*sqrt(sqrt(5) + 3)), sqrt(6)/(3*sqrt(3 - sqrt(5)))]])"
      ]
     },
     "execution_count": 89,
     "metadata": {},
     "output_type": "execute_result"
    }
   ],
   "source": [
    "simplify(V)"
   ]
  },
  {
   "cell_type": "code",
   "execution_count": 85,
   "id": "adb503a5",
   "metadata": {},
   "outputs": [
    {
     "data": {
      "text/latex": [
       "$\\displaystyle \\left[\\begin{matrix}3 & 0 & 0\\\\0 & \\frac{1}{2} - \\frac{3 \\sqrt{5}}{2} & 0\\\\0 & 0 & \\frac{1}{2} + \\frac{3 \\sqrt{5}}{2}\\end{matrix}\\right]$"
      ],
      "text/plain": [
       "Matrix([\n",
       "[3,                 0,                 0],\n",
       "[0, 1/2 - 3*sqrt(5)/2,                 0],\n",
       "[0,                 0, 1/2 + 3*sqrt(5)/2]])"
      ]
     },
     "execution_count": 85,
     "metadata": {},
     "output_type": "execute_result"
    }
   ],
   "source": [
    "L"
   ]
  },
  {
   "cell_type": "code",
   "execution_count": 92,
   "id": "f71e0620",
   "metadata": {},
   "outputs": [
    {
     "data": {
      "text/latex": [
       "$\\displaystyle \\left[\\begin{matrix}-1 & 2 & 2\\\\2 & 2 & -1\\\\2 & -1 & 3\\end{matrix}\\right]$"
      ],
      "text/plain": [
       "Matrix([\n",
       "[-1,  2,  2],\n",
       "[ 2,  2, -1],\n",
       "[ 2, -1,  3]])"
      ]
     },
     "execution_count": 92,
     "metadata": {},
     "output_type": "execute_result"
    }
   ],
   "source": [
    "simplify(V * L * V.T)"
   ]
  },
  {
   "cell_type": "code",
   "execution_count": null,
   "id": "a1f121d3",
   "metadata": {},
   "outputs": [],
   "source": []
  }
 ],
 "metadata": {
  "celltoolbar": "Slideshow",
  "kernelspec": {
   "display_name": "Python 3 (linearAlgebra)",
   "language": "python",
   "name": "linearalgebra"
  },
  "language_info": {
   "codemirror_mode": {
    "name": "ipython",
    "version": 3
   },
   "file_extension": ".py",
   "mimetype": "text/x-python",
   "name": "python",
   "nbconvert_exporter": "python",
   "pygments_lexer": "ipython3",
   "version": "3.9.11"
  },
  "latex_envs": {
   "LaTeX_envs_menu_present": true,
   "autoclose": false,
   "autocomplete": true,
   "bibliofile": "biblio.bib",
   "cite_by": "apalike",
   "current_citInitial": 1,
   "eqLabelWithNumbers": true,
   "eqNumInitial": 1,
   "hotkeys": {
    "equation": "Ctrl-E",
    "itemize": "Ctrl-I"
   },
   "labels_anchors": false,
   "latex_user_defs": false,
   "report_style_numbering": false,
   "user_envs_cfg": false
  },
  "varInspector": {
   "cols": {
    "lenName": 16,
    "lenType": 16,
    "lenVar": 40
   },
   "kernels_config": {
    "python": {
     "delete_cmd_postfix": "",
     "delete_cmd_prefix": "del ",
     "library": "var_list.py",
     "varRefreshCmd": "print(var_dic_list())"
    },
    "r": {
     "delete_cmd_postfix": ") ",
     "delete_cmd_prefix": "rm(",
     "library": "var_list.r",
     "varRefreshCmd": "cat(var_dic_list()) "
    }
   },
   "types_to_exclude": [
    "module",
    "function",
    "builtin_function_or_method",
    "instance",
    "_Feature"
   ],
   "window_display": false
  }
 },
 "nbformat": 4,
 "nbformat_minor": 5
}
