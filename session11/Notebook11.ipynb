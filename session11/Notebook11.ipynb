{
 "cells": [
  {
   "cell_type": "code",
   "execution_count": 1,
   "id": "6b6d3e8a",
   "metadata": {
    "slideshow": {
     "slide_type": "skip"
    }
   },
   "outputs": [],
   "source": [
    "import sympy\n",
    "from sympy import Matrix, Rational, sqrt, symbols, zeros, simplify\n",
    "import numpy as np\n",
    "import matplotlib.pyplot as plt\n",
    "import ipywidgets as widgets\n",
    "from ipywidgets import interact, interactive, fixed, interact_manual\n",
    "import matplotlib.pyplot as plt\n",
    "%matplotlib notebook\n"
   ]
  },
  {
   "cell_type": "markdown",
   "id": "17d690f6",
   "metadata": {
    "slideshow": {
     "slide_type": "slide"
    }
   },
   "source": [
    "# Linear algebra\n",
    "\n",
    "## Session 11: \n",
    "\n",
    "## Gerhard Jäger\n",
    "\n",
    "### July 20, 2022"
   ]
  },
  {
   "cell_type": "code",
   "execution_count": 2,
   "id": "d7b6b9df",
   "metadata": {
    "slideshow": {
     "slide_type": "slide"
    }
   },
   "outputs": [],
   "source": [
    "A = np.array([\n",
    "    [1,1],\n",
    "    [0,1]\n",
    "])"
   ]
  },
  {
   "cell_type": "code",
   "execution_count": 3,
   "id": "1ee158eb",
   "metadata": {
    "hide_input": true,
    "scrolled": false
   },
   "outputs": [
    {
     "data": {
      "application/javascript": [
       "/* Put everything inside the global mpl namespace */\n",
       "/* global mpl */\n",
       "window.mpl = {};\n",
       "\n",
       "mpl.get_websocket_type = function () {\n",
       "    if (typeof WebSocket !== 'undefined') {\n",
       "        return WebSocket;\n",
       "    } else if (typeof MozWebSocket !== 'undefined') {\n",
       "        return MozWebSocket;\n",
       "    } else {\n",
       "        alert(\n",
       "            'Your browser does not have WebSocket support. ' +\n",
       "                'Please try Chrome, Safari or Firefox ≥ 6. ' +\n",
       "                'Firefox 4 and 5 are also supported but you ' +\n",
       "                'have to enable WebSockets in about:config.'\n",
       "        );\n",
       "    }\n",
       "};\n",
       "\n",
       "mpl.figure = function (figure_id, websocket, ondownload, parent_element) {\n",
       "    this.id = figure_id;\n",
       "\n",
       "    this.ws = websocket;\n",
       "\n",
       "    this.supports_binary = this.ws.binaryType !== undefined;\n",
       "\n",
       "    if (!this.supports_binary) {\n",
       "        var warnings = document.getElementById('mpl-warnings');\n",
       "        if (warnings) {\n",
       "            warnings.style.display = 'block';\n",
       "            warnings.textContent =\n",
       "                'This browser does not support binary websocket messages. ' +\n",
       "                'Performance may be slow.';\n",
       "        }\n",
       "    }\n",
       "\n",
       "    this.imageObj = new Image();\n",
       "\n",
       "    this.context = undefined;\n",
       "    this.message = undefined;\n",
       "    this.canvas = undefined;\n",
       "    this.rubberband_canvas = undefined;\n",
       "    this.rubberband_context = undefined;\n",
       "    this.format_dropdown = undefined;\n",
       "\n",
       "    this.image_mode = 'full';\n",
       "\n",
       "    this.root = document.createElement('div');\n",
       "    this.root.setAttribute('style', 'display: inline-block');\n",
       "    this._root_extra_style(this.root);\n",
       "\n",
       "    parent_element.appendChild(this.root);\n",
       "\n",
       "    this._init_header(this);\n",
       "    this._init_canvas(this);\n",
       "    this._init_toolbar(this);\n",
       "\n",
       "    var fig = this;\n",
       "\n",
       "    this.waiting = false;\n",
       "\n",
       "    this.ws.onopen = function () {\n",
       "        fig.send_message('supports_binary', { value: fig.supports_binary });\n",
       "        fig.send_message('send_image_mode', {});\n",
       "        if (fig.ratio !== 1) {\n",
       "            fig.send_message('set_device_pixel_ratio', {\n",
       "                device_pixel_ratio: fig.ratio,\n",
       "            });\n",
       "        }\n",
       "        fig.send_message('refresh', {});\n",
       "    };\n",
       "\n",
       "    this.imageObj.onload = function () {\n",
       "        if (fig.image_mode === 'full') {\n",
       "            // Full images could contain transparency (where diff images\n",
       "            // almost always do), so we need to clear the canvas so that\n",
       "            // there is no ghosting.\n",
       "            fig.context.clearRect(0, 0, fig.canvas.width, fig.canvas.height);\n",
       "        }\n",
       "        fig.context.drawImage(fig.imageObj, 0, 0);\n",
       "    };\n",
       "\n",
       "    this.imageObj.onunload = function () {\n",
       "        fig.ws.close();\n",
       "    };\n",
       "\n",
       "    this.ws.onmessage = this._make_on_message_function(this);\n",
       "\n",
       "    this.ondownload = ondownload;\n",
       "};\n",
       "\n",
       "mpl.figure.prototype._init_header = function () {\n",
       "    var titlebar = document.createElement('div');\n",
       "    titlebar.classList =\n",
       "        'ui-dialog-titlebar ui-widget-header ui-corner-all ui-helper-clearfix';\n",
       "    var titletext = document.createElement('div');\n",
       "    titletext.classList = 'ui-dialog-title';\n",
       "    titletext.setAttribute(\n",
       "        'style',\n",
       "        'width: 100%; text-align: center; padding: 3px;'\n",
       "    );\n",
       "    titlebar.appendChild(titletext);\n",
       "    this.root.appendChild(titlebar);\n",
       "    this.header = titletext;\n",
       "};\n",
       "\n",
       "mpl.figure.prototype._canvas_extra_style = function (_canvas_div) {};\n",
       "\n",
       "mpl.figure.prototype._root_extra_style = function (_canvas_div) {};\n",
       "\n",
       "mpl.figure.prototype._init_canvas = function () {\n",
       "    var fig = this;\n",
       "\n",
       "    var canvas_div = (this.canvas_div = document.createElement('div'));\n",
       "    canvas_div.setAttribute(\n",
       "        'style',\n",
       "        'border: 1px solid #ddd;' +\n",
       "            'box-sizing: content-box;' +\n",
       "            'clear: both;' +\n",
       "            'min-height: 1px;' +\n",
       "            'min-width: 1px;' +\n",
       "            'outline: 0;' +\n",
       "            'overflow: hidden;' +\n",
       "            'position: relative;' +\n",
       "            'resize: both;'\n",
       "    );\n",
       "\n",
       "    function on_keyboard_event_closure(name) {\n",
       "        return function (event) {\n",
       "            return fig.key_event(event, name);\n",
       "        };\n",
       "    }\n",
       "\n",
       "    canvas_div.addEventListener(\n",
       "        'keydown',\n",
       "        on_keyboard_event_closure('key_press')\n",
       "    );\n",
       "    canvas_div.addEventListener(\n",
       "        'keyup',\n",
       "        on_keyboard_event_closure('key_release')\n",
       "    );\n",
       "\n",
       "    this._canvas_extra_style(canvas_div);\n",
       "    this.root.appendChild(canvas_div);\n",
       "\n",
       "    var canvas = (this.canvas = document.createElement('canvas'));\n",
       "    canvas.classList.add('mpl-canvas');\n",
       "    canvas.setAttribute('style', 'box-sizing: content-box;');\n",
       "\n",
       "    this.context = canvas.getContext('2d');\n",
       "\n",
       "    var backingStore =\n",
       "        this.context.backingStorePixelRatio ||\n",
       "        this.context.webkitBackingStorePixelRatio ||\n",
       "        this.context.mozBackingStorePixelRatio ||\n",
       "        this.context.msBackingStorePixelRatio ||\n",
       "        this.context.oBackingStorePixelRatio ||\n",
       "        this.context.backingStorePixelRatio ||\n",
       "        1;\n",
       "\n",
       "    this.ratio = (window.devicePixelRatio || 1) / backingStore;\n",
       "\n",
       "    var rubberband_canvas = (this.rubberband_canvas = document.createElement(\n",
       "        'canvas'\n",
       "    ));\n",
       "    rubberband_canvas.setAttribute(\n",
       "        'style',\n",
       "        'box-sizing: content-box; position: absolute; left: 0; top: 0; z-index: 1;'\n",
       "    );\n",
       "\n",
       "    // Apply a ponyfill if ResizeObserver is not implemented by browser.\n",
       "    if (this.ResizeObserver === undefined) {\n",
       "        if (window.ResizeObserver !== undefined) {\n",
       "            this.ResizeObserver = window.ResizeObserver;\n",
       "        } else {\n",
       "            var obs = _JSXTOOLS_RESIZE_OBSERVER({});\n",
       "            this.ResizeObserver = obs.ResizeObserver;\n",
       "        }\n",
       "    }\n",
       "\n",
       "    this.resizeObserverInstance = new this.ResizeObserver(function (entries) {\n",
       "        var nentries = entries.length;\n",
       "        for (var i = 0; i < nentries; i++) {\n",
       "            var entry = entries[i];\n",
       "            var width, height;\n",
       "            if (entry.contentBoxSize) {\n",
       "                if (entry.contentBoxSize instanceof Array) {\n",
       "                    // Chrome 84 implements new version of spec.\n",
       "                    width = entry.contentBoxSize[0].inlineSize;\n",
       "                    height = entry.contentBoxSize[0].blockSize;\n",
       "                } else {\n",
       "                    // Firefox implements old version of spec.\n",
       "                    width = entry.contentBoxSize.inlineSize;\n",
       "                    height = entry.contentBoxSize.blockSize;\n",
       "                }\n",
       "            } else {\n",
       "                // Chrome <84 implements even older version of spec.\n",
       "                width = entry.contentRect.width;\n",
       "                height = entry.contentRect.height;\n",
       "            }\n",
       "\n",
       "            // Keep the size of the canvas and rubber band canvas in sync with\n",
       "            // the canvas container.\n",
       "            if (entry.devicePixelContentBoxSize) {\n",
       "                // Chrome 84 implements new version of spec.\n",
       "                canvas.setAttribute(\n",
       "                    'width',\n",
       "                    entry.devicePixelContentBoxSize[0].inlineSize\n",
       "                );\n",
       "                canvas.setAttribute(\n",
       "                    'height',\n",
       "                    entry.devicePixelContentBoxSize[0].blockSize\n",
       "                );\n",
       "            } else {\n",
       "                canvas.setAttribute('width', width * fig.ratio);\n",
       "                canvas.setAttribute('height', height * fig.ratio);\n",
       "            }\n",
       "            canvas.setAttribute(\n",
       "                'style',\n",
       "                'width: ' + width + 'px; height: ' + height + 'px;'\n",
       "            );\n",
       "\n",
       "            rubberband_canvas.setAttribute('width', width);\n",
       "            rubberband_canvas.setAttribute('height', height);\n",
       "\n",
       "            // And update the size in Python. We ignore the initial 0/0 size\n",
       "            // that occurs as the element is placed into the DOM, which should\n",
       "            // otherwise not happen due to the minimum size styling.\n",
       "            if (fig.ws.readyState == 1 && width != 0 && height != 0) {\n",
       "                fig.request_resize(width, height);\n",
       "            }\n",
       "        }\n",
       "    });\n",
       "    this.resizeObserverInstance.observe(canvas_div);\n",
       "\n",
       "    function on_mouse_event_closure(name) {\n",
       "        return function (event) {\n",
       "            return fig.mouse_event(event, name);\n",
       "        };\n",
       "    }\n",
       "\n",
       "    rubberband_canvas.addEventListener(\n",
       "        'mousedown',\n",
       "        on_mouse_event_closure('button_press')\n",
       "    );\n",
       "    rubberband_canvas.addEventListener(\n",
       "        'mouseup',\n",
       "        on_mouse_event_closure('button_release')\n",
       "    );\n",
       "    rubberband_canvas.addEventListener(\n",
       "        'dblclick',\n",
       "        on_mouse_event_closure('dblclick')\n",
       "    );\n",
       "    // Throttle sequential mouse events to 1 every 20ms.\n",
       "    rubberband_canvas.addEventListener(\n",
       "        'mousemove',\n",
       "        on_mouse_event_closure('motion_notify')\n",
       "    );\n",
       "\n",
       "    rubberband_canvas.addEventListener(\n",
       "        'mouseenter',\n",
       "        on_mouse_event_closure('figure_enter')\n",
       "    );\n",
       "    rubberband_canvas.addEventListener(\n",
       "        'mouseleave',\n",
       "        on_mouse_event_closure('figure_leave')\n",
       "    );\n",
       "\n",
       "    canvas_div.addEventListener('wheel', function (event) {\n",
       "        if (event.deltaY < 0) {\n",
       "            event.step = 1;\n",
       "        } else {\n",
       "            event.step = -1;\n",
       "        }\n",
       "        on_mouse_event_closure('scroll')(event);\n",
       "    });\n",
       "\n",
       "    canvas_div.appendChild(canvas);\n",
       "    canvas_div.appendChild(rubberband_canvas);\n",
       "\n",
       "    this.rubberband_context = rubberband_canvas.getContext('2d');\n",
       "    this.rubberband_context.strokeStyle = '#000000';\n",
       "\n",
       "    this._resize_canvas = function (width, height, forward) {\n",
       "        if (forward) {\n",
       "            canvas_div.style.width = width + 'px';\n",
       "            canvas_div.style.height = height + 'px';\n",
       "        }\n",
       "    };\n",
       "\n",
       "    // Disable right mouse context menu.\n",
       "    this.rubberband_canvas.addEventListener('contextmenu', function (_e) {\n",
       "        event.preventDefault();\n",
       "        return false;\n",
       "    });\n",
       "\n",
       "    function set_focus() {\n",
       "        canvas.focus();\n",
       "        canvas_div.focus();\n",
       "    }\n",
       "\n",
       "    window.setTimeout(set_focus, 100);\n",
       "};\n",
       "\n",
       "mpl.figure.prototype._init_toolbar = function () {\n",
       "    var fig = this;\n",
       "\n",
       "    var toolbar = document.createElement('div');\n",
       "    toolbar.classList = 'mpl-toolbar';\n",
       "    this.root.appendChild(toolbar);\n",
       "\n",
       "    function on_click_closure(name) {\n",
       "        return function (_event) {\n",
       "            return fig.toolbar_button_onclick(name);\n",
       "        };\n",
       "    }\n",
       "\n",
       "    function on_mouseover_closure(tooltip) {\n",
       "        return function (event) {\n",
       "            if (!event.currentTarget.disabled) {\n",
       "                return fig.toolbar_button_onmouseover(tooltip);\n",
       "            }\n",
       "        };\n",
       "    }\n",
       "\n",
       "    fig.buttons = {};\n",
       "    var buttonGroup = document.createElement('div');\n",
       "    buttonGroup.classList = 'mpl-button-group';\n",
       "    for (var toolbar_ind in mpl.toolbar_items) {\n",
       "        var name = mpl.toolbar_items[toolbar_ind][0];\n",
       "        var tooltip = mpl.toolbar_items[toolbar_ind][1];\n",
       "        var image = mpl.toolbar_items[toolbar_ind][2];\n",
       "        var method_name = mpl.toolbar_items[toolbar_ind][3];\n",
       "\n",
       "        if (!name) {\n",
       "            /* Instead of a spacer, we start a new button group. */\n",
       "            if (buttonGroup.hasChildNodes()) {\n",
       "                toolbar.appendChild(buttonGroup);\n",
       "            }\n",
       "            buttonGroup = document.createElement('div');\n",
       "            buttonGroup.classList = 'mpl-button-group';\n",
       "            continue;\n",
       "        }\n",
       "\n",
       "        var button = (fig.buttons[name] = document.createElement('button'));\n",
       "        button.classList = 'mpl-widget';\n",
       "        button.setAttribute('role', 'button');\n",
       "        button.setAttribute('aria-disabled', 'false');\n",
       "        button.addEventListener('click', on_click_closure(method_name));\n",
       "        button.addEventListener('mouseover', on_mouseover_closure(tooltip));\n",
       "\n",
       "        var icon_img = document.createElement('img');\n",
       "        icon_img.src = '_images/' + image + '.png';\n",
       "        icon_img.srcset = '_images/' + image + '_large.png 2x';\n",
       "        icon_img.alt = tooltip;\n",
       "        button.appendChild(icon_img);\n",
       "\n",
       "        buttonGroup.appendChild(button);\n",
       "    }\n",
       "\n",
       "    if (buttonGroup.hasChildNodes()) {\n",
       "        toolbar.appendChild(buttonGroup);\n",
       "    }\n",
       "\n",
       "    var fmt_picker = document.createElement('select');\n",
       "    fmt_picker.classList = 'mpl-widget';\n",
       "    toolbar.appendChild(fmt_picker);\n",
       "    this.format_dropdown = fmt_picker;\n",
       "\n",
       "    for (var ind in mpl.extensions) {\n",
       "        var fmt = mpl.extensions[ind];\n",
       "        var option = document.createElement('option');\n",
       "        option.selected = fmt === mpl.default_extension;\n",
       "        option.innerHTML = fmt;\n",
       "        fmt_picker.appendChild(option);\n",
       "    }\n",
       "\n",
       "    var status_bar = document.createElement('span');\n",
       "    status_bar.classList = 'mpl-message';\n",
       "    toolbar.appendChild(status_bar);\n",
       "    this.message = status_bar;\n",
       "};\n",
       "\n",
       "mpl.figure.prototype.request_resize = function (x_pixels, y_pixels) {\n",
       "    // Request matplotlib to resize the figure. Matplotlib will then trigger a resize in the client,\n",
       "    // which will in turn request a refresh of the image.\n",
       "    this.send_message('resize', { width: x_pixels, height: y_pixels });\n",
       "};\n",
       "\n",
       "mpl.figure.prototype.send_message = function (type, properties) {\n",
       "    properties['type'] = type;\n",
       "    properties['figure_id'] = this.id;\n",
       "    this.ws.send(JSON.stringify(properties));\n",
       "};\n",
       "\n",
       "mpl.figure.prototype.send_draw_message = function () {\n",
       "    if (!this.waiting) {\n",
       "        this.waiting = true;\n",
       "        this.ws.send(JSON.stringify({ type: 'draw', figure_id: this.id }));\n",
       "    }\n",
       "};\n",
       "\n",
       "mpl.figure.prototype.handle_save = function (fig, _msg) {\n",
       "    var format_dropdown = fig.format_dropdown;\n",
       "    var format = format_dropdown.options[format_dropdown.selectedIndex].value;\n",
       "    fig.ondownload(fig, format);\n",
       "};\n",
       "\n",
       "mpl.figure.prototype.handle_resize = function (fig, msg) {\n",
       "    var size = msg['size'];\n",
       "    if (size[0] !== fig.canvas.width || size[1] !== fig.canvas.height) {\n",
       "        fig._resize_canvas(size[0], size[1], msg['forward']);\n",
       "        fig.send_message('refresh', {});\n",
       "    }\n",
       "};\n",
       "\n",
       "mpl.figure.prototype.handle_rubberband = function (fig, msg) {\n",
       "    var x0 = msg['x0'] / fig.ratio;\n",
       "    var y0 = (fig.canvas.height - msg['y0']) / fig.ratio;\n",
       "    var x1 = msg['x1'] / fig.ratio;\n",
       "    var y1 = (fig.canvas.height - msg['y1']) / fig.ratio;\n",
       "    x0 = Math.floor(x0) + 0.5;\n",
       "    y0 = Math.floor(y0) + 0.5;\n",
       "    x1 = Math.floor(x1) + 0.5;\n",
       "    y1 = Math.floor(y1) + 0.5;\n",
       "    var min_x = Math.min(x0, x1);\n",
       "    var min_y = Math.min(y0, y1);\n",
       "    var width = Math.abs(x1 - x0);\n",
       "    var height = Math.abs(y1 - y0);\n",
       "\n",
       "    fig.rubberband_context.clearRect(\n",
       "        0,\n",
       "        0,\n",
       "        fig.canvas.width / fig.ratio,\n",
       "        fig.canvas.height / fig.ratio\n",
       "    );\n",
       "\n",
       "    fig.rubberband_context.strokeRect(min_x, min_y, width, height);\n",
       "};\n",
       "\n",
       "mpl.figure.prototype.handle_figure_label = function (fig, msg) {\n",
       "    // Updates the figure title.\n",
       "    fig.header.textContent = msg['label'];\n",
       "};\n",
       "\n",
       "mpl.figure.prototype.handle_cursor = function (fig, msg) {\n",
       "    fig.rubberband_canvas.style.cursor = msg['cursor'];\n",
       "};\n",
       "\n",
       "mpl.figure.prototype.handle_message = function (fig, msg) {\n",
       "    fig.message.textContent = msg['message'];\n",
       "};\n",
       "\n",
       "mpl.figure.prototype.handle_draw = function (fig, _msg) {\n",
       "    // Request the server to send over a new figure.\n",
       "    fig.send_draw_message();\n",
       "};\n",
       "\n",
       "mpl.figure.prototype.handle_image_mode = function (fig, msg) {\n",
       "    fig.image_mode = msg['mode'];\n",
       "};\n",
       "\n",
       "mpl.figure.prototype.handle_history_buttons = function (fig, msg) {\n",
       "    for (var key in msg) {\n",
       "        if (!(key in fig.buttons)) {\n",
       "            continue;\n",
       "        }\n",
       "        fig.buttons[key].disabled = !msg[key];\n",
       "        fig.buttons[key].setAttribute('aria-disabled', !msg[key]);\n",
       "    }\n",
       "};\n",
       "\n",
       "mpl.figure.prototype.handle_navigate_mode = function (fig, msg) {\n",
       "    if (msg['mode'] === 'PAN') {\n",
       "        fig.buttons['Pan'].classList.add('active');\n",
       "        fig.buttons['Zoom'].classList.remove('active');\n",
       "    } else if (msg['mode'] === 'ZOOM') {\n",
       "        fig.buttons['Pan'].classList.remove('active');\n",
       "        fig.buttons['Zoom'].classList.add('active');\n",
       "    } else {\n",
       "        fig.buttons['Pan'].classList.remove('active');\n",
       "        fig.buttons['Zoom'].classList.remove('active');\n",
       "    }\n",
       "};\n",
       "\n",
       "mpl.figure.prototype.updated_canvas_event = function () {\n",
       "    // Called whenever the canvas gets updated.\n",
       "    this.send_message('ack', {});\n",
       "};\n",
       "\n",
       "// A function to construct a web socket function for onmessage handling.\n",
       "// Called in the figure constructor.\n",
       "mpl.figure.prototype._make_on_message_function = function (fig) {\n",
       "    return function socket_on_message(evt) {\n",
       "        if (evt.data instanceof Blob) {\n",
       "            var img = evt.data;\n",
       "            if (img.type !== 'image/png') {\n",
       "                /* FIXME: We get \"Resource interpreted as Image but\n",
       "                 * transferred with MIME type text/plain:\" errors on\n",
       "                 * Chrome.  But how to set the MIME type?  It doesn't seem\n",
       "                 * to be part of the websocket stream */\n",
       "                img.type = 'image/png';\n",
       "            }\n",
       "\n",
       "            /* Free the memory for the previous frames */\n",
       "            if (fig.imageObj.src) {\n",
       "                (window.URL || window.webkitURL).revokeObjectURL(\n",
       "                    fig.imageObj.src\n",
       "                );\n",
       "            }\n",
       "\n",
       "            fig.imageObj.src = (window.URL || window.webkitURL).createObjectURL(\n",
       "                img\n",
       "            );\n",
       "            fig.updated_canvas_event();\n",
       "            fig.waiting = false;\n",
       "            return;\n",
       "        } else if (\n",
       "            typeof evt.data === 'string' &&\n",
       "            evt.data.slice(0, 21) === 'data:image/png;base64'\n",
       "        ) {\n",
       "            fig.imageObj.src = evt.data;\n",
       "            fig.updated_canvas_event();\n",
       "            fig.waiting = false;\n",
       "            return;\n",
       "        }\n",
       "\n",
       "        var msg = JSON.parse(evt.data);\n",
       "        var msg_type = msg['type'];\n",
       "\n",
       "        // Call the  \"handle_{type}\" callback, which takes\n",
       "        // the figure and JSON message as its only arguments.\n",
       "        try {\n",
       "            var callback = fig['handle_' + msg_type];\n",
       "        } catch (e) {\n",
       "            console.log(\n",
       "                \"No handler for the '\" + msg_type + \"' message type: \",\n",
       "                msg\n",
       "            );\n",
       "            return;\n",
       "        }\n",
       "\n",
       "        if (callback) {\n",
       "            try {\n",
       "                // console.log(\"Handling '\" + msg_type + \"' message: \", msg);\n",
       "                callback(fig, msg);\n",
       "            } catch (e) {\n",
       "                console.log(\n",
       "                    \"Exception inside the 'handler_\" + msg_type + \"' callback:\",\n",
       "                    e,\n",
       "                    e.stack,\n",
       "                    msg\n",
       "                );\n",
       "            }\n",
       "        }\n",
       "    };\n",
       "};\n",
       "\n",
       "// from https://stackoverflow.com/questions/1114465/getting-mouse-location-in-canvas\n",
       "mpl.findpos = function (e) {\n",
       "    //this section is from http://www.quirksmode.org/js/events_properties.html\n",
       "    var targ;\n",
       "    if (!e) {\n",
       "        e = window.event;\n",
       "    }\n",
       "    if (e.target) {\n",
       "        targ = e.target;\n",
       "    } else if (e.srcElement) {\n",
       "        targ = e.srcElement;\n",
       "    }\n",
       "    if (targ.nodeType === 3) {\n",
       "        // defeat Safari bug\n",
       "        targ = targ.parentNode;\n",
       "    }\n",
       "\n",
       "    // pageX,Y are the mouse positions relative to the document\n",
       "    var boundingRect = targ.getBoundingClientRect();\n",
       "    var x = e.pageX - (boundingRect.left + document.body.scrollLeft);\n",
       "    var y = e.pageY - (boundingRect.top + document.body.scrollTop);\n",
       "\n",
       "    return { x: x, y: y };\n",
       "};\n",
       "\n",
       "/*\n",
       " * return a copy of an object with only non-object keys\n",
       " * we need this to avoid circular references\n",
       " * https://stackoverflow.com/a/24161582/3208463\n",
       " */\n",
       "function simpleKeys(original) {\n",
       "    return Object.keys(original).reduce(function (obj, key) {\n",
       "        if (typeof original[key] !== 'object') {\n",
       "            obj[key] = original[key];\n",
       "        }\n",
       "        return obj;\n",
       "    }, {});\n",
       "}\n",
       "\n",
       "mpl.figure.prototype.mouse_event = function (event, name) {\n",
       "    var canvas_pos = mpl.findpos(event);\n",
       "\n",
       "    if (name === 'button_press') {\n",
       "        this.canvas.focus();\n",
       "        this.canvas_div.focus();\n",
       "    }\n",
       "\n",
       "    var x = canvas_pos.x * this.ratio;\n",
       "    var y = canvas_pos.y * this.ratio;\n",
       "\n",
       "    this.send_message(name, {\n",
       "        x: x,\n",
       "        y: y,\n",
       "        button: event.button,\n",
       "        step: event.step,\n",
       "        guiEvent: simpleKeys(event),\n",
       "    });\n",
       "\n",
       "    /* This prevents the web browser from automatically changing to\n",
       "     * the text insertion cursor when the button is pressed.  We want\n",
       "     * to control all of the cursor setting manually through the\n",
       "     * 'cursor' event from matplotlib */\n",
       "    event.preventDefault();\n",
       "    return false;\n",
       "};\n",
       "\n",
       "mpl.figure.prototype._key_event_extra = function (_event, _name) {\n",
       "    // Handle any extra behaviour associated with a key event\n",
       "};\n",
       "\n",
       "mpl.figure.prototype.key_event = function (event, name) {\n",
       "    // Prevent repeat events\n",
       "    if (name === 'key_press') {\n",
       "        if (event.key === this._key) {\n",
       "            return;\n",
       "        } else {\n",
       "            this._key = event.key;\n",
       "        }\n",
       "    }\n",
       "    if (name === 'key_release') {\n",
       "        this._key = null;\n",
       "    }\n",
       "\n",
       "    var value = '';\n",
       "    if (event.ctrlKey && event.key !== 'Control') {\n",
       "        value += 'ctrl+';\n",
       "    }\n",
       "    else if (event.altKey && event.key !== 'Alt') {\n",
       "        value += 'alt+';\n",
       "    }\n",
       "    else if (event.shiftKey && event.key !== 'Shift') {\n",
       "        value += 'shift+';\n",
       "    }\n",
       "\n",
       "    value += 'k' + event.key;\n",
       "\n",
       "    this._key_event_extra(event, name);\n",
       "\n",
       "    this.send_message(name, { key: value, guiEvent: simpleKeys(event) });\n",
       "    return false;\n",
       "};\n",
       "\n",
       "mpl.figure.prototype.toolbar_button_onclick = function (name) {\n",
       "    if (name === 'download') {\n",
       "        this.handle_save(this, null);\n",
       "    } else {\n",
       "        this.send_message('toolbar_button', { name: name });\n",
       "    }\n",
       "};\n",
       "\n",
       "mpl.figure.prototype.toolbar_button_onmouseover = function (tooltip) {\n",
       "    this.message.textContent = tooltip;\n",
       "};\n",
       "\n",
       "///////////////// REMAINING CONTENT GENERATED BY embed_js.py /////////////////\n",
       "// prettier-ignore\n",
       "var _JSXTOOLS_RESIZE_OBSERVER=function(A){var t,i=new WeakMap,n=new WeakMap,a=new WeakMap,r=new WeakMap,o=new Set;function s(e){if(!(this instanceof s))throw new TypeError(\"Constructor requires 'new' operator\");i.set(this,e)}function h(){throw new TypeError(\"Function is not a constructor\")}function c(e,t,i,n){e=0 in arguments?Number(arguments[0]):0,t=1 in arguments?Number(arguments[1]):0,i=2 in arguments?Number(arguments[2]):0,n=3 in arguments?Number(arguments[3]):0,this.right=(this.x=this.left=e)+(this.width=i),this.bottom=(this.y=this.top=t)+(this.height=n),Object.freeze(this)}function d(){t=requestAnimationFrame(d);var s=new WeakMap,p=new Set;o.forEach((function(t){r.get(t).forEach((function(i){var r=t instanceof window.SVGElement,o=a.get(t),d=r?0:parseFloat(o.paddingTop),f=r?0:parseFloat(o.paddingRight),l=r?0:parseFloat(o.paddingBottom),u=r?0:parseFloat(o.paddingLeft),g=r?0:parseFloat(o.borderTopWidth),m=r?0:parseFloat(o.borderRightWidth),w=r?0:parseFloat(o.borderBottomWidth),b=u+f,F=d+l,v=(r?0:parseFloat(o.borderLeftWidth))+m,W=g+w,y=r?0:t.offsetHeight-W-t.clientHeight,E=r?0:t.offsetWidth-v-t.clientWidth,R=b+v,z=F+W,M=r?t.width:parseFloat(o.width)-R-E,O=r?t.height:parseFloat(o.height)-z-y;if(n.has(t)){var k=n.get(t);if(k[0]===M&&k[1]===O)return}n.set(t,[M,O]);var S=Object.create(h.prototype);S.target=t,S.contentRect=new c(u,d,M,O),s.has(i)||(s.set(i,[]),p.add(i)),s.get(i).push(S)}))})),p.forEach((function(e){i.get(e).call(e,s.get(e),e)}))}return s.prototype.observe=function(i){if(i instanceof window.Element){r.has(i)||(r.set(i,new Set),o.add(i),a.set(i,window.getComputedStyle(i)));var n=r.get(i);n.has(this)||n.add(this),cancelAnimationFrame(t),t=requestAnimationFrame(d)}},s.prototype.unobserve=function(i){if(i instanceof window.Element&&r.has(i)){var n=r.get(i);n.has(this)&&(n.delete(this),n.size||(r.delete(i),o.delete(i))),n.size||r.delete(i),o.size||cancelAnimationFrame(t)}},A.DOMRectReadOnly=c,A.ResizeObserver=s,A.ResizeObserverEntry=h,A}; // eslint-disable-line\n",
       "mpl.toolbar_items = [[\"Home\", \"Reset original view\", \"fa fa-home icon-home\", \"home\"], [\"Back\", \"Back to previous view\", \"fa fa-arrow-left icon-arrow-left\", \"back\"], [\"Forward\", \"Forward to next view\", \"fa fa-arrow-right icon-arrow-right\", \"forward\"], [\"\", \"\", \"\", \"\"], [\"Pan\", \"Left button pans, Right button zooms\\nx/y fixes axis, CTRL fixes aspect\", \"fa fa-arrows icon-move\", \"pan\"], [\"Zoom\", \"Zoom to rectangle\\nx/y fixes axis\", \"fa fa-square-o icon-check-empty\", \"zoom\"], [\"\", \"\", \"\", \"\"], [\"Download\", \"Download plot\", \"fa fa-floppy-o icon-save\", \"download\"]];\n",
       "\n",
       "mpl.extensions = [\"eps\", \"jpeg\", \"pgf\", \"pdf\", \"png\", \"ps\", \"raw\", \"svg\", \"tif\"];\n",
       "\n",
       "mpl.default_extension = \"png\";/* global mpl */\n",
       "\n",
       "var comm_websocket_adapter = function (comm) {\n",
       "    // Create a \"websocket\"-like object which calls the given IPython comm\n",
       "    // object with the appropriate methods. Currently this is a non binary\n",
       "    // socket, so there is still some room for performance tuning.\n",
       "    var ws = {};\n",
       "\n",
       "    ws.binaryType = comm.kernel.ws.binaryType;\n",
       "    ws.readyState = comm.kernel.ws.readyState;\n",
       "    function updateReadyState(_event) {\n",
       "        if (comm.kernel.ws) {\n",
       "            ws.readyState = comm.kernel.ws.readyState;\n",
       "        } else {\n",
       "            ws.readyState = 3; // Closed state.\n",
       "        }\n",
       "    }\n",
       "    comm.kernel.ws.addEventListener('open', updateReadyState);\n",
       "    comm.kernel.ws.addEventListener('close', updateReadyState);\n",
       "    comm.kernel.ws.addEventListener('error', updateReadyState);\n",
       "\n",
       "    ws.close = function () {\n",
       "        comm.close();\n",
       "    };\n",
       "    ws.send = function (m) {\n",
       "        //console.log('sending', m);\n",
       "        comm.send(m);\n",
       "    };\n",
       "    // Register the callback with on_msg.\n",
       "    comm.on_msg(function (msg) {\n",
       "        //console.log('receiving', msg['content']['data'], msg);\n",
       "        var data = msg['content']['data'];\n",
       "        if (data['blob'] !== undefined) {\n",
       "            data = {\n",
       "                data: new Blob(msg['buffers'], { type: data['blob'] }),\n",
       "            };\n",
       "        }\n",
       "        // Pass the mpl event to the overridden (by mpl) onmessage function.\n",
       "        ws.onmessage(data);\n",
       "    });\n",
       "    return ws;\n",
       "};\n",
       "\n",
       "mpl.mpl_figure_comm = function (comm, msg) {\n",
       "    // This is the function which gets called when the mpl process\n",
       "    // starts-up an IPython Comm through the \"matplotlib\" channel.\n",
       "\n",
       "    var id = msg.content.data.id;\n",
       "    // Get hold of the div created by the display call when the Comm\n",
       "    // socket was opened in Python.\n",
       "    var element = document.getElementById(id);\n",
       "    var ws_proxy = comm_websocket_adapter(comm);\n",
       "\n",
       "    function ondownload(figure, _format) {\n",
       "        window.open(figure.canvas.toDataURL());\n",
       "    }\n",
       "\n",
       "    var fig = new mpl.figure(id, ws_proxy, ondownload, element);\n",
       "\n",
       "    // Call onopen now - mpl needs it, as it is assuming we've passed it a real\n",
       "    // web socket which is closed, not our websocket->open comm proxy.\n",
       "    ws_proxy.onopen();\n",
       "\n",
       "    fig.parent_element = element;\n",
       "    fig.cell_info = mpl.find_output_cell(\"<div id='\" + id + \"'></div>\");\n",
       "    if (!fig.cell_info) {\n",
       "        console.error('Failed to find cell for figure', id, fig);\n",
       "        return;\n",
       "    }\n",
       "    fig.cell_info[0].output_area.element.on(\n",
       "        'cleared',\n",
       "        { fig: fig },\n",
       "        fig._remove_fig_handler\n",
       "    );\n",
       "};\n",
       "\n",
       "mpl.figure.prototype.handle_close = function (fig, msg) {\n",
       "    var width = fig.canvas.width / fig.ratio;\n",
       "    fig.cell_info[0].output_area.element.off(\n",
       "        'cleared',\n",
       "        fig._remove_fig_handler\n",
       "    );\n",
       "    fig.resizeObserverInstance.unobserve(fig.canvas_div);\n",
       "\n",
       "    // Update the output cell to use the data from the current canvas.\n",
       "    fig.push_to_output();\n",
       "    var dataURL = fig.canvas.toDataURL();\n",
       "    // Re-enable the keyboard manager in IPython - without this line, in FF,\n",
       "    // the notebook keyboard shortcuts fail.\n",
       "    IPython.keyboard_manager.enable();\n",
       "    fig.parent_element.innerHTML =\n",
       "        '<img src=\"' + dataURL + '\" width=\"' + width + '\">';\n",
       "    fig.close_ws(fig, msg);\n",
       "};\n",
       "\n",
       "mpl.figure.prototype.close_ws = function (fig, msg) {\n",
       "    fig.send_message('closing', msg);\n",
       "    // fig.ws.close()\n",
       "};\n",
       "\n",
       "mpl.figure.prototype.push_to_output = function (_remove_interactive) {\n",
       "    // Turn the data on the canvas into data in the output cell.\n",
       "    var width = this.canvas.width / this.ratio;\n",
       "    var dataURL = this.canvas.toDataURL();\n",
       "    this.cell_info[1]['text/html'] =\n",
       "        '<img src=\"' + dataURL + '\" width=\"' + width + '\">';\n",
       "};\n",
       "\n",
       "mpl.figure.prototype.updated_canvas_event = function () {\n",
       "    // Tell IPython that the notebook contents must change.\n",
       "    IPython.notebook.set_dirty(true);\n",
       "    this.send_message('ack', {});\n",
       "    var fig = this;\n",
       "    // Wait a second, then push the new image to the DOM so\n",
       "    // that it is saved nicely (might be nice to debounce this).\n",
       "    setTimeout(function () {\n",
       "        fig.push_to_output();\n",
       "    }, 1000);\n",
       "};\n",
       "\n",
       "mpl.figure.prototype._init_toolbar = function () {\n",
       "    var fig = this;\n",
       "\n",
       "    var toolbar = document.createElement('div');\n",
       "    toolbar.classList = 'btn-toolbar';\n",
       "    this.root.appendChild(toolbar);\n",
       "\n",
       "    function on_click_closure(name) {\n",
       "        return function (_event) {\n",
       "            return fig.toolbar_button_onclick(name);\n",
       "        };\n",
       "    }\n",
       "\n",
       "    function on_mouseover_closure(tooltip) {\n",
       "        return function (event) {\n",
       "            if (!event.currentTarget.disabled) {\n",
       "                return fig.toolbar_button_onmouseover(tooltip);\n",
       "            }\n",
       "        };\n",
       "    }\n",
       "\n",
       "    fig.buttons = {};\n",
       "    var buttonGroup = document.createElement('div');\n",
       "    buttonGroup.classList = 'btn-group';\n",
       "    var button;\n",
       "    for (var toolbar_ind in mpl.toolbar_items) {\n",
       "        var name = mpl.toolbar_items[toolbar_ind][0];\n",
       "        var tooltip = mpl.toolbar_items[toolbar_ind][1];\n",
       "        var image = mpl.toolbar_items[toolbar_ind][2];\n",
       "        var method_name = mpl.toolbar_items[toolbar_ind][3];\n",
       "\n",
       "        if (!name) {\n",
       "            /* Instead of a spacer, we start a new button group. */\n",
       "            if (buttonGroup.hasChildNodes()) {\n",
       "                toolbar.appendChild(buttonGroup);\n",
       "            }\n",
       "            buttonGroup = document.createElement('div');\n",
       "            buttonGroup.classList = 'btn-group';\n",
       "            continue;\n",
       "        }\n",
       "\n",
       "        button = fig.buttons[name] = document.createElement('button');\n",
       "        button.classList = 'btn btn-default';\n",
       "        button.href = '#';\n",
       "        button.title = name;\n",
       "        button.innerHTML = '<i class=\"fa ' + image + ' fa-lg\"></i>';\n",
       "        button.addEventListener('click', on_click_closure(method_name));\n",
       "        button.addEventListener('mouseover', on_mouseover_closure(tooltip));\n",
       "        buttonGroup.appendChild(button);\n",
       "    }\n",
       "\n",
       "    if (buttonGroup.hasChildNodes()) {\n",
       "        toolbar.appendChild(buttonGroup);\n",
       "    }\n",
       "\n",
       "    // Add the status bar.\n",
       "    var status_bar = document.createElement('span');\n",
       "    status_bar.classList = 'mpl-message pull-right';\n",
       "    toolbar.appendChild(status_bar);\n",
       "    this.message = status_bar;\n",
       "\n",
       "    // Add the close button to the window.\n",
       "    var buttongrp = document.createElement('div');\n",
       "    buttongrp.classList = 'btn-group inline pull-right';\n",
       "    button = document.createElement('button');\n",
       "    button.classList = 'btn btn-mini btn-primary';\n",
       "    button.href = '#';\n",
       "    button.title = 'Stop Interaction';\n",
       "    button.innerHTML = '<i class=\"fa fa-power-off icon-remove icon-large\"></i>';\n",
       "    button.addEventListener('click', function (_evt) {\n",
       "        fig.handle_close(fig, {});\n",
       "    });\n",
       "    button.addEventListener(\n",
       "        'mouseover',\n",
       "        on_mouseover_closure('Stop Interaction')\n",
       "    );\n",
       "    buttongrp.appendChild(button);\n",
       "    var titlebar = this.root.querySelector('.ui-dialog-titlebar');\n",
       "    titlebar.insertBefore(buttongrp, titlebar.firstChild);\n",
       "};\n",
       "\n",
       "mpl.figure.prototype._remove_fig_handler = function (event) {\n",
       "    var fig = event.data.fig;\n",
       "    if (event.target !== this) {\n",
       "        // Ignore bubbled events from children.\n",
       "        return;\n",
       "    }\n",
       "    fig.close_ws(fig, {});\n",
       "};\n",
       "\n",
       "mpl.figure.prototype._root_extra_style = function (el) {\n",
       "    el.style.boxSizing = 'content-box'; // override notebook setting of border-box.\n",
       "};\n",
       "\n",
       "mpl.figure.prototype._canvas_extra_style = function (el) {\n",
       "    // this is important to make the div 'focusable\n",
       "    el.setAttribute('tabindex', 0);\n",
       "    // reach out to IPython and tell the keyboard manager to turn it's self\n",
       "    // off when our div gets focus\n",
       "\n",
       "    // location in version 3\n",
       "    if (IPython.notebook.keyboard_manager) {\n",
       "        IPython.notebook.keyboard_manager.register_events(el);\n",
       "    } else {\n",
       "        // location in version 2\n",
       "        IPython.keyboard_manager.register_events(el);\n",
       "    }\n",
       "};\n",
       "\n",
       "mpl.figure.prototype._key_event_extra = function (event, _name) {\n",
       "    // Check for shift+enter\n",
       "    if (event.shiftKey && event.which === 13) {\n",
       "        this.canvas_div.blur();\n",
       "        // select the cell after this one\n",
       "        var index = IPython.notebook.find_cell_index(this.cell_info[0]);\n",
       "        IPython.notebook.select(index + 1);\n",
       "    }\n",
       "};\n",
       "\n",
       "mpl.figure.prototype.handle_save = function (fig, _msg) {\n",
       "    fig.ondownload(fig, null);\n",
       "};\n",
       "\n",
       "mpl.find_output_cell = function (html_output) {\n",
       "    // Return the cell and output element which can be found *uniquely* in the notebook.\n",
       "    // Note - this is a bit hacky, but it is done because the \"notebook_saving.Notebook\"\n",
       "    // IPython event is triggered only after the cells have been serialised, which for\n",
       "    // our purposes (turning an active figure into a static one), is too late.\n",
       "    var cells = IPython.notebook.get_cells();\n",
       "    var ncells = cells.length;\n",
       "    for (var i = 0; i < ncells; i++) {\n",
       "        var cell = cells[i];\n",
       "        if (cell.cell_type === 'code') {\n",
       "            for (var j = 0; j < cell.output_area.outputs.length; j++) {\n",
       "                var data = cell.output_area.outputs[j];\n",
       "                if (data.data) {\n",
       "                    // IPython >= 3 moved mimebundle to data attribute of output\n",
       "                    data = data.data;\n",
       "                }\n",
       "                if (data['text/html'] === html_output) {\n",
       "                    return [cell, data, j];\n",
       "                }\n",
       "            }\n",
       "        }\n",
       "    }\n",
       "};\n",
       "\n",
       "// Register the function which deals with the matplotlib target/channel.\n",
       "// The kernel may be null if the page has been refreshed.\n",
       "if (IPython.notebook.kernel !== null) {\n",
       "    IPython.notebook.kernel.comm_manager.register_target(\n",
       "        'matplotlib',\n",
       "        mpl.mpl_figure_comm\n",
       "    );\n",
       "}\n"
      ],
      "text/plain": [
       "<IPython.core.display.Javascript object>"
      ]
     },
     "metadata": {},
     "output_type": "display_data"
    },
    {
     "data": {
      "text/html": [
       "<img src=\"data:image/png;base64,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\" width=\"600\">"
      ],
      "text/plain": [
       "<IPython.core.display.HTML object>"
      ]
     },
     "metadata": {},
     "output_type": "display_data"
    },
    {
     "data": {
      "application/vnd.jupyter.widget-view+json": {
       "model_id": "04bacb934d574f178b71a7e9528458b8",
       "version_major": 2,
       "version_minor": 0
      },
      "text/plain": [
       "interactive(children=(FloatSlider(value=0.0, description='theta', max=6.283185307179586, step=0.01), Output())…"
      ]
     },
     "metadata": {},
     "output_type": "display_data"
    }
   ],
   "source": [
    "\n",
    "def g(A, theta):\n",
    "    a, c = np.cos(theta), np.sin(theta)\n",
    "    x = np.linspace(0, a, 100)\n",
    "    y = np.linspace(0, c, 100)\n",
    "    b, d = A @ np.array([a,c])\n",
    "    z = np.linspace(0, b, 100)\n",
    "    w = np.linspace(0, d, 100)\n",
    "    return x, y, z, w\n",
    "\n",
    "fig, ax = plt.subplots(figsize=(6,6))\n",
    "xmin, xmax, ymin, ymax = -2, 2, -2, 2\n",
    "ax.set(xlim=(xmin-1, xmax+1), ylim=(ymin-1, ymax+1), aspect='equal')\n",
    "ax.spines['bottom'].set_position('zero')\n",
    "ax.spines['left'].set_position('zero')\n",
    "ax.spines['top'].set_visible(False)\n",
    "ax.spines['right'].set_visible(False)\n",
    "\n",
    "ax.set_xlabel('x', size=14, labelpad=-24, x=1.03)\n",
    "ax.set_ylabel('y', size=14, labelpad=-21, y=1.02, rotation=0)\n",
    "arrow_fmt = dict(markersize=4, color='black', clip_on=False)\n",
    "ax.plot((1), (0), marker='>', transform=ax.get_yaxis_transform(), **arrow_fmt)\n",
    "ax.plot((0), (1), marker='^', transform=ax.get_xaxis_transform(), **arrow_fmt)\n",
    "\n",
    "x, y, z, w = g(A, 0)\n",
    "line1, = ax.plot(x,y, color='red')\n",
    "line2, = ax.plot(z,w, color='green')\n",
    "\n",
    "def update(theta = 0):\n",
    "    x, y, z, w = g(A,theta)\n",
    "    print(\"x = \"+str(x[-1])+\",\"+str(y[-1]))\n",
    "    print(\"y = \"+str(z[-1])+\",\"+str(w[-1]))\n",
    "    line1.set_data(x, y)\n",
    "    line2.set_data(z, w)\n",
    "    fig.canvas.draw_idle()\n",
    "    \n",
    "interact(update, theta = (0, 2*np.pi, 0.01));"
   ]
  },
  {
   "cell_type": "markdown",
   "id": "32e02ae8",
   "metadata": {
    "slideshow": {
     "slide_type": "slide"
    }
   },
   "source": [
    "So far we studied basic operations such as addition and multiplication of matrices and vectors.\n",
    "\n",
    "Higher operations are also defined, at least for square matrices:\n",
    "\n",
    "- power\n",
    "    - $A^0 = \\mathbf I$\n",
    "    - $A^{n+1} = A A^n$\n",
    "- exponential\n",
    "    - $e^A = \\sum_{k=0}^\\infty \\frac{1}{k!} A^k$\n",
    "\n",
    "To compute them efficiently (and for many other applications), \n",
    "we need **eigenvectors** and **eigenvalues** of square matrices."
   ]
  },
  {
   "cell_type": "markdown",
   "id": "e9396559",
   "metadata": {
    "slideshow": {
     "slide_type": "slide"
    }
   },
   "source": [
    "## Example"
   ]
  },
  {
   "cell_type": "code",
   "execution_count": 4,
   "id": "8f942112",
   "metadata": {},
   "outputs": [
    {
     "data": {
      "text/latex": [
       "$\\displaystyle \\left[\\begin{matrix}0.8 & 0.3\\\\0.2 & 0.7\\end{matrix}\\right]$"
      ],
      "text/plain": [
       "Matrix([\n",
       "[0.8, 0.3],\n",
       "[0.2, 0.7]])"
      ]
     },
     "execution_count": 4,
     "metadata": {},
     "output_type": "execute_result"
    }
   ],
   "source": [
    "A = Matrix([\n",
    "    [0.8, 0.3],\n",
    "    [0.2, 0.7]\n",
    "])\n",
    "A"
   ]
  },
  {
   "cell_type": "code",
   "execution_count": 5,
   "id": "eb49feaf",
   "metadata": {},
   "outputs": [
    {
     "data": {
      "text/latex": [
       "$\\displaystyle \\left[\\begin{matrix}0.7 & 0.45\\\\0.3 & 0.55\\end{matrix}\\right]$"
      ],
      "text/plain": [
       "Matrix([\n",
       "[0.7, 0.45],\n",
       "[0.3, 0.55]])"
      ]
     },
     "execution_count": 5,
     "metadata": {},
     "output_type": "execute_result"
    }
   ],
   "source": [
    "A**2"
   ]
  },
  {
   "cell_type": "code",
   "execution_count": 6,
   "id": "220d5072",
   "metadata": {},
   "outputs": [
    {
     "data": {
      "text/latex": [
       "$\\displaystyle \\left[\\begin{matrix}0.65 & 0.525\\\\0.35 & 0.475\\end{matrix}\\right]$"
      ],
      "text/plain": [
       "Matrix([\n",
       "[0.65, 0.525],\n",
       "[0.35, 0.475]])"
      ]
     },
     "execution_count": 6,
     "metadata": {},
     "output_type": "execute_result"
    }
   ],
   "source": [
    "A**3"
   ]
  },
  {
   "cell_type": "code",
   "execution_count": 7,
   "id": "0f7658ad",
   "metadata": {},
   "outputs": [
    {
     "data": {
      "text/latex": [
       "$\\displaystyle \\left[\\begin{matrix}0.600390625 & 0.5994140625\\\\0.399609375 & 0.4005859375\\end{matrix}\\right]$"
      ],
      "text/plain": [
       "Matrix([\n",
       "[0.600390625, 0.5994140625],\n",
       "[0.399609375, 0.4005859375]])"
      ]
     },
     "execution_count": 7,
     "metadata": {},
     "output_type": "execute_result"
    }
   ],
   "source": [
    "A**10"
   ]
  },
  {
   "cell_type": "code",
   "execution_count": 8,
   "id": "e38a1740",
   "metadata": {},
   "outputs": [
    {
     "data": {
      "text/latex": [
       "$\\displaystyle \\left[\\begin{matrix}0.600000000000002 & 0.600000000000002\\\\0.400000000000001 & 0.400000000000001\\end{matrix}\\right]$"
      ],
      "text/plain": [
       "Matrix([\n",
       "[0.600000000000002, 0.600000000000002],\n",
       "[0.400000000000001, 0.400000000000001]])"
      ]
     },
     "execution_count": 8,
     "metadata": {},
     "output_type": "execute_result"
    }
   ],
   "source": [
    "A**100"
   ]
  },
  {
   "cell_type": "code",
   "execution_count": 9,
   "id": "d3573f08",
   "metadata": {},
   "outputs": [
    {
     "data": {
      "text/latex": [
       "$\\displaystyle \\left[\\begin{matrix}0.6 & 0.6\\\\0.4 & 0.4\\end{matrix}\\right]$"
      ],
      "text/plain": [
       "Matrix([\n",
       "[0.6, 0.6],\n",
       "[0.4, 0.4]])"
      ]
     },
     "execution_count": 9,
     "metadata": {},
     "output_type": "execute_result"
    }
   ],
   "source": [
    "A**1000000"
   ]
  },
  {
   "cell_type": "markdown",
   "id": "44c70668",
   "metadata": {
    "slideshow": {
     "slide_type": "slide"
    }
   },
   "source": [
    "### Basic equation\n",
    "\n",
    "$$\n",
    "A\\mathbf x = \\lambda x\n",
    "$$\n",
    "\n",
    "- $\\mathbf x$ is called an **eigenvector** of $A$\n",
    "- $\\lambda$ is called an **eigenvalue** of $A$"
   ]
  },
  {
   "cell_type": "markdown",
   "id": "2b2e08ce",
   "metadata": {
    "slideshow": {
     "slide_type": "slide"
    }
   },
   "source": [
    "### Example: How to find eigenvalues and eigenvectors\n",
    "\n",
    "$$\n",
    "\\begin{aligned}\n",
    "A &= \\left[\\begin{matrix}0.8 & 0.3\\\\0.2 & 0.7\\end{matrix}\\right]\\\\\n",
    "A\\mathbf x &= \\lambda \\mathbf x\\\\\n",
    "&= \\lambda \\mathbf I x\\\\\n",
    "(A-\\lambda \\mathbf I)\\mathbf x &= \\mathbf 0 \n",
    "\\end{aligned}\n",
    "$$\n",
    "\n",
    "The important matrix now is\n",
    "\n",
    "$$\n",
    "A-\\lambda \\mathbf I = \\begin{bmatrix}\n",
    "0.8-\\lambda & 0.3\\\\\n",
    "0.2 & 0.7-\\lambda\n",
    "\\end{bmatrix}\n",
    "$$"
   ]
  },
  {
   "cell_type": "markdown",
   "id": "866eacb0",
   "metadata": {},
   "source": [
    "We are looking for a value of $\\lambda$ such that\n",
    "$$\n",
    "(A-\\lambda \\mathbf I)\\mathbf x = \\mathbf 0 \n",
    "$$\n",
    "\n",
    "with $\\mathbf x \\neq \\mathbf 0$ (otherwise the equation would be trivial).\n",
    "\n",
    "It follows that $(A-\\lambda \\mathbf I)$ is not invertible. Hence:\n",
    "\n",
    "$$\n",
    "|(A-\\lambda \\mathbf I)| = 0\n",
    "$$\n",
    "\n",
    "Using the formula for the determinant of a $2\\times 2$ matrix:\n",
    "\n",
    "$$\n",
    "(0.8-\\lambda)(0.7-\\lambda) - 0.2\\times 0.3 = 0\n",
    "$$\n"
   ]
  },
  {
   "cell_type": "markdown",
   "id": "6c01c2bf",
   "metadata": {
    "slideshow": {
     "slide_type": "slide"
    }
   },
   "source": [
    "Simplifying:\n",
    "\n",
    "$$\n",
    "\\begin{aligned}\n",
    "(0.8-\\lambda)(0.7-\\lambda) - 0.2\\times 0.3 &= 0\\\\\n",
    "\\lambda ^2 - 1.5\\lambda + 0.56 - 0.06 &= 0\\\\\n",
    "\\lambda^2 - 1.5\\lambda + 0.5 &= 0\n",
    "\\end{aligned}\n",
    "$$\n",
    "\n",
    "There is a formula for finding the solution of quadratic equations (https://en.wikipedia.org/wiki/Quadratic_equation):\n",
    "\n",
    "$$\n",
    "\\begin{aligned}\n",
    "\\lambda_{1/2} = \\frac{3}{4} \\pm \\sqrt{(\\frac{3}{4})^2-\\frac{1}{2}}\\\\\n",
    "&= \\frac{3}{4} \\pm \\sqrt{\\frac{9-8}{16}}\\\\\n",
    "&= \\frac{3}{4} \\pm \\sqrt{\\frac{1}{16}}\\\\\n",
    "&= \\frac{3}{4} \\pm \\frac{1}{}4\\\\\n",
    "\\lambda_1 &= 1\\\\\n",
    "\\lambda_2 &= 0.5\n",
    "\\end{aligned}\n",
    "$$\n",
    "\n",
    "$\\lambda_1$ and $\\lambda_2$ are the eigenvalues of $A$. Now let's find the corresponding eigenvectors."
   ]
  },
  {
   "cell_type": "markdown",
   "id": "2cc32822",
   "metadata": {
    "slideshow": {
     "slide_type": "slide"
    }
   },
   "source": [
    "This amount to finding the nullspace of $A-\\lambda\\mathbf I$:\n",
    "\n",
    "- $\\lambda_1$\n",
    "\n",
    "$$\n",
    "\\begin{aligned}\n",
    "(A - \\lambda_1\\mathbf I)\\mathbf x_1 &= \\mathbf 0\\\\\n",
    "\\begin{bmatrix}\n",
    "-0.2 & 0.3\\\\\n",
    "0.2 & -0.3\n",
    "\\end{bmatrix}\\mathbf x_1 &= \\mathbf 0\\\\\n",
    "\\begin{bmatrix}\n",
    "-0.2 & 0.3\\\\\n",
    "0 & 0\n",
    "\\end{bmatrix}\\mathbf x_1 &= \\mathbf 0\\\\\n",
    "\\begin{bmatrix}\n",
    "1 & -1.5\\\\\n",
    "0 & 0\n",
    "\\end{bmatrix}\\mathbf x_1 &= \\mathbf 0\\\\\n",
    "\\mathbf x_1 &= \\begin{bmatrix}1.5\\\\1\\end{bmatrix}\n",
    "\\end{aligned}\n",
    "$$\n",
    "\n"
   ]
  },
  {
   "cell_type": "markdown",
   "id": "fe963bfe",
   "metadata": {
    "slideshow": {
     "slide_type": "slide"
    }
   },
   "source": [
    "\n",
    "- $\\lambda_2$\n",
    "\n",
    "$$\n",
    "\\begin{aligned}\n",
    "(A - \\lambda_1\\mathbf I)\\mathbf x_1 &= \\mathbf 0\\\\\n",
    "\\begin{bmatrix}\n",
    "0.3 & 0.3\\\\\n",
    "0.2 & 0.2\n",
    "\\end{bmatrix}\\mathbf x_2 &= \\mathbf 0\\\\\n",
    "\\begin{bmatrix}\n",
    "0.3 & 0.3\\\\\n",
    "0 & 0\n",
    "\\end{bmatrix}\\mathbf x_2 &= \\mathbf 0\\\\\n",
    "\\begin{bmatrix}\n",
    "1 & 1\\\\\n",
    "0 & 0\n",
    "\\end{bmatrix}\\mathbf x_2 &= \\mathbf 0\\\\\n",
    "\\mathbf x_2 &= \\begin{bmatrix}-1\\\\1\\end{bmatrix}\\\\\n",
    "\\end{aligned}\n",
    "$$"
   ]
  },
  {
   "cell_type": "markdown",
   "id": "b0623f9f",
   "metadata": {
    "slideshow": {
     "slide_type": "slide"
    }
   },
   "source": [
    "$\\mathbf x_1$ is the eigenvector *corresponding to* $\\lambda_1$.\n",
    "\n",
    "$\\mathbf x_2$ is the eigenvector *corresponding to* $\\lambda_2$.\n",
    "\n",
    "Any non-zero multiples of $\\mathbf x_1, \\mathbf x_2$ are also eigenvectors. It is common practice to use normalized eigenvectors, i.e.\\ eigenvectors with length 1.\n",
    "\n",
    "$$\n",
    "\\begin{aligned}\n",
    "\\mathbf v_1 &= \\frac{\\mathbf x_1}{||\\mathbf x_1||}\\\\\n",
    "&= \\frac{1}{\\sqrt{13}}\\begin{bmatrix}3\\\\2\\end{bmatrix}\\\\\n",
    "\\mathbf v_2 &= \\frac{\\mathbf x_1}{||\\mathbf x_1||}\\\\\n",
    "&= \\frac{1}{\\sqrt{2}}\\begin{bmatrix}-1\\\\1\\end{bmatrix}\\\\\n",
    "\\end{aligned}\n",
    "$$"
   ]
  },
  {
   "cell_type": "code",
   "execution_count": 10,
   "id": "9854f98c",
   "metadata": {
    "slideshow": {
     "slide_type": "slide"
    }
   },
   "outputs": [
    {
     "data": {
      "text/latex": [
       "$\\displaystyle \\left[\\begin{matrix}\\frac{4}{5} & \\frac{3}{10}\\\\\\frac{1}{5} & \\frac{7}{10}\\end{matrix}\\right]$"
      ],
      "text/plain": [
       "Matrix([\n",
       "[4/5, 3/10],\n",
       "[1/5, 7/10]])"
      ]
     },
     "execution_count": 10,
     "metadata": {},
     "output_type": "execute_result"
    }
   ],
   "source": [
    "A = Matrix([\n",
    "    [Rational(4,5), Rational(3,10)],\n",
    "    [Rational(1,5), Rational(7,10)]\n",
    "])\n",
    "A"
   ]
  },
  {
   "cell_type": "code",
   "execution_count": 11,
   "id": "e1c8ffa1",
   "metadata": {},
   "outputs": [],
   "source": [
    "e1, e2 = A.eigenvects()"
   ]
  },
  {
   "cell_type": "code",
   "execution_count": 12,
   "id": "8083ca17",
   "metadata": {},
   "outputs": [],
   "source": [
    "lambda1, _, v1 = e1"
   ]
  },
  {
   "cell_type": "code",
   "execution_count": 13,
   "id": "26fe76ca",
   "metadata": {},
   "outputs": [
    {
     "data": {
      "text/latex": [
       "$\\displaystyle \\frac{1}{2}$"
      ],
      "text/plain": [
       "1/2"
      ]
     },
     "execution_count": 13,
     "metadata": {},
     "output_type": "execute_result"
    }
   ],
   "source": [
    "lambda1"
   ]
  },
  {
   "cell_type": "code",
   "execution_count": 14,
   "id": "64a8b1b3",
   "metadata": {},
   "outputs": [
    {
     "data": {
      "text/latex": [
       "$\\displaystyle \\left[\\begin{matrix}- \\frac{\\sqrt{2}}{2}\\\\\\frac{\\sqrt{2}}{2}\\end{matrix}\\right]$"
      ],
      "text/plain": [
       "Matrix([\n",
       "[-sqrt(2)/2],\n",
       "[ sqrt(2)/2]])"
      ]
     },
     "execution_count": 14,
     "metadata": {},
     "output_type": "execute_result"
    }
   ],
   "source": [
    "v1[0].normalized()"
   ]
  },
  {
   "cell_type": "code",
   "execution_count": 15,
   "id": "7a832706",
   "metadata": {},
   "outputs": [],
   "source": [
    "lambda2, _, v2 = e2"
   ]
  },
  {
   "cell_type": "code",
   "execution_count": 16,
   "id": "4056bd25",
   "metadata": {},
   "outputs": [
    {
     "data": {
      "text/latex": [
       "$\\displaystyle 1$"
      ],
      "text/plain": [
       "1"
      ]
     },
     "execution_count": 16,
     "metadata": {},
     "output_type": "execute_result"
    }
   ],
   "source": [
    "lambda2"
   ]
  },
  {
   "cell_type": "code",
   "execution_count": 17,
   "id": "08859f45",
   "metadata": {},
   "outputs": [
    {
     "data": {
      "text/latex": [
       "$\\displaystyle \\left[\\begin{matrix}\\frac{3 \\sqrt{13}}{13}\\\\\\frac{2 \\sqrt{13}}{13}\\end{matrix}\\right]$"
      ],
      "text/plain": [
       "Matrix([\n",
       "[3*sqrt(13)/13],\n",
       "[2*sqrt(13)/13]])"
      ]
     },
     "execution_count": 17,
     "metadata": {},
     "output_type": "execute_result"
    }
   ],
   "source": [
    "v2[0].normalized()"
   ]
  },
  {
   "cell_type": "code",
   "execution_count": 18,
   "id": "c5b5637a",
   "metadata": {
    "slideshow": {
     "slide_type": "slide"
    }
   },
   "outputs": [
    {
     "data": {
      "text/plain": [
       "array([[0.8, 0.3],\n",
       "       [0.2, 0.7]])"
      ]
     },
     "execution_count": 18,
     "metadata": {},
     "output_type": "execute_result"
    }
   ],
   "source": [
    "A = np.array([\n",
    "    [0.8, 0.3],\n",
    "    [0.2, 0.7]\n",
    "])\n",
    "A"
   ]
  },
  {
   "cell_type": "code",
   "execution_count": 19,
   "id": "eefa5cf4",
   "metadata": {},
   "outputs": [
    {
     "data": {
      "text/plain": [
       "(array([1. , 0.5]),\n",
       " array([[ 0.83205029, -0.70710678],\n",
       "        [ 0.5547002 ,  0.70710678]]))"
      ]
     },
     "execution_count": 19,
     "metadata": {},
     "output_type": "execute_result"
    }
   ],
   "source": [
    "np.linalg.eig(A)"
   ]
  },
  {
   "cell_type": "markdown",
   "id": "e25f4761",
   "metadata": {
    "slideshow": {
     "slide_type": "slide"
    }
   },
   "source": [
    "\n",
    "\n",
    "### Procedure to find eigenvalues and eigenvectors:\n",
    "\n",
    "1. Construct $A-\\lambda \\mathbf I$ with $\\lambda$ as unknown.\n",
    "2. Set $|A-\\lambda \\mathbf I| = 0$ and solve for $\\lambda$. All solutions are eigenvalues.\n",
    "3. For each solution for $\\lambda$, find the nullspace of $|A-\\lambda \\mathbf I| = 0$. Each vector in the nullspace is an eigenvector corresponding to this solution."
   ]
  },
  {
   "cell_type": "markdown",
   "id": "9693cd72",
   "metadata": {
    "slideshow": {
     "slide_type": "slide"
    }
   },
   "source": [
    "##### Example 2: Projection matrix\n",
    "\n",
    "$$\n",
    "A = \\begin{bmatrix}\n",
    "\\frac{1}{2} & \\frac{1}{2}\\\\\n",
    "\\frac{1}{2} & \\frac{1}{2}\n",
    "\\end{bmatrix}\n",
    "$$\n",
    "\n",
    "- find eigenvalues\n",
    "\n",
    "$$\n",
    "\\begin{aligned}\n",
    "\\begin{vmatrix}\n",
    "\\frac{1}{2}-\\lambda & \\frac{1}{2}\\\\\n",
    "\\frac{1}{2} & \\frac{1}{2}-\\lambda\n",
    "\\end{vmatrix} &= 0\\\\\n",
    "(\\frac{1}{2}-\\lambda)^2 - \\frac{1}{4} &= 0\\\\\n",
    "\\lambda^2 -\\lambda &= 0\\\\\n",
    "\\lambda(\\lambda-1) &= 0\\\\\n",
    "\\lambda_1 &= 1\\\\\n",
    "\\lambda_2 &= 0\n",
    "\\end{aligned}\n",
    "$$"
   ]
  },
  {
   "cell_type": "markdown",
   "id": "de352eeb",
   "metadata": {
    "slideshow": {
     "slide_type": "slide"
    }
   },
   "source": [
    "- find eigenvectors\n",
    "\n",
    "    - $\\lambda_1$: \n",
    "    $$\n",
    "    \\begin{aligned}\n",
    "    \\begin{bmatrix}\n",
    "    -\\frac{1}{2} & \\frac{1}{2}\\\\\n",
    "    \\frac{1}{2} & -\\frac{1}{2}\n",
    "    \\end{bmatrix}\\mathbf x_1 &= \\mathbf 0\\\\\n",
    "    \\mathbf x_1 &= \\begin{bmatrix}1\\\\1\\end{bmatrix}\n",
    "    \\end{aligned}\n",
    "    $$\n",
    "    \n",
    "    - $\\lambda_2$:\n",
    "    $$\n",
    "    \\begin{aligned}\n",
    "    \\begin{bmatrix}\n",
    "    \\frac{1}{2} & \\frac{1}{2}\\\\\n",
    "    \\frac{1}{2} & \\frac{1}{2}\n",
    "    \\end{bmatrix}\\mathbf x_2 &= \\mathbf 0\\\\\n",
    "    \\mathbf x_2 &= \\begin{bmatrix}-1\\\\1\\end{bmatrix}\n",
    "    \\end{aligned}\n",
    "    $$"
   ]
  },
  {
   "cell_type": "markdown",
   "id": "b13fec6b",
   "metadata": {
    "slideshow": {
     "slide_type": "slide"
    }
   },
   "source": [
    "##### Example 3: Reflection matrix\n",
    "\n",
    "$$\n",
    "A = \\begin{bmatrix}\n",
    "0 & 1\\\\\n",
    "1 & 0\n",
    "\\end{bmatrix}\n",
    "$$\n",
    "\n",
    "- find eigenvalues\n",
    "\n",
    "$$\n",
    "\\begin{aligned}\n",
    "\\begin{vmatrix}\n",
    "-\\lambda & 1\\\\\n",
    "1 & -\\lambda\n",
    "\\end{vmatrix} &= 0\\\\\n",
    "\\lambda^2-1 &= 0\\\\\n",
    "\\lambda^2 &= 1\\\\\n",
    "\\lambda_1 &= 1\\\\\n",
    "\\lambda_2 &= -1\n",
    "\\end{aligned}\n",
    "$$"
   ]
  },
  {
   "cell_type": "markdown",
   "id": "590f050d",
   "metadata": {
    "slideshow": {
     "slide_type": "slide"
    }
   },
   "source": [
    "- find eigenvectors\n",
    "\n",
    "    - $\\lambda_1$: \n",
    "    $$\n",
    "    \\begin{aligned}\n",
    "    \\begin{bmatrix}\n",
    "    -1 & 1\\\\\n",
    "    1 & -1\n",
    "    \\end{bmatrix}\\mathbf x_1 &= \\mathbf 0\\\\\n",
    "    \\mathbf x_1 &= \\begin{bmatrix}1\\\\1\\end{bmatrix}\n",
    "    \\end{aligned}\n",
    "    $$\n",
    "    \n",
    "    - $\\lambda_2$:\n",
    "    $$\n",
    "    \\begin{aligned}\n",
    "    \\begin{bmatrix}\n",
    "    1 & 1\\\\\n",
    "    1 & 1\n",
    "    \\end{bmatrix}\\mathbf x_2 &= \\mathbf 0\\\\\n",
    "    \\mathbf x_2 &= \\begin{bmatrix}-1\\\\1\\end{bmatrix}\n",
    "    \\end{aligned}\n",
    "    $$"
   ]
  },
  {
   "cell_type": "markdown",
   "id": "054398bb",
   "metadata": {
    "slideshow": {
     "slide_type": "slide"
    }
   },
   "source": [
    "##### Example 3: Rotation matrix\n",
    "\n",
    "$$\n",
    "A = \\begin{bmatrix}\n",
    "\\frac{\\sqrt{2}}{2} & \\frac{\\sqrt{2}}{2}\\\\\n",
    "-\\frac{\\sqrt{2}}{2} & \\frac{\\sqrt{2}}{2}\n",
    "\\end{bmatrix}\n",
    "$$\n",
    "\n",
    "- find eigenvalues\n",
    "\n",
    "$$\n",
    "\\begin{aligned}\n",
    "\\begin{vmatrix}\n",
    "\\frac{\\sqrt{2}}{2}-\\lambda & \\frac{\\sqrt{2}}{2}\\\\\n",
    "-\\frac{\\sqrt{2}}{2} & \\frac{\\sqrt{2}}{2}-\\lambda\n",
    "\\end{vmatrix} &= 0\\\\\n",
    "(\\frac{\\sqrt{2}}{2}-\\lambda)^2 + \\frac{1}{2} &= 0\\\\\n",
    "\\lambda^2 - \\sqrt{2}\\lambda + 1 &= 0\\\\\n",
    "\\lambda_{1/2} &= \\frac{\\sqrt{2}}{2} \\pm \\sqrt{\\frac{1}{2} - 1}\\\\\n",
    " &= \\frac{\\sqrt{2}}{2} \\pm \\sqrt{-\\frac{1}{2}}\n",
    "\\end{aligned}\n",
    "$$\n",
    "\n",
    "**There is no solution within the real numbers!**\n",
    "\n",
    "(There are complex eigenvalues – and complex eigenvectors – for this matrix, but this is beyond the scope of this course.)"
   ]
  },
  {
   "cell_type": "markdown",
   "id": "b88fe023",
   "metadata": {
    "slideshow": {
     "slide_type": "slide"
    }
   },
   "source": [
    "##### Example 4: Multiple eigenvalues\n",
    "$$\n",
    "A = \\begin{bmatrix}\n",
    "1 & 0\\\\\n",
    "0 & 1\n",
    "\\end{bmatrix}\n",
    "$$\n",
    "\n",
    "- find eigenvalues\n",
    "\n",
    "$$\n",
    "\\begin{aligned}\n",
    "\\begin{vmatrix}\n",
    "1-\\lambda & 0\\\\\n",
    "0 & 1-\\lambda\n",
    "\\end{vmatrix} &= 0\\\\\n",
    "(1-\\lambda)^2 &= 0\\\\\n",
    "1-\\lambda &= 0\\\\\n",
    "\\lambda &= 1\n",
    "\\end{aligned}\n",
    "$$\n",
    "\n",
    "- find eigenvectors\n",
    "\n",
    "$$\n",
    "\\begin{bmatrix}\n",
    "0 & 0\\\\\n",
    "0 & 0\n",
    "\\end{bmatrix}\\mathbf x = \\mathbf 0\n",
    "$$\n",
    "\n",
    "**Any vector is an eigenvector of the identity matrix.**"
   ]
  },
  {
   "cell_type": "markdown",
   "id": "858ce872",
   "metadata": {
    "slideshow": {
     "slide_type": "slide"
    }
   },
   "source": [
    "##### Example 5: Defective eigenvalues\n",
    "\n",
    "$$\n",
    "A = \\begin{bmatrix}\n",
    "1 & 1\\\\\n",
    "0 & 1\n",
    "\\end{bmatrix}\n",
    "$$\n",
    "\n",
    "- find eigenvalues\n",
    "\n",
    "$$\n",
    "\\begin{aligned}\n",
    "\\begin{vmatrix}\n",
    "1-\\lambda & 1\\\\\n",
    "0 & 1-\\lambda\n",
    "\\end{vmatrix} &= 0\\\\\n",
    "(1-\\lambda)^2 &= 0\\\\\n",
    "1-\\lambda &= 0\\\\\n",
    "\\lambda &= 1\n",
    "\\end{aligned}\n",
    "$$\n",
    "\n",
    "- find eigenvectors\n",
    "\n",
    "$$\n",
    "\\begin{aligned}\n",
    "\\begin{bmatrix}\n",
    "0 & 1\\\\\n",
    "0 & 0\n",
    "\\end{bmatrix}\n",
    "\\mathbf x &= \\mathbf 0\\\\\n",
    "\\mathbf x &= \\begin{bmatrix}1\\\\0\\end{bmatrix}\n",
    "\\end{aligned}\n",
    "$$\n",
    "\n",
    "**This matrix has only one eigenvalue and one eigenvector.**"
   ]
  },
  {
   "cell_type": "markdown",
   "id": "cc9037e8",
   "metadata": {
    "slideshow": {
     "slide_type": "slide"
    }
   },
   "source": [
    "### Larger matrices\n",
    "\n",
    "$$\n",
    "A = \\begin{bmatrix}\n",
    "-1 & 2 & 2\\\\\n",
    "2 & 2 & -1\\\\\n",
    "2 & -1 & 2\n",
    "\\end{bmatrix}\n",
    "$$\n",
    "\n",
    "- finding eigenvalues\n",
    "\n",
    "$$\n",
    "\\begin{aligned}\n",
    "\\begin{vmatrix}\n",
    "-1-\\lambda & 2 & 2\\\\\n",
    "2 & 2-\\lambda & -1\\\\\n",
    "2 & -1 & 2-\\lambda\n",
    "\\end{vmatrix} &= 0\\\\\n",
    "(-1-\\lambda)(2-\\lambda)^2 -4 -4 -4(2-\\lambda)-4(2-\\lambda) + 1 + \\lambda &= 0\\\\\n",
    "-\\lambda^2+4\\lambda-4-\\lambda^3+4\\lambda^2-4\\lambda -4 -4 -8+4\\lambda-8+4\\lambda + 1 + \\lambda &= 0\\\\\n",
    "-\\lambda^3 + 3\\lambda^2 + 9\\lambda - 27&= 0\\\\\n",
    "\\lambda^3 - 3\\lambda^2 - 9\\lambda + 27&= 0\n",
    "\\end{aligned}\n",
    "$$\n"
   ]
  },
  {
   "cell_type": "markdown",
   "id": "8c916755",
   "metadata": {},
   "source": [
    "In the general case, solving a cubic equation by hand is very hard. In this particular example, the solution is:\n",
    "\n",
    "$$\n",
    "\\begin{aligned}\n",
    "\\lambda^3 - 3\\lambda^2 - 9\\lambda + 27 &= (\\lambda -3)^2 (\\lambda+3)\\\\\n",
    "\\lambda_1 &= 3\\\\\n",
    "\\lambda_2 &= -3\n",
    "\\end{aligned}\n",
    "$$\n",
    "\n"
   ]
  },
  {
   "cell_type": "markdown",
   "id": "16223894",
   "metadata": {
    "slideshow": {
     "slide_type": "slide"
    }
   },
   "source": [
    "\n",
    "\n",
    "- eigenvectors"
   ]
  },
  {
   "cell_type": "code",
   "execution_count": 20,
   "id": "ef01cfd0",
   "metadata": {},
   "outputs": [
    {
     "data": {
      "text/latex": [
       "$\\displaystyle \\left[\\begin{matrix}-1 & 2 & 2\\\\2 & 2 & -1\\\\2 & -1 & 2\\end{matrix}\\right]$"
      ],
      "text/plain": [
       "Matrix([\n",
       "[-1,  2,  2],\n",
       "[ 2,  2, -1],\n",
       "[ 2, -1,  2]])"
      ]
     },
     "execution_count": 20,
     "metadata": {},
     "output_type": "execute_result"
    }
   ],
   "source": [
    "A = Matrix([\n",
    "    [-1,2,2],\n",
    "    [2,2,-1],\n",
    "    [2,-1,2]\n",
    "])\n",
    "A"
   ]
  },
  {
   "cell_type": "code",
   "execution_count": 21,
   "id": "7018c0de",
   "metadata": {},
   "outputs": [
    {
     "data": {
      "text/plain": [
       "{-3: 1, 3: 2}"
      ]
     },
     "execution_count": 21,
     "metadata": {},
     "output_type": "execute_result"
    }
   ],
   "source": [
    "A.eigenvals()"
   ]
  },
  {
   "cell_type": "markdown",
   "id": "cc34ddc5",
   "metadata": {},
   "source": [
    "(In this dictionary, the keys are the eigenvalues and the values are the *algebraic multiplicity*.)"
   ]
  },
  {
   "cell_type": "code",
   "execution_count": 22,
   "id": "05ebe5ec",
   "metadata": {},
   "outputs": [],
   "source": [
    "e1, e2 = A.eigenvects()"
   ]
  },
  {
   "cell_type": "code",
   "execution_count": 23,
   "id": "26e73b6d",
   "metadata": {},
   "outputs": [
    {
     "data": {
      "text/latex": [
       "$\\displaystyle -3$"
      ],
      "text/plain": [
       "-3"
      ]
     },
     "execution_count": 23,
     "metadata": {},
     "output_type": "execute_result"
    }
   ],
   "source": [
    "e1[0]"
   ]
  },
  {
   "cell_type": "code",
   "execution_count": 24,
   "id": "86046c65",
   "metadata": {},
   "outputs": [
    {
     "data": {
      "text/latex": [
       "$\\displaystyle \\left[\\begin{matrix}-2\\\\1\\\\1\\end{matrix}\\right]$"
      ],
      "text/plain": [
       "Matrix([\n",
       "[-2],\n",
       "[ 1],\n",
       "[ 1]])"
      ]
     },
     "execution_count": 24,
     "metadata": {},
     "output_type": "execute_result"
    }
   ],
   "source": [
    "e1[2][0]"
   ]
  },
  {
   "cell_type": "code",
   "execution_count": 25,
   "id": "cf4b0d33",
   "metadata": {},
   "outputs": [
    {
     "data": {
      "text/latex": [
       "$\\displaystyle 3$"
      ],
      "text/plain": [
       "3"
      ]
     },
     "execution_count": 25,
     "metadata": {},
     "output_type": "execute_result"
    }
   ],
   "source": [
    "e2[0]"
   ]
  },
  {
   "cell_type": "code",
   "execution_count": 26,
   "id": "2c03d6f5",
   "metadata": {},
   "outputs": [
    {
     "data": {
      "text/latex": [
       "$\\displaystyle \\left[\\begin{matrix}\\frac{1}{2}\\\\1\\\\0\\end{matrix}\\right]$"
      ],
      "text/plain": [
       "Matrix([\n",
       "[1/2],\n",
       "[  1],\n",
       "[  0]])"
      ]
     },
     "execution_count": 26,
     "metadata": {},
     "output_type": "execute_result"
    }
   ],
   "source": [
    "e2[2][0]"
   ]
  },
  {
   "cell_type": "code",
   "execution_count": 27,
   "id": "755698f1",
   "metadata": {
    "slideshow": {
     "slide_type": "slide"
    }
   },
   "outputs": [
    {
     "data": {
      "text/latex": [
       "$\\displaystyle \\left[\\begin{matrix}\\frac{1}{2}\\\\0\\\\1\\end{matrix}\\right]$"
      ],
      "text/plain": [
       "Matrix([\n",
       "[1/2],\n",
       "[  0],\n",
       "[  1]])"
      ]
     },
     "execution_count": 27,
     "metadata": {},
     "output_type": "execute_result"
    }
   ],
   "source": [
    "e2[2][1]"
   ]
  },
  {
   "cell_type": "markdown",
   "id": "af548ac3",
   "metadata": {},
   "source": [
    "Note that there are two eigenvectors corresponding to the eigenvalue 3."
   ]
  },
  {
   "cell_type": "code",
   "execution_count": 28,
   "id": "cc2e3e5a",
   "metadata": {
    "slideshow": {
     "slide_type": "slide"
    }
   },
   "outputs": [
    {
     "data": {
      "text/latex": [
       "$\\displaystyle \\left[\\begin{matrix}-1 & 2 & 3\\\\4 & 5 & 6\\\\7 & 8 & 9\\end{matrix}\\right]$"
      ],
      "text/plain": [
       "Matrix([\n",
       "[-1, 2, 3],\n",
       "[ 4, 5, 6],\n",
       "[ 7, 8, 9]])"
      ]
     },
     "execution_count": 28,
     "metadata": {},
     "output_type": "execute_result"
    }
   ],
   "source": [
    "A = Matrix([\n",
    "    [-1,2,3],\n",
    "    [4,5,6],\n",
    "    [7,8,9]\n",
    "])\n",
    "A"
   ]
  },
  {
   "cell_type": "code",
   "execution_count": 29,
   "id": "ffeae032",
   "metadata": {},
   "outputs": [],
   "source": [
    "e1, e2, e3 = A.eigenvects()"
   ]
  },
  {
   "cell_type": "code",
   "execution_count": 30,
   "id": "d47eafce",
   "metadata": {},
   "outputs": [
    {
     "data": {
      "text/latex": [
       "$\\displaystyle \\frac{13}{3} + \\left(- \\frac{1}{2} - \\frac{\\sqrt{3} i}{2}\\right) \\sqrt[3]{\\frac{4969}{27} + \\frac{\\sqrt{471498} i}{9}} + \\frac{307}{9 \\left(- \\frac{1}{2} - \\frac{\\sqrt{3} i}{2}\\right) \\sqrt[3]{\\frac{4969}{27} + \\frac{\\sqrt{471498} i}{9}}}$"
      ],
      "text/plain": [
       "13/3 + (-1/2 - sqrt(3)*I/2)*(4969/27 + sqrt(471498)*I/9)**(1/3) + 307/(9*(-1/2 - sqrt(3)*I/2)*(4969/27 + sqrt(471498)*I/9)**(1/3))"
      ]
     },
     "execution_count": 30,
     "metadata": {},
     "output_type": "execute_result"
    }
   ],
   "source": [
    "e1[0]"
   ]
  },
  {
   "cell_type": "code",
   "execution_count": 31,
   "id": "ab31601e",
   "metadata": {
    "slideshow": {
     "slide_type": "slide"
    }
   },
   "outputs": [
    {
     "data": {
      "text/latex": [
       "$\\displaystyle \\left[\\begin{matrix}\\frac{306}{89} + \\frac{63 \\left(- \\frac{1}{2} - \\frac{\\sqrt{3} i}{2}\\right) \\sqrt[3]{\\frac{4969}{27} + \\frac{\\sqrt{471498} i}{9}}}{89} - \\frac{4 \\left(\\frac{13}{3} + \\left(- \\frac{1}{2} - \\frac{\\sqrt{3} i}{2}\\right) \\sqrt[3]{\\frac{4969}{27} + \\frac{\\sqrt{471498} i}{9}} + \\frac{307}{9 \\left(- \\frac{1}{2} - \\frac{\\sqrt{3} i}{2}\\right) \\sqrt[3]{\\frac{4969}{27} + \\frac{\\sqrt{471498} i}{9}}}\\right)^{2}}{89} + \\frac{2149}{89 \\left(- \\frac{1}{2} - \\frac{\\sqrt{3} i}{2}\\right) \\sqrt[3]{\\frac{4969}{27} + \\frac{\\sqrt{471498} i}{9}}}\\\\- \\frac{959}{267} - \\frac{13508}{801 \\left(- \\frac{1}{2} - \\frac{\\sqrt{3} i}{2}\\right) \\sqrt[3]{\\frac{4969}{27} + \\frac{\\sqrt{471498} i}{9}}} + \\frac{7 \\left(\\frac{13}{3} + \\left(- \\frac{1}{2} - \\frac{\\sqrt{3} i}{2}\\right) \\sqrt[3]{\\frac{4969}{27} + \\frac{\\sqrt{471498} i}{9}} + \\frac{307}{9 \\left(- \\frac{1}{2} - \\frac{\\sqrt{3} i}{2}\\right) \\sqrt[3]{\\frac{4969}{27} + \\frac{\\sqrt{471498} i}{9}}}\\right)^{2}}{178} - \\frac{44 \\left(- \\frac{1}{2} - \\frac{\\sqrt{3} i}{2}\\right) \\sqrt[3]{\\frac{4969}{27} + \\frac{\\sqrt{471498} i}{9}}}{89}\\\\1\\end{matrix}\\right]$"
      ],
      "text/plain": [
       "Matrix([\n",
       "[     306/89 + 63*(-1/2 - sqrt(3)*I/2)*(4969/27 + sqrt(471498)*I/9)**(1/3)/89 - 4*(13/3 + (-1/2 - sqrt(3)*I/2)*(4969/27 + sqrt(471498)*I/9)**(1/3) + 307/(9*(-1/2 - sqrt(3)*I/2)*(4969/27 + sqrt(471498)*I/9)**(1/3)))**2/89 + 2149/(89*(-1/2 - sqrt(3)*I/2)*(4969/27 + sqrt(471498)*I/9)**(1/3))],\n",
       "[-959/267 - 13508/(801*(-1/2 - sqrt(3)*I/2)*(4969/27 + sqrt(471498)*I/9)**(1/3)) + 7*(13/3 + (-1/2 - sqrt(3)*I/2)*(4969/27 + sqrt(471498)*I/9)**(1/3) + 307/(9*(-1/2 - sqrt(3)*I/2)*(4969/27 + sqrt(471498)*I/9)**(1/3)))**2/178 - 44*(-1/2 - sqrt(3)*I/2)*(4969/27 + sqrt(471498)*I/9)**(1/3)/89],\n",
       "[                                                                                                                                                                                                                                                                                               1]])"
      ]
     },
     "execution_count": 31,
     "metadata": {},
     "output_type": "execute_result"
    }
   ],
   "source": [
    "e1[2][0]"
   ]
  },
  {
   "cell_type": "code",
   "execution_count": 32,
   "id": "7087786e",
   "metadata": {
    "slideshow": {
     "slide_type": "slide"
    }
   },
   "outputs": [
    {
     "data": {
      "text/latex": [
       "$\\displaystyle \\frac{13}{3} + \\frac{307}{9 \\left(- \\frac{1}{2} + \\frac{\\sqrt{3} i}{2}\\right) \\sqrt[3]{\\frac{4969}{27} + \\frac{\\sqrt{471498} i}{9}}} + \\left(- \\frac{1}{2} + \\frac{\\sqrt{3} i}{2}\\right) \\sqrt[3]{\\frac{4969}{27} + \\frac{\\sqrt{471498} i}{9}}$"
      ],
      "text/plain": [
       "13/3 + 307/(9*(-1/2 + sqrt(3)*I/2)*(4969/27 + sqrt(471498)*I/9)**(1/3)) + (-1/2 + sqrt(3)*I/2)*(4969/27 + sqrt(471498)*I/9)**(1/3)"
      ]
     },
     "execution_count": 32,
     "metadata": {},
     "output_type": "execute_result"
    }
   ],
   "source": [
    "e2[0]"
   ]
  },
  {
   "cell_type": "code",
   "execution_count": 33,
   "id": "326fe5c5",
   "metadata": {},
   "outputs": [
    {
     "data": {
      "text/latex": [
       "$\\displaystyle \\left[\\begin{matrix}\\frac{306}{89} + \\frac{2149}{89 \\left(- \\frac{1}{2} + \\frac{\\sqrt{3} i}{2}\\right) \\sqrt[3]{\\frac{4969}{27} + \\frac{\\sqrt{471498} i}{9}}} - \\frac{4 \\left(\\frac{13}{3} + \\frac{307}{9 \\left(- \\frac{1}{2} + \\frac{\\sqrt{3} i}{2}\\right) \\sqrt[3]{\\frac{4969}{27} + \\frac{\\sqrt{471498} i}{9}}} + \\left(- \\frac{1}{2} + \\frac{\\sqrt{3} i}{2}\\right) \\sqrt[3]{\\frac{4969}{27} + \\frac{\\sqrt{471498} i}{9}}\\right)^{2}}{89} + \\frac{63 \\left(- \\frac{1}{2} + \\frac{\\sqrt{3} i}{2}\\right) \\sqrt[3]{\\frac{4969}{27} + \\frac{\\sqrt{471498} i}{9}}}{89}\\\\- \\frac{959}{267} - \\frac{44 \\left(- \\frac{1}{2} + \\frac{\\sqrt{3} i}{2}\\right) \\sqrt[3]{\\frac{4969}{27} + \\frac{\\sqrt{471498} i}{9}}}{89} + \\frac{7 \\left(\\frac{13}{3} + \\frac{307}{9 \\left(- \\frac{1}{2} + \\frac{\\sqrt{3} i}{2}\\right) \\sqrt[3]{\\frac{4969}{27} + \\frac{\\sqrt{471498} i}{9}}} + \\left(- \\frac{1}{2} + \\frac{\\sqrt{3} i}{2}\\right) \\sqrt[3]{\\frac{4969}{27} + \\frac{\\sqrt{471498} i}{9}}\\right)^{2}}{178} - \\frac{13508}{801 \\left(- \\frac{1}{2} + \\frac{\\sqrt{3} i}{2}\\right) \\sqrt[3]{\\frac{4969}{27} + \\frac{\\sqrt{471498} i}{9}}}\\\\1\\end{matrix}\\right]$"
      ],
      "text/plain": [
       "Matrix([\n",
       "[     306/89 + 2149/(89*(-1/2 + sqrt(3)*I/2)*(4969/27 + sqrt(471498)*I/9)**(1/3)) - 4*(13/3 + 307/(9*(-1/2 + sqrt(3)*I/2)*(4969/27 + sqrt(471498)*I/9)**(1/3)) + (-1/2 + sqrt(3)*I/2)*(4969/27 + sqrt(471498)*I/9)**(1/3))**2/89 + 63*(-1/2 + sqrt(3)*I/2)*(4969/27 + sqrt(471498)*I/9)**(1/3)/89],\n",
       "[-959/267 - 44*(-1/2 + sqrt(3)*I/2)*(4969/27 + sqrt(471498)*I/9)**(1/3)/89 + 7*(13/3 + 307/(9*(-1/2 + sqrt(3)*I/2)*(4969/27 + sqrt(471498)*I/9)**(1/3)) + (-1/2 + sqrt(3)*I/2)*(4969/27 + sqrt(471498)*I/9)**(1/3))**2/178 - 13508/(801*(-1/2 + sqrt(3)*I/2)*(4969/27 + sqrt(471498)*I/9)**(1/3))],\n",
       "[                                                                                                                                                                                                                                                                                               1]])"
      ]
     },
     "execution_count": 33,
     "metadata": {},
     "output_type": "execute_result"
    }
   ],
   "source": [
    "e2[2][0]"
   ]
  },
  {
   "cell_type": "code",
   "execution_count": 34,
   "id": "79d77dd9",
   "metadata": {
    "slideshow": {
     "slide_type": "slide"
    }
   },
   "outputs": [
    {
     "data": {
      "text/latex": [
       "$\\displaystyle \\frac{13}{3} + \\frac{307}{9 \\sqrt[3]{\\frac{4969}{27} + \\frac{\\sqrt{471498} i}{9}}} + \\sqrt[3]{\\frac{4969}{27} + \\frac{\\sqrt{471498} i}{9}}$"
      ],
      "text/plain": [
       "13/3 + 307/(9*(4969/27 + sqrt(471498)*I/9)**(1/3)) + (4969/27 + sqrt(471498)*I/9)**(1/3)"
      ]
     },
     "execution_count": 34,
     "metadata": {},
     "output_type": "execute_result"
    }
   ],
   "source": [
    "e3[0]"
   ]
  },
  {
   "cell_type": "code",
   "execution_count": 35,
   "id": "adc3ee71",
   "metadata": {},
   "outputs": [
    {
     "data": {
      "text/latex": [
       "$\\displaystyle \\left[\\begin{matrix}\\frac{306}{89} + \\frac{2149}{89 \\sqrt[3]{\\frac{4969}{27} + \\frac{\\sqrt{471498} i}{9}}} - \\frac{4 \\left(\\frac{13}{3} + \\frac{307}{9 \\sqrt[3]{\\frac{4969}{27} + \\frac{\\sqrt{471498} i}{9}}} + \\sqrt[3]{\\frac{4969}{27} + \\frac{\\sqrt{471498} i}{9}}\\right)^{2}}{89} + \\frac{63 \\sqrt[3]{\\frac{4969}{27} + \\frac{\\sqrt{471498} i}{9}}}{89}\\\\- \\frac{959}{267} - \\frac{44 \\sqrt[3]{\\frac{4969}{27} + \\frac{\\sqrt{471498} i}{9}}}{89} + \\frac{7 \\left(\\frac{13}{3} + \\frac{307}{9 \\sqrt[3]{\\frac{4969}{27} + \\frac{\\sqrt{471498} i}{9}}} + \\sqrt[3]{\\frac{4969}{27} + \\frac{\\sqrt{471498} i}{9}}\\right)^{2}}{178} - \\frac{13508}{801 \\sqrt[3]{\\frac{4969}{27} + \\frac{\\sqrt{471498} i}{9}}}\\\\1\\end{matrix}\\right]$"
      ],
      "text/plain": [
       "Matrix([\n",
       "[     306/89 + 2149/(89*(4969/27 + sqrt(471498)*I/9)**(1/3)) - 4*(13/3 + 307/(9*(4969/27 + sqrt(471498)*I/9)**(1/3)) + (4969/27 + sqrt(471498)*I/9)**(1/3))**2/89 + 63*(4969/27 + sqrt(471498)*I/9)**(1/3)/89],\n",
       "[-959/267 - 44*(4969/27 + sqrt(471498)*I/9)**(1/3)/89 + 7*(13/3 + 307/(9*(4969/27 + sqrt(471498)*I/9)**(1/3)) + (4969/27 + sqrt(471498)*I/9)**(1/3))**2/178 - 13508/(801*(4969/27 + sqrt(471498)*I/9)**(1/3))],\n",
       "[                                                                                                                                                                                                           1]])"
      ]
     },
     "execution_count": 35,
     "metadata": {},
     "output_type": "execute_result"
    }
   ],
   "source": [
    "e3[2][0]"
   ]
  },
  {
   "cell_type": "markdown",
   "id": "b7fcb3e9",
   "metadata": {
    "slideshow": {
     "slide_type": "slide"
    }
   },
   "source": [
    "### Triangular matrices\n",
    "\n",
    "$$\n",
    "\\begin{aligned}\n",
    "A &= \n",
    "\\begin{bmatrix}\n",
    "1 & 4 & 1\\\\\n",
    "0 & 6 & 4\\\\\n",
    "0 & 0 & 2\n",
    "\\end{bmatrix}\\\\\n",
    "A -\\lambda \\mathbf I &= \n",
    "\\begin{vmatrix}\n",
    "1-\\lambda & 4 & 1\\\\\n",
    "0 & 6-\\lambda & 4\\\\\n",
    "0 & 0 & 2-\\lambda \n",
    "\\end{vmatrix}\\\\\n",
    "&= 0\\\\\n",
    "(1-\\lambda)(6-\\lambda)(2-\\lambda) &= 0\\\\\n",
    "\\lambda_1 &= 6\\\\\n",
    "\\lambda_2 &= 2\\\\\n",
    "\\lambda_3 &= 1\n",
    "\\end{aligned}\n",
    "$$\n",
    "\n",
    "**In triangular matrices, the diagonal entries are the eigenvalues.**"
   ]
  },
  {
   "cell_type": "markdown",
   "id": "8ffe177c",
   "metadata": {
    "slideshow": {
     "slide_type": "slide"
    }
   },
   "source": [
    "## Matrix diagonalization\n",
    "\n",
    "Let $A$ be an $n\\times n$ matrix, which has $n$ **linearly independent eigenvectors** $\\mathbf v_1,\\ldots, \\mathbf v_n$.\n",
    "\n",
    "Let \n",
    "\n",
    "$$\n",
    "V = \\begin{bmatrix}\n",
    "| & \\cdots & |\\\\\n",
    "\\mathbf v_1&\\cdots & \\mathbf v_n\\\\\n",
    "| & \\cdots & |\\\\\n",
    "\\end{bmatrix}\n",
    "$$\n",
    "\n",
    "Let $\\lambda_1, \\ldots, \\lambda_n$ be the corresponding eigenvalues.\n",
    "\n",
    "$$\n",
    "\\begin{aligned}\n",
    "A\\mathbf v_1 &= \\lambda_1 \\mathbf v_1\\\\\n",
    " & \\vdots \\\\\n",
    "A\\mathbf v_n &= \\lambda_1 \\mathbf v_n\n",
    "\\end{aligned}\n",
    "$$\n",
    "\n",
    "In matrix notation:\n",
    "\n",
    "$$\n",
    "\\begin{aligned}\n",
    "A\\begin{bmatrix}\n",
    "| & \\cdots & |\\\\\n",
    "\\mathbf v_1&\\cdots & \\mathbf v_n\\\\\n",
    "| & \\cdots & |\\\\\n",
    "\\end{bmatrix} &= \n",
    "\\begin{bmatrix}\n",
    "| & \\cdots & |\\\\\n",
    "\\mathbf \\lambda_1 v_1&\\cdots & \\lambda_n \\mathbf v_n\\\\\n",
    "| & \\cdots & |\\\\\n",
    "\\end{bmatrix}\\\\\n",
    "AV &= \\begin{bmatrix}\n",
    "| & \\cdots & |\\\\\n",
    "\\mathbf \\lambda_1 v_1&\\cdots & \\lambda_n \\mathbf v_n\\\\\n",
    "| & \\cdots & |\\\\\n",
    "\\end{bmatrix}\\\\\n",
    "AV &= V\\begin{bmatrix}\n",
    "\\lambda_1 & \\cdots & 0\\\\\n",
    "0 & \\ddots & 0\\\\\n",
    "0 & \\cdots & \\lambda_n\n",
    "\\end{bmatrix}\n",
    "\\end{aligned}\n",
    "$$\n"
   ]
  },
  {
   "cell_type": "markdown",
   "id": "6f38257c",
   "metadata": {},
   "source": [
    "Let $\\Lambda$ be the diagonal matrix with $\\lambda_1,\\ldots,\\lambda_n$ as diagonal entries.\n",
    "\n",
    "$$\n",
    "AV = V\\Lambda\n",
    "$$\n",
    "\n",
    "By assumption, $V$ has independent columns, so it is invertible. Therefore\n",
    "\n",
    "$$\n",
    "A = V\\Lambda V^{-1}\n",
    "$$\n",
    "\n",
    "It also holds that:\n",
    "\n",
    "$$\n",
    "V^{-1}AV = \\Lambda\n",
    "$$\n",
    "\n",
    "This operation is called **diagonalization** of $A$, since $A$ is converted to a diagonal matrix."
   ]
  },
  {
   "cell_type": "markdown",
   "id": "22491cad",
   "metadata": {
    "slideshow": {
     "slide_type": "slide"
    }
   },
   "source": [
    "### Example\n",
    "\n",
    "$$\n",
    "\\begin{aligned}\n",
    "A &= \\left[\\begin{matrix}0.8 & 0.3\\\\0.2 & 0.7\\end{matrix}\\right]\\\\\n",
    "V &= \n",
    "\\begin{bmatrix}\n",
    "3 & -1\\\\\n",
    "2 & 1\n",
    "\\end{bmatrix}\\\\\n",
    "\\Lambda &= \\begin{bmatrix}\n",
    "1 & 0\\\\\n",
    "0 & 0.5\n",
    "\\end{bmatrix}\\\\\n",
    "V^{-1} &= \n",
    "\\begin{bmatrix}\n",
    "0.2 & 0.2\\\\\n",
    "-0.4 & 0.6\n",
    "\\end{bmatrix}\\\\\n",
    "A &= V \\Lambda V^{-1}\\\\\n",
    "\\left[\\begin{matrix}0.8 & 0.3\\\\0.2 & 0.7\\end{matrix}\\right] &=\n",
    "\\begin{bmatrix}\n",
    "3 & -1\\\\\n",
    "2 & 1\n",
    "\\end{bmatrix}\\begin{bmatrix}\n",
    "1 & 0\\\\\n",
    "0 & 0.5\n",
    "\\end{bmatrix}\\begin{bmatrix}\n",
    "0.2 & 0.2\\\\\n",
    "-0.4 & 0.6\n",
    "\\end{bmatrix}\\\\\n",
    "\\Lambda &= V^{-1}AV\\\\\n",
    "\\begin{bmatrix}\n",
    "1 & 0\\\\\n",
    "0 & 0.5\n",
    "\\end{bmatrix} &= \\begin{bmatrix}\n",
    "0.2 & 0.2\\\\\n",
    "-0.4 & 0.6\n",
    "\\end{bmatrix}\\left[\\begin{matrix}0.8 & 0.3\\\\0.2 & 0.7\\end{matrix}\\right]\\begin{bmatrix}\n",
    "3 & -1\\\\\n",
    "2 & 1\n",
    "\\end{bmatrix}\n",
    "\\end{aligned}\n",
    "$$\n"
   ]
  },
  {
   "cell_type": "markdown",
   "id": "599fed3f",
   "metadata": {
    "slideshow": {
     "slide_type": "slide"
    }
   },
   "source": [
    "### Matrix power\n",
    "\n",
    "Suppose $\\lambda, \\mathbf v$ are an eigenvalue and a corresponding eigenvector of $A$.\n",
    "\n",
    "$$\n",
    "\\begin{aligned}\n",
    "A\\mathbf v &= \\lambda \\mathbf v\\\\\n",
    "A^2\\mathbf v &= A\\lambda \\mathbf v\\\\\n",
    "&= \\lambda A\\mathbf v\\\\\n",
    "&= \\lambda ^2 \\mathbf v\n",
    "\\end{aligned}\n",
    "$$\n",
    "\n",
    "$\\mathbf v$ is also an eigenvector of $A^2$, and $\\lambda^2$ is the corresponding eigenvalue.\n",
    "\n",
    "Likewise, $\\mathbf v$ is also an eigenvector of $A^k$, and $\\lambda^k$ is the corresponding eigenvalue."
   ]
  },
  {
   "cell_type": "markdown",
   "id": "7e5a0876",
   "metadata": {},
   "source": [
    "### Matrix power\n",
    "\n",
    "Suppose $A$ is diagonalizable.\n",
    "\n",
    "$$\n",
    "\\begin{aligned}\n",
    "A &= V\\Lambda V^{-1}\\\\\n",
    "A^2 &= V\\Lambda V^{-1}V\\Lambda V^{-1}\\\\\n",
    "&= V\\Lambda^2V^{-1}\\\\\n",
    "&\\vdots\\\\\n",
    "A^k &= V\\Lambda^nV^{-1}\\\\\n",
    "&= V\n",
    "\\begin{bmatrix}\n",
    "\\lambda_1^k & \\cdots & 0\\\\\n",
    "0 & \\ddots & 0\\\\\n",
    "0 & \\cdots & \\lambda_n^k\n",
    "\\end{bmatrix}\n",
    "V^{-1}\\\\\n",
    "\\end{aligned}\n",
    "$$\n",
    "\n"
   ]
  },
  {
   "cell_type": "markdown",
   "id": "68ab6a88",
   "metadata": {
    "slideshow": {
     "slide_type": "slide"
    }
   },
   "source": [
    "## Matrix exponential\n",
    "\n",
    "If $A$ is diagonalizable:\n",
    "\n",
    "$$\n",
    "e^A = V\n",
    "\\begin{bmatrix}\n",
    "e^\\lambda_1 & \\cdots & 0\\\\\n",
    "0 & \\ddots & 0\\\\\n",
    "0 & \\cdots & ^e\\lambda_n\n",
    "\\end{bmatrix}\n",
    "V^{-1}\\\\\n",
    "$$\n",
    "\n"
   ]
  },
  {
   "cell_type": "markdown",
   "id": "c640751f",
   "metadata": {
    "slideshow": {
     "slide_type": "slide"
    }
   },
   "source": [
    "### Symmetric matrices\n",
    "\n",
    "Symmetric matrices are particularly well-behaved, when it comes to eigenvectors.\n",
    "\n",
    "#### Theorem\n",
    "- For each $n\\times n$ symmetric matrix there is a set of $n$ independent eigenvectors.\n",
    "- These eigenvectors can be chose so that they are mutually orthogonal and have unit length.\n",
    "- Each symmetric matrix can be diagonalized by an orthogonal matrix."
   ]
  },
  {
   "cell_type": "code",
   "execution_count": 36,
   "id": "69f84d06",
   "metadata": {},
   "outputs": [
    {
     "data": {
      "text/latex": [
       "$\\displaystyle \\left[\\begin{matrix}1 & 2\\\\2 & 1\\end{matrix}\\right]$"
      ],
      "text/plain": [
       "Matrix([\n",
       "[1, 2],\n",
       "[2, 1]])"
      ]
     },
     "execution_count": 36,
     "metadata": {},
     "output_type": "execute_result"
    }
   ],
   "source": [
    "A = Matrix([\n",
    "    [1, 2],\n",
    "    [2, 1]\n",
    "])\n",
    "A"
   ]
  },
  {
   "cell_type": "code",
   "execution_count": 37,
   "id": "d389adb7",
   "metadata": {},
   "outputs": [],
   "source": [
    "V, L = A.diagonalize(normalize=True)"
   ]
  },
  {
   "cell_type": "code",
   "execution_count": 38,
   "id": "bc278633",
   "metadata": {},
   "outputs": [
    {
     "data": {
      "text/latex": [
       "$\\displaystyle \\left[\\begin{matrix}- \\frac{\\sqrt{2}}{2} & \\frac{\\sqrt{2}}{2}\\\\\\frac{\\sqrt{2}}{2} & \\frac{\\sqrt{2}}{2}\\end{matrix}\\right]$"
      ],
      "text/plain": [
       "Matrix([\n",
       "[-sqrt(2)/2, sqrt(2)/2],\n",
       "[ sqrt(2)/2, sqrt(2)/2]])"
      ]
     },
     "execution_count": 38,
     "metadata": {},
     "output_type": "execute_result"
    }
   ],
   "source": [
    "V"
   ]
  },
  {
   "cell_type": "code",
   "execution_count": 39,
   "id": "1aeb151e",
   "metadata": {},
   "outputs": [
    {
     "data": {
      "text/latex": [
       "$\\displaystyle \\left[\\begin{matrix}-1 & 0\\\\0 & 3\\end{matrix}\\right]$"
      ],
      "text/plain": [
       "Matrix([\n",
       "[-1, 0],\n",
       "[ 0, 3]])"
      ]
     },
     "execution_count": 39,
     "metadata": {},
     "output_type": "execute_result"
    }
   ],
   "source": [
    "L"
   ]
  },
  {
   "cell_type": "code",
   "execution_count": 40,
   "id": "afdf16b7",
   "metadata": {},
   "outputs": [
    {
     "data": {
      "text/latex": [
       "$\\displaystyle \\left[\\begin{matrix}1 & 2\\\\2 & 1\\end{matrix}\\right]$"
      ],
      "text/plain": [
       "Matrix([\n",
       "[1, 2],\n",
       "[2, 1]])"
      ]
     },
     "execution_count": 40,
     "metadata": {},
     "output_type": "execute_result"
    }
   ],
   "source": [
    "V * L * V.T"
   ]
  },
  {
   "cell_type": "code",
   "execution_count": 41,
   "id": "2120f98d",
   "metadata": {},
   "outputs": [
    {
     "data": {
      "text/latex": [
       "$\\displaystyle \\left[\\begin{matrix}1 & 0\\\\0 & 1\\end{matrix}\\right]$"
      ],
      "text/plain": [
       "Matrix([\n",
       "[1, 0],\n",
       "[0, 1]])"
      ]
     },
     "execution_count": 41,
     "metadata": {},
     "output_type": "execute_result"
    }
   ],
   "source": [
    "V*V.T"
   ]
  },
  {
   "cell_type": "code",
   "execution_count": 81,
   "id": "964e38f1",
   "metadata": {},
   "outputs": [
    {
     "data": {
      "text/latex": [
       "$\\displaystyle \\left[\\begin{matrix}-1 & 2 & 2\\\\2 & 2 & -1\\\\2 & -1 & 3\\end{matrix}\\right]$"
      ],
      "text/plain": [
       "Matrix([\n",
       "[-1,  2,  2],\n",
       "[ 2,  2, -1],\n",
       "[ 2, -1,  3]])"
      ]
     },
     "execution_count": 81,
     "metadata": {},
     "output_type": "execute_result"
    }
   ],
   "source": [
    "A = Matrix([\n",
    "    [-1,2,2],\n",
    "    [2,2,-1],\n",
    "    [2,-1,3]\n",
    "])\n",
    "A"
   ]
  },
  {
   "cell_type": "code",
   "execution_count": 82,
   "id": "93b8c297",
   "metadata": {},
   "outputs": [],
   "source": [
    "V, L = A.diagonalize(normalize=True, sort=True)"
   ]
  },
  {
   "cell_type": "code",
   "execution_count": 88,
   "id": "64c9a4c4",
   "metadata": {},
   "outputs": [
    {
     "data": {
      "text/latex": [
       "$\\displaystyle \\left[\\begin{matrix}1 & 0 & 0\\\\0 & 1 & 0\\\\0 & 0 & 1\\end{matrix}\\right]$"
      ],
      "text/plain": [
       "Matrix([\n",
       "[1, 0, 0],\n",
       "[0, 1, 0],\n",
       "[0, 0, 1]])"
      ]
     },
     "execution_count": 88,
     "metadata": {},
     "output_type": "execute_result"
    }
   ],
   "source": [
    "simplify(V.T * V)"
   ]
  },
  {
   "cell_type": "code",
   "execution_count": 89,
   "id": "4788f839",
   "metadata": {},
   "outputs": [
    {
     "data": {
      "text/latex": [
       "$\\displaystyle \\left[\\begin{matrix}\\frac{\\sqrt{5}}{5} & - \\frac{\\sqrt{30 \\sqrt{5} + 90}}{15} & \\frac{\\sqrt{90 - 30 \\sqrt{5}}}{15}\\\\\\frac{2 \\sqrt{5}}{5} & \\frac{\\sqrt{30 \\sqrt{5} + 90}}{30} & - \\frac{\\sqrt{90 - 30 \\sqrt{5}}}{30}\\\\0 & \\frac{\\sqrt{6}}{3 \\sqrt{\\sqrt{5} + 3}} & \\frac{\\sqrt{6}}{3 \\sqrt{3 - \\sqrt{5}}}\\end{matrix}\\right]$"
      ],
      "text/plain": [
       "Matrix([\n",
       "[  sqrt(5)/5,     -sqrt(30*sqrt(5) + 90)/15,      sqrt(90 - 30*sqrt(5))/15],\n",
       "[2*sqrt(5)/5,      sqrt(30*sqrt(5) + 90)/30,     -sqrt(90 - 30*sqrt(5))/30],\n",
       "[          0, sqrt(6)/(3*sqrt(sqrt(5) + 3)), sqrt(6)/(3*sqrt(3 - sqrt(5)))]])"
      ]
     },
     "execution_count": 89,
     "metadata": {},
     "output_type": "execute_result"
    }
   ],
   "source": [
    "simplify(V)"
   ]
  },
  {
   "cell_type": "code",
   "execution_count": 85,
   "id": "adb503a5",
   "metadata": {},
   "outputs": [
    {
     "data": {
      "text/latex": [
       "$\\displaystyle \\left[\\begin{matrix}3 & 0 & 0\\\\0 & \\frac{1}{2} - \\frac{3 \\sqrt{5}}{2} & 0\\\\0 & 0 & \\frac{1}{2} + \\frac{3 \\sqrt{5}}{2}\\end{matrix}\\right]$"
      ],
      "text/plain": [
       "Matrix([\n",
       "[3,                 0,                 0],\n",
       "[0, 1/2 - 3*sqrt(5)/2,                 0],\n",
       "[0,                 0, 1/2 + 3*sqrt(5)/2]])"
      ]
     },
     "execution_count": 85,
     "metadata": {},
     "output_type": "execute_result"
    }
   ],
   "source": [
    "L"
   ]
  },
  {
   "cell_type": "code",
   "execution_count": 92,
   "id": "f71e0620",
   "metadata": {},
   "outputs": [
    {
     "data": {
      "text/latex": [
       "$\\displaystyle \\left[\\begin{matrix}-1 & 2 & 2\\\\2 & 2 & -1\\\\2 & -1 & 3\\end{matrix}\\right]$"
      ],
      "text/plain": [
       "Matrix([\n",
       "[-1,  2,  2],\n",
       "[ 2,  2, -1],\n",
       "[ 2, -1,  3]])"
      ]
     },
     "execution_count": 92,
     "metadata": {},
     "output_type": "execute_result"
    }
   ],
   "source": [
    "simplify(V * L * V.T)"
   ]
  },
  {
   "cell_type": "code",
   "execution_count": null,
   "id": "a1f121d3",
   "metadata": {},
   "outputs": [],
   "source": []
  }
 ],
 "metadata": {
  "celltoolbar": "Slideshow",
  "kernelspec": {
   "display_name": "Python 3 (linearAlgebra)",
   "language": "python",
   "name": "linearalgebra"
  },
  "language_info": {
   "codemirror_mode": {
    "name": "ipython",
    "version": 3
   },
   "file_extension": ".py",
   "mimetype": "text/x-python",
   "name": "python",
   "nbconvert_exporter": "python",
   "pygments_lexer": "ipython3",
   "version": "3.9.11"
  },
  "latex_envs": {
   "LaTeX_envs_menu_present": true,
   "autoclose": false,
   "autocomplete": true,
   "bibliofile": "biblio.bib",
   "cite_by": "apalike",
   "current_citInitial": 1,
   "eqLabelWithNumbers": true,
   "eqNumInitial": 1,
   "hotkeys": {
    "equation": "Ctrl-E",
    "itemize": "Ctrl-I"
   },
   "labels_anchors": false,
   "latex_user_defs": false,
   "report_style_numbering": false,
   "user_envs_cfg": false
  },
  "varInspector": {
   "cols": {
    "lenName": 16,
    "lenType": 16,
    "lenVar": 40
   },
   "kernels_config": {
    "python": {
     "delete_cmd_postfix": "",
     "delete_cmd_prefix": "del ",
     "library": "var_list.py",
     "varRefreshCmd": "print(var_dic_list())"
    },
    "r": {
     "delete_cmd_postfix": ") ",
     "delete_cmd_prefix": "rm(",
     "library": "var_list.r",
     "varRefreshCmd": "cat(var_dic_list()) "
    }
   },
   "types_to_exclude": [
    "module",
    "function",
    "builtin_function_or_method",
    "instance",
    "_Feature"
   ],
   "window_display": false
  }
 },
 "nbformat": 4,
 "nbformat_minor": 5
}
